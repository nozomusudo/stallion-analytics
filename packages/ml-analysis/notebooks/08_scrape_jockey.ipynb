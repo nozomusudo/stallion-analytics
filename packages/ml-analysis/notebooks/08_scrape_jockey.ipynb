{
 "cells": [
  {
   "cell_type": "code",
   "execution_count": null,
   "metadata": {},
   "outputs": [],
   "source": [
    "import sys\n",
    "import os\n",
    "import logging\n",
    "from datetime import datetime, date\n",
    "import pandas as pd\n",
    "import psycopg2\n",
    "from psycopg2.extras import RealDictCursor\n",
    "from sqlalchemy import create_engine\n",
    "import json\n",
    "from dotenv import load_dotenv\n",
    "\n",
    "# プロジェクトのルートディレクトリをパスに追加\n",
    "sys.path.append('..')\n",
    "\n",
    "# ログ設定\n",
    "logging.basicConfig(\n",
    "    level=logging.WARNING, # WARNING以上のみ表示（INFO, DEBUGを非表示）\n",
    "    format='%(asctime)s - %(name)s - %(levelname)s - %(message)s'\n",
    ")\n",
    "\n",
    "# 環境変数読み込み\n",
    "load_dotenv()\n",
    "\n",
    "print(\"=== 競馬レースデータ収集システム ===\")\n",
    "print(f\"実行時刻: {datetime.now()}\")\n",
    "\n",
    "# 必要なモジュールをインポート\n",
    "from src.scraping.scrapers.race_scraper import RaceScraper\n",
    "from src.scraping.scrapers.horse_scraper import HorseScraper\n",
    "from src.scraping.scrapers.jockey_scraper import JockeyScraper\n",
    "from src.scraping.scrapers.trainer_scraper import TrainerScraper\n",
    "from src.scraping.scrapers.owner_scraper import OwnerScraper\n",
    "from src.scraping.scrapers.breeder_scraper import BreederScraper\n",
    "from src.database.schemas.race_schema import Race, RaceResult\n",
    "from src.scraping.storage.postgresql_storage import PostgreSQLStorage\n",
    "\n",
    "print(\"✅ システム初期化完了\")\n",
    "\n"
   ]
  },
  {
   "cell_type": "code",
   "execution_count": null,
   "metadata": {},
   "outputs": [],
   "source": [
    "# =============================================================================\n",
    "# 1. 接続設定\n",
    "# =============================================================================\n",
    "\n",
    "print(\"🔌 データベース接続を設定中...\")\n",
    "\n",
    "# PostgreSQL接続設定\n",
    "pg_config = {\n",
    "    'host': os.getenv('POSTGRES_HOST', 'localhost'),\n",
    "    'database': os.getenv('POSTGRES_DB', 'stallion_db'),\n",
    "    'user': os.getenv('POSTGRES_USER', 'stallion_user'),\n",
    "    'password': os.getenv('POSTGRES_PASSWORD'),\n",
    "    'port': int(os.getenv('POSTGRES_PORT', '5432'))\n",
    "}\n",
    "\n",
    "# SQLAlchemy エンジン作成（pandasで使用）\n",
    "DATABASE_URL = f\"postgresql://{pg_config['user']}:{pg_config['password']}@{pg_config['host']}:{pg_config['port']}/{pg_config['database']}\"\n",
    "engine = create_engine(DATABASE_URL)\n",
    "\n",
    "print(\"✅ 接続設定完了\")\n",
    "\n",
    "\n",
    "# pandas\n",
    "def query(sql):\n",
    "    \"\"\"SQLクエリを実行してDataFrameで結果を返す\"\"\"\n",
    "    return pd.read_sql(sql, engine)\n"
   ]
  },
  {
   "cell_type": "markdown",
   "metadata": {},
   "source": [
    "---\n",
    "以下、騎手"
   ]
  },
  {
   "cell_type": "code",
   "execution_count": null,
   "metadata": {},
   "outputs": [],
   "source": [
    "# スクレイパーとストレージを初期化\n",
    "scraper = JockeyScraper(delay=2.0)  # 2秒間隔でリクエスト\n",
    "storage = PostgreSQLStorage()\n",
    "\n",
    "jockeys = scraper.scrape_jockeys(limit=1000)\n",
    "print(f\"取得した騎手数: {len(jockeys)}\")\n",
    "print(jockeys)"
   ]
  },
  {
   "cell_type": "code",
   "execution_count": null,
   "metadata": {},
   "outputs": [],
   "source": [
    "for jockey in jockeys:\n",
    "    storage.insert_jockey(jockey)\n",
    "    print (f\"Inserted jockey: {jockey.name_ja} ({jockey.jockey_id})\")"
   ]
  },
  {
   "cell_type": "markdown",
   "metadata": {},
   "source": [
    "---\n",
    "以下、調教師"
   ]
  },
  {
   "cell_type": "code",
   "execution_count": null,
   "metadata": {},
   "outputs": [],
   "source": [
    "# スクレイパーとストレージを初期化\n",
    "trainer_scraper = TrainerScraper(delay=2.0)  # 2秒間隔でリクエスト\n",
    "storage = PostgreSQLStorage()\n",
    "\n",
    "trainers = trainer_scraper.scrape_trainers(limit=1000)\n",
    "print(f\"取得した調教師数: {len(trainers)}\")\n",
    "print(trainers)"
   ]
  },
  {
   "cell_type": "code",
   "execution_count": null,
   "metadata": {},
   "outputs": [],
   "source": [
    "for i, trainer in enumerate(trainers):\n",
    "    storage.insert_trainer(trainer)\n",
    "    print (f\"Inserted trainer = {i+1} : {trainer.name_ja} ({trainer.trainer_id})\")"
   ]
  },
  {
   "cell_type": "code",
   "execution_count": null,
   "metadata": {},
   "outputs": [],
   "source": [
    "trainer_ids = [trainer.trainer_id for trainer in trainers]\n",
    "unique_trainer_ids = set(trainer_ids)\n",
    "print(f\"Trainer IDs: {trainer_ids}\")\n",
    "print(f\"Unique Trainer IDs: {unique_trainer_ids}\")\n",
    "print(f\"Total unique trainers: {len(unique_trainer_ids)}\")\n",
    "\n",
    "duplicate_trainer_ids = [trainer_id for trainer_id in unique_trainer_ids if trainer_ids.count(trainer_id) > 1]\n",
    "if duplicate_trainer_ids:\n",
    "    print(f\"Duplicate Trainer IDs found: {duplicate_trainer_ids}\")"
   ]
  },
  {
   "cell_type": "markdown",
   "metadata": {},
   "source": [
    "---\n",
    "以下、馬主"
   ]
  },
  {
   "cell_type": "code",
   "execution_count": null,
   "metadata": {},
   "outputs": [],
   "source": [
    "# スクレイパーとストレージを初期化\n",
    "owner_scraper = OwnerScraper(delay=2.0)  # 2秒間隔でリクエスト\n",
    "storage = PostgreSQLStorage()\n",
    "\n",
    "owners = owner_scraper.scrape_owners(limit=25000)\n",
    "print(f\"取得した馬主数: {len(owners)}\")\n",
    "print(owners)"
   ]
  },
  {
   "cell_type": "code",
   "execution_count": null,
   "metadata": {},
   "outputs": [],
   "source": [
    "for i, owner in enumerate(owners):\n",
    "    storage.insert_owner(owner)\n",
    "    print (f\"Inserted owner = {i+1} : {owner.name_ja} ({owner.owner_id})\")"
   ]
  },
  {
   "cell_type": "markdown",
   "metadata": {},
   "source": [
    "---\n",
    "以下、生産者"
   ]
  },
  {
   "cell_type": "code",
   "execution_count": null,
   "metadata": {},
   "outputs": [],
   "source": [
    "# スクレイパーとストレージを初期化\n",
    "breeder_scraper = BreederScraper(delay=2.0)  # 2秒間隔でリクエスト\n",
    "storage = PostgreSQLStorage()\n",
    "\n",
    "breeders = breeder_scraper.scrape_breeders(limit=11000)\n",
    "print(f\"取得した生産者数: {len(breeders)}\")\n",
    "print(breeders)"
   ]
  },
  {
   "cell_type": "code",
   "execution_count": null,
   "metadata": {},
   "outputs": [],
   "source": [
    "for i, breeder in enumerate(breeders):\n",
    "    storage.insert_breeder(breeder)\n",
    "    print (f\"Inserted breeder = {i+1} : {breeder.name_ja} ({breeder.breeder_id})\")"
   ]
  }
 ],
 "metadata": {
  "kernelspec": {
   "display_name": ".venv",
   "language": "python",
   "name": "python3"
  },
  "language_info": {
   "codemirror_mode": {
    "name": "ipython",
    "version": 3
   },
   "file_extension": ".py",
   "mimetype": "text/x-python",
   "name": "python",
   "nbconvert_exporter": "python",
   "pygments_lexer": "ipython3",
   "version": "3.13.0"
  }
 },
 "nbformat": 4,
 "nbformat_minor": 2
}
