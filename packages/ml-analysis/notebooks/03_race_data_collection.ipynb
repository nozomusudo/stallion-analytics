{
 "cells": [
  {
   "cell_type": "code",
   "execution_count": 10,
   "metadata": {},
   "outputs": [
    {
     "name": "stdout",
     "output_type": "stream",
     "text": [
      "=== 競馬レースデータ収集システム ===\n",
      "実行時刻: 2025-08-24 12:58:41.759835\n"
     ]
    }
   ],
   "source": [
    "import sys\n",
    "import os\n",
    "import logging\n",
    "from datetime import datetime, date\n",
    "import pandas as pd\n",
    "import json\n",
    "\n",
    "# プロジェクトのルートディレクトリをパスに追加\n",
    "sys.path.append('..')\n",
    "\n",
    "# ログ設定\n",
    "logging.basicConfig(\n",
    "    level=logging.INFO,\n",
    "    format='%(asctime)s - %(name)s - %(levelname)s - %(message)s'\n",
    ")\n",
    "\n",
    "print(\"=== 競馬レースデータ収集システム ===\")\n",
    "print(f\"実行時刻: {datetime.now()}\")\n"
   ]
  },
  {
   "cell_type": "code",
   "execution_count": 12,
   "metadata": {},
   "outputs": [
    {
     "ename": "TypeError",
     "evalue": "Can't instantiate abstract class RaceScraper without an implementation for abstract method 'scrape'",
     "output_type": "error",
     "traceback": [
      "\u001b[31m---------------------------------------------------------------------------\u001b[39m",
      "\u001b[31mTypeError\u001b[39m                                 Traceback (most recent call last)",
      "\u001b[36mCell\u001b[39m\u001b[36m \u001b[39m\u001b[32mIn[12]\u001b[39m\u001b[32m, line 7\u001b[39m\n\u001b[32m      4\u001b[39m \u001b[38;5;28;01mfrom\u001b[39;00m\u001b[38;5;250m \u001b[39m\u001b[34;01msrc\u001b[39;00m\u001b[34;01m.\u001b[39;00m\u001b[34;01mdatabase\u001b[39;00m\u001b[34;01m.\u001b[39;00m\u001b[34;01mschemas\u001b[39;00m\u001b[34;01m.\u001b[39;00m\u001b[34;01mrace_schema\u001b[39;00m\u001b[38;5;250m \u001b[39m\u001b[38;5;28;01mimport\u001b[39;00m Race, RaceResult\n\u001b[32m      6\u001b[39m \u001b[38;5;66;03m# スクレイパーとストレージを初期化\u001b[39;00m\n\u001b[32m----> \u001b[39m\u001b[32m7\u001b[39m scraper = \u001b[43mRaceScraper\u001b[49m\u001b[43m(\u001b[49m\u001b[43mdelay\u001b[49m\u001b[43m=\u001b[49m\u001b[32;43m1.0\u001b[39;49m\u001b[43m)\u001b[49m  \u001b[38;5;66;03m# 1秒間隔でリクエスト\u001b[39;00m\n\u001b[32m      8\u001b[39m storage = RaceStorage()\n\u001b[32m     10\u001b[39m \u001b[38;5;28mprint\u001b[39m(\u001b[33m\"\u001b[39m\u001b[33m✅ システム初期化完了\u001b[39m\u001b[33m\"\u001b[39m)\n",
      "\u001b[31mTypeError\u001b[39m: Can't instantiate abstract class RaceScraper without an implementation for abstract method 'scrape'"
     ]
    }
   ],
   "source": [
    "# 必要なモジュールをインポート\n",
    "from src.scraping.scrapers.race_scraper import RaceScraper\n",
    "from src.scraping.storage.race_storage import RaceStorage\n",
    "from src.database.schemas.race_schema import Race, RaceResult\n",
    "\n",
    "# スクレイパーとストレージを初期化\n",
    "scraper = RaceScraper(delay=1.0)  # 1秒間隔でリクエスト\n",
    "storage = RaceStorage()\n",
    "\n",
    "print(\"✅ システム初期化完了\")"
   ]
  }
 ],
 "metadata": {
  "kernelspec": {
   "display_name": ".venv",
   "language": "python",
   "name": "python3"
  },
  "language_info": {
   "codemirror_mode": {
    "name": "ipython",
    "version": 3
   },
   "file_extension": ".py",
   "mimetype": "text/x-python",
   "name": "python",
   "nbconvert_exporter": "python",
   "pygments_lexer": "ipython3",
   "version": "3.13.0"
  }
 },
 "nbformat": 4,
 "nbformat_minor": 2
}
