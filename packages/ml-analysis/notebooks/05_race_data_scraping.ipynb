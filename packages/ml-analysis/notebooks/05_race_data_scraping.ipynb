{
 "cells": [
  {
   "cell_type": "markdown",
   "metadata": {},
   "source": [
    "### レースデータを取得し登録するコード\n",
    "\n",
    "基本的に完全に動いている！！"
   ]
  },
  {
   "cell_type": "code",
   "execution_count": 1,
   "metadata": {},
   "outputs": [
    {
     "name": "stdout",
     "output_type": "stream",
     "text": [
      "=== 競馬レースデータ収集システム ===\n",
      "実行時刻: 2025-08-31 22:27:31.981230\n"
     ]
    }
   ],
   "source": [
    "import sys\n",
    "import os\n",
    "import logging\n",
    "from datetime import datetime, date\n",
    "import pandas as pd\n",
    "import json\n",
    "\n",
    "# プロジェクトのルートディレクトリをパスに追加\n",
    "sys.path.append('..')\n",
    "\n",
    "# ログ設定\n",
    "logging.basicConfig(\n",
    "    level=logging.WARNING, # WARNING以上のみ表示（INFO, DEBUGを非表示）\n",
    "    format='%(asctime)s - %(name)s - %(levelname)s - %(message)s'\n",
    ")\n",
    "\n",
    "print(\"=== 競馬レースデータ収集システム ===\")\n",
    "print(f\"実行時刻: {datetime.now()}\")\n"
   ]
  },
  {
   "cell_type": "code",
   "execution_count": 2,
   "metadata": {},
   "outputs": [
    {
     "name": "stdout",
     "output_type": "stream",
     "text": [
      "✅ システム初期化完了\n"
     ]
    }
   ],
   "source": [
    "# 必要なモジュールをインポート\n",
    "from src.scraping.scrapers.race_scraper import RaceScraper\n",
    "from src.scraping.storage.race_storage import RaceStorage\n",
    "from src.database.schemas.race_schema import Race, RaceResult\n",
    "from src.scraping.storage.postgresql_storage import PostgreSQLStorage\n",
    "\n",
    "# スクレイパーとストレージを初期化\n",
    "scraper = RaceScraper(delay=1.0)  # 1秒間隔でリクエスト\n",
    "storage = RaceStorage()\n",
    "\n",
    "print(\"✅ システム初期化完了\")"
   ]
  },
  {
   "cell_type": "code",
   "execution_count": 3,
   "metadata": {},
   "outputs": [
    {
     "name": "stderr",
     "output_type": "stream",
     "text": [
      "2025-08-31 22:27:37,071 - src.scraping.scrapers.race_scraper - INFO - Fetching race list: 2010-2018, grades: ['1'], limit: 140\n",
      "2025-08-31 22:27:37,072 - src.scraping.scrapers.race_scraper - INFO - Fetching page 1...\n"
     ]
    },
    {
     "name": "stdout",
     "output_type": "stream",
     "text": [
      "=== Testing Race List Extraction ===\n"
     ]
    },
    {
     "name": "stderr",
     "output_type": "stream",
     "text": [
      "2025-08-31 22:27:38,997 - src.scraping.extractors.race.race_list_extractor - INFO - Extracted 100 races from list\n",
      "2025-08-31 22:27:38,997 - src.scraping.scrapers.race_scraper - INFO - Page 1: Found 100 races\n",
      "2025-08-31 22:27:40,001 - src.scraping.scrapers.race_scraper - INFO - Fetching page 2...\n",
      "2025-08-31 22:27:41,225 - src.scraping.extractors.race.race_list_extractor - INFO - Extracted 84 races from list\n",
      "2025-08-31 22:27:41,226 - src.scraping.scrapers.race_scraper - INFO - Page 2: Found 84 races\n",
      "2025-08-31 22:27:41,226 - src.scraping.scrapers.race_scraper - INFO - Total races collected: 140\n"
     ]
    },
    {
     "name": "stdout",
     "output_type": "stream",
     "text": [
      "Found 140 races\n",
      "  - {'race_name': 'ホープフルS(GI)', 'race_id': '201806050911'}\n",
      "  - {'race_name': '有馬記念(GI)', 'race_id': '201806050811'}\n",
      "  - {'race_name': '朝日フューチュリティ(GI)', 'race_id': '201809050611'}\n"
     ]
    }
   ],
   "source": [
    "# レースリストを取得\n",
    "print(\"=== Testing Race List Extraction ===\")\n",
    "race_list = scraper.scrape_race_list_by_conditions(\n",
    "    start_year=2010,\n",
    "    end_year=2018,\n",
    "    grades=['1'],\n",
    "    limit=140\n",
    ")\n",
    "\n",
    "print(f\"Found {len(race_list)} races\")\n",
    "for race in race_list[:3]:  # 最初の3件のみ表示\n",
    "    print(f\"  - {race}\")"
   ]
  },
  {
   "cell_type": "code",
   "execution_count": 4,
   "metadata": {},
   "outputs": [
    {
     "name": "stdout",
     "output_type": "stream",
     "text": [
      "✅ レースリスト取得完了\n",
      "ホープフルS(GI) | 有馬記念(GI) | 朝日フューチュリティ(GI) | 阪神ジュベナイルF(GI) | ジャパンC(GI) | マイルチャンピオンS(GI) | エリザベス女王杯(GI) | 天皇賞(秋)(GI) | 菊花賞(GI) | 秋華賞(GI) | スプリンターズS(GI) | 宝塚記念(GI) | 安田記念(GI) | 東京優駿(GI) | 優駿牝馬(GI) | ヴィクトリアマイル(GI) | NHKマイルC(GI) | 天皇賞(春)(GI) | 皐月賞(GI) | 桜花賞(GI) | 大阪杯(GI) | 高松宮記念(GI) | ホープフルS(GI) | 有馬記念(GI) | 朝日フューチュリティ(GI) | 阪神ジュベナイルF(GI) | ジャパンC(GI) | マイルチャンピオンS(GI) | エリザベス女王杯(GI) | 天皇賞(秋)(GI) | 菊花賞(GI) | 秋華賞(GI) | スプリンターズS(GI) | 宝塚記念(GI) | 安田記念(GI) | 東京優駿(GI) | 優駿牝馬(GI) | ヴィクトリアマイル(GI) | NHKマイルC(GI) | 天皇賞(春)(GI) | 皐月賞(GI) | 桜花賞(GI) | 大阪杯(GI) | 高松宮記念(GI) | 有馬記念(GI) | 朝日フューチュリティ(GI) | 阪神ジュベナイルF(GI) | ジャパンC(GI) | マイルチャンピオンS(GI) | エリザベス女王杯(GI) | 天皇賞(秋)(GI) | 菊花賞(GI) | 秋華賞(GI) | スプリンターズS(GI) | 宝塚記念(GI) | 安田記念(GI) | 東京優駿(GI) | 優駿牝馬(GI) | ヴィクトリアマイル(GI) | NHKマイルC(GI) | 天皇賞(春)(GI) | 皐月賞(GI) | 桜花賞(GI) | 高松宮記念(GI) | 有馬記念(GI) | 朝日フューチュリティ(GI) | 阪神ジュベナイルF(GI) | ジャパンC(GI) | マイルチャンピオンS(GI) | エリザベス女王杯(GI) | 天皇賞(秋)(GI) | 菊花賞(GI) | 秋華賞(GI) | スプリンターズS(GI) | 宝塚記念(GI) | 安田記念(GI) | 東京優駿(GI) | 優駿牝馬(GI) | ヴィクトリアマイル(GI) | NHKマイルC(GI) | 天皇賞(春)(GI) | 皐月賞(GI) | 桜花賞(GI) | 高松宮記念(GI) | 有馬記念(GI) | 朝日フューチュリティ(GI) | 阪神ジュベナイルF(GI) | ジャパンC(GI) | マイルチャンピオンS(GI) | エリザベス女王杯(GI) | 天皇賞(秋)(GI) | 菊花賞(GI) | 秋華賞(GI) | スプリンターズS(GI) | 宝塚記念(GI) | 安田記念(GI) | 東京優駿(GI) | 優駿牝馬(GI) | ヴィクトリアマイル(GI) | NHKマイルC(GI) | 天皇賞(春)(GI) | 皐月賞(GI) | 桜花賞(GI) | 高松宮記念(GI) | 有馬記念(GI) | 朝日フューチュリティ(GI) | 阪神ジュベナイルF(GI) | ジャパンC(GI) | マイルチャンピオンS(GI) | エリザベス女王杯(GI) | 天皇賞(秋)(GI) | 菊花賞(GI) | 秋華賞(GI) | スプリンターズS(GI) | 宝塚記念(GI) | 安田記念(GI) | 東京優駿(GI) | 優駿牝馬(GI) | ヴィクトリアマイル(GI) | NHKマイルC(GI) | 天皇賞(春)(GI) | 皐月賞(GI) | 桜花賞(GI) | 高松宮記念(GI) | 有馬記念(GI) | 朝日フューチュリティ(GI) | 阪神ジュベナイルF(GI) | ジャパンC(GI) | マイルチャンピオンS(GI) | エリザベス女王杯(GI) | 天皇賞(秋)(GI) | 菊花賞(GI) | 秋華賞(GI) | スプリンターズS(GI) | 宝塚記念(GI) | 安田記念(GI) | 東京優駿(GI) | 優駿牝馬(GI) | ヴィクトリアマイル(GI) | NHKマイルC(GI)\n"
     ]
    }
   ],
   "source": [
    "# 取得できたレース名のみを全て羅列\n",
    "print(\"✅ レースリスト取得完了\")\n",
    "\n",
    "race_names = [race['race_name'] for race in race_list]\n",
    "print(\" | \".join(race_names))"
   ]
  },
  {
   "cell_type": "code",
   "execution_count": 5,
   "metadata": {},
   "outputs": [
    {
     "name": "stderr",
     "output_type": "stream",
     "text": [
      "2025-08-31 22:31:01,247 - src.scraping.storage.postgresql_storage - INFO - PostgreSQL connection test successful\n",
      "2025-08-31 22:31:01,249 - src.scraping.scrapers.race_scraper - INFO - race detail url: https://db.netkeiba.com/race/201806050911/\n",
      "2025-08-31 22:31:01,624 - src.scraping.extractors.race.race_detail_extractor - INFO - Extracted 13 race results for 201806050911\n",
      "2025-08-31 22:31:01,625 - src.scraping.scrapers.race_scraper - INFO - Successfully extracted race data: 201806050911 (13 horses)\n",
      "2025-08-31 22:31:01,625 - src.scraping.storage.postgresql_storage - INFO - Race Is: Race(race_id='201806050911', race_date=datetime.date(2018, 12, 28), track_name='中山', race_number=11, race_name='第35回ホープフルステークス(GI)', distance=2000, track_type='芝', total_horses=13, grade='G1', track_direction='右', weather='晴', track_condition='良', start_time=datetime.time(15, 30), winning_time='2:01.6', pace=None, prize_1st=None, race_class=None, race_conditions=None, created_at=None, updated_at=None)\n",
      "2025-08-31 22:31:01,736 - src.scraping.scrapers.race_scraper - INFO - race detail url: https://db.netkeiba.com/race/201806050811/\n"
     ]
    },
    {
     "name": "stdout",
     "output_type": "stream",
     "text": [
      "現在処理中のレース: Race(race_id='201806050911', race_date=datetime.date(2018, 12, 28), track_name='中山', race_number=11, race_name='第35回ホープフルステークス(GI)', distance=2000, track_type='芝', total_horses=13, grade='G1', track_direction='右', weather='晴', track_condition='良', start_time=datetime.time(15, 30), winning_time='2:01.6', pace=None, prize_1st=None, race_class=None, race_conditions=None, created_at=None, updated_at=None)\n"
     ]
    },
    {
     "name": "stderr",
     "output_type": "stream",
     "text": [
      "2025-08-31 22:31:02,824 - src.scraping.extractors.race.race_detail_extractor - INFO - Extracted 16 race results for 201806050811\n",
      "2025-08-31 22:31:02,825 - src.scraping.scrapers.race_scraper - INFO - Successfully extracted race data: 201806050811 (16 horses)\n",
      "2025-08-31 22:31:02,825 - src.scraping.storage.postgresql_storage - INFO - Race Is: Race(race_id='201806050811', race_date=datetime.date(2018, 12, 23), track_name='中山', race_number=11, race_name='第63回有馬記念(GI)', distance=2500, track_type='芝', total_horses=16, grade='G1', track_direction='右', weather='曇', track_condition='稍重', start_time=datetime.time(15, 25), winning_time='2:32.2', pace=None, prize_1st=None, race_class=None, race_conditions=None, created_at=None, updated_at=None)\n",
      "2025-08-31 22:31:02,959 - src.scraping.scrapers.race_scraper - INFO - race detail url: https://db.netkeiba.com/race/201809050611/\n"
     ]
    },
    {
     "name": "stdout",
     "output_type": "stream",
     "text": [
      "現在処理中のレース: Race(race_id='201806050811', race_date=datetime.date(2018, 12, 23), track_name='中山', race_number=11, race_name='第63回有馬記念(GI)', distance=2500, track_type='芝', total_horses=16, grade='G1', track_direction='右', weather='曇', track_condition='稍重', start_time=datetime.time(15, 25), winning_time='2:32.2', pace=None, prize_1st=None, race_class=None, race_conditions=None, created_at=None, updated_at=None)\n"
     ]
    },
    {
     "name": "stderr",
     "output_type": "stream",
     "text": [
      "2025-08-31 22:31:03,662 - src.scraping.extractors.race.race_detail_extractor - INFO - Extracted 15 race results for 201809050611\n",
      "2025-08-31 22:31:03,662 - src.scraping.scrapers.race_scraper - INFO - Successfully extracted race data: 201809050611 (15 horses)\n",
      "2025-08-31 22:31:03,663 - src.scraping.storage.postgresql_storage - INFO - Race Is: Race(race_id='201809050611', race_date=datetime.date(2018, 12, 16), track_name='阪神', race_number=11, race_name='第70回朝日フューチュリティ(GI)', distance=1600, track_type='芝', total_horses=15, grade='G1', track_direction='右', weather='小雨', track_condition='良', start_time=datetime.time(15, 40), winning_time='1:33.9', pace=None, prize_1st=None, race_class=None, race_conditions=None, created_at=None, updated_at=None)\n",
      "2025-08-31 22:31:03,823 - src.scraping.scrapers.race_scraper - INFO - race detail url: https://db.netkeiba.com/race/201809050411/\n"
     ]
    },
    {
     "name": "stdout",
     "output_type": "stream",
     "text": [
      "現在処理中のレース: Race(race_id='201809050611', race_date=datetime.date(2018, 12, 16), track_name='阪神', race_number=11, race_name='第70回朝日フューチュリティ(GI)', distance=1600, track_type='芝', total_horses=15, grade='G1', track_direction='右', weather='小雨', track_condition='良', start_time=datetime.time(15, 40), winning_time='1:33.9', pace=None, prize_1st=None, race_class=None, race_conditions=None, created_at=None, updated_at=None)\n"
     ]
    },
    {
     "name": "stderr",
     "output_type": "stream",
     "text": [
      "2025-08-31 22:31:04,395 - src.scraping.extractors.race.race_detail_extractor - INFO - Extracted 18 race results for 201809050411\n",
      "2025-08-31 22:31:04,396 - src.scraping.scrapers.race_scraper - INFO - Successfully extracted race data: 201809050411 (18 horses)\n",
      "2025-08-31 22:31:04,397 - src.scraping.storage.postgresql_storage - INFO - Race Is: Race(race_id='201809050411', race_date=datetime.date(2018, 12, 9), track_name='阪神', race_number=11, race_name='第70回阪神ジュベナイルF(GI)', distance=1600, track_type='芝', total_horses=18, grade='G1', track_direction='右', weather='晴', track_condition='良', start_time=datetime.time(15, 40), winning_time='1:34.1', pace=None, prize_1st=None, race_class=None, race_conditions=None, created_at=None, updated_at=None)\n",
      "2025-08-31 22:31:04,544 - src.scraping.scrapers.race_scraper - INFO - race detail url: https://db.netkeiba.com/race/201805050811/\n"
     ]
    },
    {
     "name": "stdout",
     "output_type": "stream",
     "text": [
      "現在処理中のレース: Race(race_id='201809050411', race_date=datetime.date(2018, 12, 9), track_name='阪神', race_number=11, race_name='第70回阪神ジュベナイルF(GI)', distance=1600, track_type='芝', total_horses=18, grade='G1', track_direction='右', weather='晴', track_condition='良', start_time=datetime.time(15, 40), winning_time='1:34.1', pace=None, prize_1st=None, race_class=None, race_conditions=None, created_at=None, updated_at=None)\n"
     ]
    },
    {
     "name": "stderr",
     "output_type": "stream",
     "text": [
      "2025-08-31 22:31:05,052 - src.scraping.extractors.race.race_detail_extractor - INFO - Extracted 14 race results for 201805050811\n",
      "2025-08-31 22:31:05,053 - src.scraping.scrapers.race_scraper - INFO - Successfully extracted race data: 201805050811 (14 horses)\n",
      "2025-08-31 22:31:05,053 - src.scraping.storage.postgresql_storage - INFO - Race Is: Race(race_id='201805050811', race_date=datetime.date(2018, 11, 25), track_name='東京', race_number=11, race_name='第38回ジャパンカップ(GI)', distance=2400, track_type='芝', total_horses=14, grade='G1', track_direction='左', weather='晴', track_condition='良', start_time=datetime.time(15, 40), winning_time='2:20.6', pace=None, prize_1st=None, race_class=None, race_conditions=None, created_at=None, updated_at=None)\n",
      "2025-08-31 22:31:05,169 - src.scraping.scrapers.race_scraper - INFO - race detail url: https://db.netkeiba.com/race/201808050611/\n"
     ]
    },
    {
     "name": "stdout",
     "output_type": "stream",
     "text": [
      "現在処理中のレース: Race(race_id='201805050811', race_date=datetime.date(2018, 11, 25), track_name='東京', race_number=11, race_name='第38回ジャパンカップ(GI)', distance=2400, track_type='芝', total_horses=14, grade='G1', track_direction='左', weather='晴', track_condition='良', start_time=datetime.time(15, 40), winning_time='2:20.6', pace=None, prize_1st=None, race_class=None, race_conditions=None, created_at=None, updated_at=None)\n"
     ]
    },
    {
     "name": "stderr",
     "output_type": "stream",
     "text": [
      "2025-08-31 22:31:05,803 - src.scraping.extractors.race.race_detail_extractor - INFO - Extracted 18 race results for 201808050611\n",
      "2025-08-31 22:31:05,804 - src.scraping.scrapers.race_scraper - INFO - Successfully extracted race data: 201808050611 (18 horses)\n",
      "2025-08-31 22:31:05,804 - src.scraping.storage.postgresql_storage - INFO - Race Is: Race(race_id='201808050611', race_date=datetime.date(2018, 11, 18), track_name='京都', race_number=11, race_name='第35回マイルチャンピオンS(GI)', distance=1600, track_type='芝', total_horses=18, grade='G1', track_direction='右', weather='晴', track_condition='良', start_time=datetime.time(15, 40), winning_time='1:33.3', pace=None, prize_1st=None, race_class=None, race_conditions=None, created_at=None, updated_at=None)\n",
      "2025-08-31 22:31:05,913 - src.scraping.scrapers.race_scraper - INFO - race detail url: https://db.netkeiba.com/race/201808050411/\n"
     ]
    },
    {
     "name": "stdout",
     "output_type": "stream",
     "text": [
      "現在処理中のレース: Race(race_id='201808050611', race_date=datetime.date(2018, 11, 18), track_name='京都', race_number=11, race_name='第35回マイルチャンピオンS(GI)', distance=1600, track_type='芝', total_horses=18, grade='G1', track_direction='右', weather='晴', track_condition='良', start_time=datetime.time(15, 40), winning_time='1:33.3', pace=None, prize_1st=None, race_class=None, race_conditions=None, created_at=None, updated_at=None)\n"
     ]
    },
    {
     "name": "stderr",
     "output_type": "stream",
     "text": [
      "2025-08-31 22:31:06,481 - src.scraping.extractors.race.race_detail_extractor - INFO - Extracted 17 race results for 201808050411\n",
      "2025-08-31 22:31:06,481 - src.scraping.scrapers.race_scraper - INFO - Successfully extracted race data: 201808050411 (17 horses)\n",
      "2025-08-31 22:31:06,482 - src.scraping.storage.postgresql_storage - INFO - Race Is: Race(race_id='201808050411', race_date=datetime.date(2018, 11, 11), track_name='京都', race_number=11, race_name='第43回エリザベス女王杯(GI)', distance=2200, track_type='芝', total_horses=17, grade='G1', track_direction='右', weather='晴', track_condition='良', start_time=datetime.time(15, 40), winning_time='2:13.1', pace=None, prize_1st=None, race_class=None, race_conditions=None, created_at=None, updated_at=None)\n",
      "2025-08-31 22:31:06,614 - src.scraping.scrapers.race_scraper - INFO - race detail url: https://db.netkeiba.com/race/201805040911/\n"
     ]
    },
    {
     "name": "stdout",
     "output_type": "stream",
     "text": [
      "現在処理中のレース: Race(race_id='201808050411', race_date=datetime.date(2018, 11, 11), track_name='京都', race_number=11, race_name='第43回エリザベス女王杯(GI)', distance=2200, track_type='芝', total_horses=17, grade='G1', track_direction='右', weather='晴', track_condition='良', start_time=datetime.time(15, 40), winning_time='2:13.1', pace=None, prize_1st=None, race_class=None, race_conditions=None, created_at=None, updated_at=None)\n"
     ]
    },
    {
     "name": "stderr",
     "output_type": "stream",
     "text": [
      "2025-08-31 22:31:06,937 - src.scraping.extractors.race.race_detail_extractor - INFO - Extracted 13 race results for 201805040911\n",
      "2025-08-31 22:31:06,938 - src.scraping.scrapers.race_scraper - INFO - Successfully extracted race data: 201805040911 (13 horses)\n",
      "2025-08-31 22:31:06,938 - src.scraping.storage.postgresql_storage - INFO - Race Is: Race(race_id='201805040911', race_date=datetime.date(2018, 10, 28), track_name='東京', race_number=11, race_name='第158回天皇賞(秋)(GI)', distance=2000, track_type='芝', total_horses=13, grade='G1', track_direction='左', weather='晴', track_condition='良', start_time=datetime.time(15, 40), winning_time='1:56.8', pace=None, prize_1st=None, race_class=None, race_conditions=None, created_at=None, updated_at=None)\n",
      "2025-08-31 22:31:07,037 - src.scraping.scrapers.race_scraper - INFO - race detail url: https://db.netkeiba.com/race/201808040711/\n"
     ]
    },
    {
     "name": "stdout",
     "output_type": "stream",
     "text": [
      "現在処理中のレース: Race(race_id='201805040911', race_date=datetime.date(2018, 10, 28), track_name='東京', race_number=11, race_name='第158回天皇賞(秋)(GI)', distance=2000, track_type='芝', total_horses=13, grade='G1', track_direction='左', weather='晴', track_condition='良', start_time=datetime.time(15, 40), winning_time='1:56.8', pace=None, prize_1st=None, race_class=None, race_conditions=None, created_at=None, updated_at=None)\n"
     ]
    },
    {
     "name": "stderr",
     "output_type": "stream",
     "text": [
      "2025-08-31 22:31:07,459 - src.scraping.extractors.race.race_detail_extractor - INFO - Extracted 18 race results for 201808040711\n",
      "2025-08-31 22:31:07,459 - src.scraping.scrapers.race_scraper - INFO - Successfully extracted race data: 201808040711 (18 horses)\n",
      "2025-08-31 22:31:07,460 - src.scraping.storage.postgresql_storage - INFO - Race Is: Race(race_id='201808040711', race_date=datetime.date(2018, 10, 21), track_name='京都', race_number=11, race_name='第79回菊花賞(GI)', distance=3000, track_type='芝', total_horses=18, grade='G1', track_direction='右', weather='晴', track_condition='良', start_time=datetime.time(15, 40), winning_time='3:06.1', pace=None, prize_1st=None, race_class=None, race_conditions=None, created_at=None, updated_at=None)\n",
      "2025-08-31 22:31:07,595 - src.scraping.scrapers.race_scraper - INFO - race detail url: https://db.netkeiba.com/race/201808040511/\n"
     ]
    },
    {
     "name": "stdout",
     "output_type": "stream",
     "text": [
      "現在処理中のレース: Race(race_id='201808040711', race_date=datetime.date(2018, 10, 21), track_name='京都', race_number=11, race_name='第79回菊花賞(GI)', distance=3000, track_type='芝', total_horses=18, grade='G1', track_direction='右', weather='晴', track_condition='良', start_time=datetime.time(15, 40), winning_time='3:06.1', pace=None, prize_1st=None, race_class=None, race_conditions=None, created_at=None, updated_at=None)\n"
     ]
    },
    {
     "name": "stderr",
     "output_type": "stream",
     "text": [
      "2025-08-31 22:31:07,977 - src.scraping.extractors.race.race_detail_extractor - INFO - Extracted 18 race results for 201808040511\n",
      "2025-08-31 22:31:07,977 - src.scraping.scrapers.race_scraper - INFO - Successfully extracted race data: 201808040511 (18 horses)\n",
      "2025-08-31 22:31:07,978 - src.scraping.storage.postgresql_storage - INFO - Race Is: Race(race_id='201808040511', race_date=datetime.date(2018, 10, 14), track_name='京都', race_number=11, race_name='第23回秋華賞(GI)', distance=2000, track_type='芝', total_horses=18, grade='G1', track_direction='右', weather='晴', track_condition='良', start_time=datetime.time(15, 40), winning_time='1:58.5', pace=None, prize_1st=None, race_class=None, race_conditions=None, created_at=None, updated_at=None)\n",
      "2025-08-31 22:31:08,115 - src.scraping.scrapers.race_scraper - INFO - race detail url: https://db.netkeiba.com/race/201806040911/\n"
     ]
    },
    {
     "name": "stdout",
     "output_type": "stream",
     "text": [
      "現在処理中のレース: Race(race_id='201808040511', race_date=datetime.date(2018, 10, 14), track_name='京都', race_number=11, race_name='第23回秋華賞(GI)', distance=2000, track_type='芝', total_horses=18, grade='G1', track_direction='右', weather='晴', track_condition='良', start_time=datetime.time(15, 40), winning_time='1:58.5', pace=None, prize_1st=None, race_class=None, race_conditions=None, created_at=None, updated_at=None)\n"
     ]
    },
    {
     "name": "stderr",
     "output_type": "stream",
     "text": [
      "2025-08-31 22:31:08,531 - src.scraping.extractors.race.race_detail_extractor - INFO - Extracted 16 race results for 201806040911\n",
      "2025-08-31 22:31:08,531 - src.scraping.scrapers.race_scraper - INFO - Successfully extracted race data: 201806040911 (16 horses)\n",
      "2025-08-31 22:31:08,531 - src.scraping.storage.postgresql_storage - INFO - Race Is: Race(race_id='201806040911', race_date=datetime.date(2018, 9, 30), track_name='中山', race_number=11, race_name='第52回スプリンターズS(GI)', distance=1200, track_type='芝', total_horses=16, grade='G1', track_direction='右', weather='雨', track_condition='稍重', start_time=datetime.time(15, 40), winning_time='1:08.3', pace=None, prize_1st=None, race_class=None, race_conditions=None, created_at=None, updated_at=None)\n"
     ]
    },
    {
     "name": "stdout",
     "output_type": "stream",
     "text": [
      "現在処理中のレース: Race(race_id='201806040911', race_date=datetime.date(2018, 9, 30), track_name='中山', race_number=11, race_name='第52回スプリンターズS(GI)', distance=1200, track_type='芝', total_horses=16, grade='G1', track_direction='右', weather='雨', track_condition='稍重', start_time=datetime.time(15, 40), winning_time='1:08.3', pace=None, prize_1st=None, race_class=None, race_conditions=None, created_at=None, updated_at=None)\n"
     ]
    },
    {
     "name": "stderr",
     "output_type": "stream",
     "text": [
      "2025-08-31 22:31:08,802 - src.scraping.scrapers.race_scraper - INFO - race detail url: https://db.netkeiba.com/race/201809030811/\n",
      "2025-08-31 22:31:09,206 - src.scraping.extractors.race.race_detail_extractor - INFO - Extracted 16 race results for 201809030811\n",
      "2025-08-31 22:31:09,207 - src.scraping.scrapers.race_scraper - INFO - Successfully extracted race data: 201809030811 (16 horses)\n",
      "2025-08-31 22:31:09,207 - src.scraping.storage.postgresql_storage - INFO - Race Is: Race(race_id='201809030811', race_date=datetime.date(2018, 6, 24), track_name='阪神', race_number=11, race_name='第59回宝塚記念(GI)', distance=2200, track_type='芝', total_horses=16, grade='G1', track_direction='右', weather='晴', track_condition='稍重', start_time=datetime.time(15, 40), winning_time='2:11.6', pace=None, prize_1st=None, race_class=None, race_conditions=None, created_at=None, updated_at=None)\n",
      "2025-08-31 22:31:09,347 - src.scraping.scrapers.race_scraper - INFO - race detail url: https://db.netkeiba.com/race/201805030211/\n"
     ]
    },
    {
     "name": "stdout",
     "output_type": "stream",
     "text": [
      "現在処理中のレース: Race(race_id='201809030811', race_date=datetime.date(2018, 6, 24), track_name='阪神', race_number=11, race_name='第59回宝塚記念(GI)', distance=2200, track_type='芝', total_horses=16, grade='G1', track_direction='右', weather='晴', track_condition='稍重', start_time=datetime.time(15, 40), winning_time='2:11.6', pace=None, prize_1st=None, race_class=None, race_conditions=None, created_at=None, updated_at=None)\n"
     ]
    },
    {
     "name": "stderr",
     "output_type": "stream",
     "text": [
      "2025-08-31 22:31:09,702 - src.scraping.extractors.race.race_detail_extractor - INFO - Extracted 16 race results for 201805030211\n",
      "2025-08-31 22:31:09,702 - src.scraping.scrapers.race_scraper - INFO - Successfully extracted race data: 201805030211 (16 horses)\n",
      "2025-08-31 22:31:09,703 - src.scraping.storage.postgresql_storage - INFO - Race Is: Race(race_id='201805030211', race_date=datetime.date(2018, 6, 3), track_name='東京', race_number=11, race_name='第68回安田記念(GI)', distance=1600, track_type='芝', total_horses=16, grade='G1', track_direction='左', weather='晴', track_condition='良', start_time=datetime.time(15, 40), winning_time='1:31.3', pace=None, prize_1st=None, race_class=None, race_conditions=None, created_at=None, updated_at=None)\n",
      "2025-08-31 22:31:09,815 - src.scraping.scrapers.race_scraper - INFO - race detail url: https://db.netkeiba.com/race/201805021210/\n"
     ]
    },
    {
     "name": "stdout",
     "output_type": "stream",
     "text": [
      "現在処理中のレース: Race(race_id='201805030211', race_date=datetime.date(2018, 6, 3), track_name='東京', race_number=11, race_name='第68回安田記念(GI)', distance=1600, track_type='芝', total_horses=16, grade='G1', track_direction='左', weather='晴', track_condition='良', start_time=datetime.time(15, 40), winning_time='1:31.3', pace=None, prize_1st=None, race_class=None, race_conditions=None, created_at=None, updated_at=None)\n"
     ]
    },
    {
     "name": "stderr",
     "output_type": "stream",
     "text": [
      "2025-08-31 22:31:10,585 - src.scraping.extractors.race.race_detail_extractor - INFO - Extracted 18 race results for 201805021210\n",
      "2025-08-31 22:31:10,586 - src.scraping.scrapers.race_scraper - INFO - Successfully extracted race data: 201805021210 (18 horses)\n",
      "2025-08-31 22:31:10,586 - src.scraping.storage.postgresql_storage - INFO - Race Is: Race(race_id='201805021210', race_date=datetime.date(2018, 5, 27), track_name='東京1', race_number=10, race_name='第85回東京優駿(GI)', distance=2400, track_type='芝', total_horses=18, grade='G1', track_direction='左', weather='晴', track_condition='良', start_time=datetime.time(15, 40), winning_time='2:23.6', pace=None, prize_1st=None, race_class=None, race_conditions=None, created_at=None, updated_at=None)\n",
      "2025-08-31 22:31:10,720 - src.scraping.scrapers.race_scraper - INFO - race detail url: https://db.netkeiba.com/race/201805021011/\n"
     ]
    },
    {
     "name": "stdout",
     "output_type": "stream",
     "text": [
      "現在処理中のレース: Race(race_id='201805021210', race_date=datetime.date(2018, 5, 27), track_name='東京1', race_number=10, race_name='第85回東京優駿(GI)', distance=2400, track_type='芝', total_horses=18, grade='G1', track_direction='左', weather='晴', track_condition='良', start_time=datetime.time(15, 40), winning_time='2:23.6', pace=None, prize_1st=None, race_class=None, race_conditions=None, created_at=None, updated_at=None)\n"
     ]
    },
    {
     "name": "stderr",
     "output_type": "stream",
     "text": [
      "2025-08-31 22:31:11,723 - src.scraping.extractors.race.race_detail_extractor - INFO - Extracted 18 race results for 201805021011\n",
      "2025-08-31 22:31:11,724 - src.scraping.scrapers.race_scraper - INFO - Successfully extracted race data: 201805021011 (18 horses)\n",
      "2025-08-31 22:31:11,724 - src.scraping.storage.postgresql_storage - INFO - Race Is: Race(race_id='201805021011', race_date=datetime.date(2018, 5, 20), track_name='東京1', race_number=11, race_name='第79回優駿牝馬(GI)', distance=2400, track_type='芝', total_horses=18, grade='G1', track_direction='左', weather='晴', track_condition='良', start_time=datetime.time(15, 40), winning_time='2:23.8', pace=None, prize_1st=None, race_class=None, race_conditions=None, created_at=None, updated_at=None)\n"
     ]
    },
    {
     "name": "stdout",
     "output_type": "stream",
     "text": [
      "現在処理中のレース: Race(race_id='201805021011', race_date=datetime.date(2018, 5, 20), track_name='東京1', race_number=11, race_name='第79回優駿牝馬(GI)', distance=2400, track_type='芝', total_horses=18, grade='G1', track_direction='左', weather='晴', track_condition='良', start_time=datetime.time(15, 40), winning_time='2:23.8', pace=None, prize_1st=None, race_class=None, race_conditions=None, created_at=None, updated_at=None)\n"
     ]
    },
    {
     "name": "stderr",
     "output_type": "stream",
     "text": [
      "2025-08-31 22:31:11,935 - src.scraping.scrapers.race_scraper - INFO - race detail url: https://db.netkeiba.com/race/201805020811/\n",
      "2025-08-31 22:31:12,289 - src.scraping.extractors.race.race_detail_extractor - INFO - Extracted 18 race results for 201805020811\n",
      "2025-08-31 22:31:12,289 - src.scraping.scrapers.race_scraper - INFO - Successfully extracted race data: 201805020811 (18 horses)\n",
      "2025-08-31 22:31:12,290 - src.scraping.storage.postgresql_storage - INFO - Race Is: Race(race_id='201805020811', race_date=datetime.date(2018, 5, 13), track_name='東京', race_number=11, race_name='第13回ヴィクトリアマイル(GI)', distance=1600, track_type='芝', total_horses=18, grade='G1', track_direction='左', weather='雨', track_condition='稍重', start_time=datetime.time(15, 40), winning_time='1:32.3', pace=None, prize_1st=None, race_class=None, race_conditions=None, created_at=None, updated_at=None)\n",
      "2025-08-31 22:31:12,444 - src.scraping.scrapers.race_scraper - INFO - race detail url: https://db.netkeiba.com/race/201805020611/\n"
     ]
    },
    {
     "name": "stdout",
     "output_type": "stream",
     "text": [
      "現在処理中のレース: Race(race_id='201805020811', race_date=datetime.date(2018, 5, 13), track_name='東京', race_number=11, race_name='第13回ヴィクトリアマイル(GI)', distance=1600, track_type='芝', total_horses=18, grade='G1', track_direction='左', weather='雨', track_condition='稍重', start_time=datetime.time(15, 40), winning_time='1:32.3', pace=None, prize_1st=None, race_class=None, race_conditions=None, created_at=None, updated_at=None)\n"
     ]
    },
    {
     "name": "stderr",
     "output_type": "stream",
     "text": [
      "2025-08-31 22:31:12,972 - src.scraping.extractors.race.race_detail_extractor - INFO - Extracted 18 race results for 201805020611\n",
      "2025-08-31 22:31:12,973 - src.scraping.scrapers.race_scraper - INFO - Successfully extracted race data: 201805020611 (18 horses)\n",
      "2025-08-31 22:31:12,973 - src.scraping.storage.postgresql_storage - INFO - Race Is: Race(race_id='201805020611', race_date=datetime.date(2018, 5, 6), track_name='東京', race_number=11, race_name='第23回NHKマイルカップ(GI)', distance=1600, track_type='芝', total_horses=18, grade='G1', track_direction='左', weather='晴', track_condition='良', start_time=datetime.time(15, 40), winning_time='1:32.8', pace=None, prize_1st=None, race_class=None, race_conditions=None, created_at=None, updated_at=None)\n",
      "2025-08-31 22:31:13,100 - src.scraping.scrapers.race_scraper - INFO - race detail url: https://db.netkeiba.com/race/201808030411/\n"
     ]
    },
    {
     "name": "stdout",
     "output_type": "stream",
     "text": [
      "現在処理中のレース: Race(race_id='201805020611', race_date=datetime.date(2018, 5, 6), track_name='東京', race_number=11, race_name='第23回NHKマイルカップ(GI)', distance=1600, track_type='芝', total_horses=18, grade='G1', track_direction='左', weather='晴', track_condition='良', start_time=datetime.time(15, 40), winning_time='1:32.8', pace=None, prize_1st=None, race_class=None, race_conditions=None, created_at=None, updated_at=None)\n"
     ]
    },
    {
     "name": "stderr",
     "output_type": "stream",
     "text": [
      "2025-08-31 22:31:13,878 - src.scraping.extractors.race.race_detail_extractor - INFO - Extracted 17 race results for 201808030411\n",
      "2025-08-31 22:31:13,879 - src.scraping.scrapers.race_scraper - INFO - Successfully extracted race data: 201808030411 (17 horses)\n",
      "2025-08-31 22:31:13,879 - src.scraping.storage.postgresql_storage - INFO - Race Is: Race(race_id='201808030411', race_date=datetime.date(2018, 4, 29), track_name='京都', race_number=11, race_name='第157回天皇賞(春)(GI)', distance=3200, track_type='芝', total_horses=17, grade='G1', track_direction='右', weather='晴', track_condition='良', start_time=datetime.time(15, 40), winning_time='3:16.2', pace=None, prize_1st=None, race_class=None, race_conditions=None, created_at=None, updated_at=None)\n",
      "2025-08-31 22:31:14,003 - src.scraping.scrapers.race_scraper - INFO - race detail url: https://db.netkeiba.com/race/201806030811/\n"
     ]
    },
    {
     "name": "stdout",
     "output_type": "stream",
     "text": [
      "現在処理中のレース: Race(race_id='201808030411', race_date=datetime.date(2018, 4, 29), track_name='京都', race_number=11, race_name='第157回天皇賞(春)(GI)', distance=3200, track_type='芝', total_horses=17, grade='G1', track_direction='右', weather='晴', track_condition='良', start_time=datetime.time(15, 40), winning_time='3:16.2', pace=None, prize_1st=None, race_class=None, race_conditions=None, created_at=None, updated_at=None)\n"
     ]
    },
    {
     "name": "stderr",
     "output_type": "stream",
     "text": [
      "2025-08-31 22:31:14,246 - src.scraping.extractors.race.race_detail_extractor - INFO - Extracted 16 race results for 201806030811\n",
      "2025-08-31 22:31:14,246 - src.scraping.scrapers.race_scraper - INFO - Successfully extracted race data: 201806030811 (16 horses)\n",
      "2025-08-31 22:31:14,247 - src.scraping.storage.postgresql_storage - INFO - Race Is: Race(race_id='201806030811', race_date=datetime.date(2018, 4, 15), track_name='中山', race_number=11, race_name='第78回皐月賞(GI)', distance=2000, track_type='芝', total_horses=16, grade='G1', track_direction='右', weather='曇', track_condition='稍重', start_time=datetime.time(15, 40), winning_time='2:00.8', pace=None, prize_1st=None, race_class=None, race_conditions=None, created_at=None, updated_at=None)\n",
      "2025-08-31 22:31:14,378 - src.scraping.scrapers.race_scraper - INFO - race detail url: https://db.netkeiba.com/race/201809020611/\n"
     ]
    },
    {
     "name": "stdout",
     "output_type": "stream",
     "text": [
      "現在処理中のレース: Race(race_id='201806030811', race_date=datetime.date(2018, 4, 15), track_name='中山', race_number=11, race_name='第78回皐月賞(GI)', distance=2000, track_type='芝', total_horses=16, grade='G1', track_direction='右', weather='曇', track_condition='稍重', start_time=datetime.time(15, 40), winning_time='2:00.8', pace=None, prize_1st=None, race_class=None, race_conditions=None, created_at=None, updated_at=None)\n"
     ]
    },
    {
     "name": "stderr",
     "output_type": "stream",
     "text": [
      "2025-08-31 22:31:15,037 - src.scraping.extractors.race.race_detail_extractor - INFO - Extracted 18 race results for 201809020611\n",
      "2025-08-31 22:31:15,038 - src.scraping.scrapers.race_scraper - INFO - Successfully extracted race data: 201809020611 (18 horses)\n",
      "2025-08-31 22:31:15,038 - src.scraping.storage.postgresql_storage - INFO - Race Is: Race(race_id='201809020611', race_date=datetime.date(2018, 4, 8), track_name='阪神', race_number=11, race_name='第78回桜花賞(GI)', distance=1600, track_type='芝', total_horses=18, grade='G1', track_direction='右', weather='晴', track_condition='良', start_time=datetime.time(15, 40), winning_time='1:33.1', pace=None, prize_1st=None, race_class=None, race_conditions=None, created_at=None, updated_at=None)\n",
      "2025-08-31 22:31:15,155 - src.scraping.scrapers.race_scraper - INFO - race detail url: https://db.netkeiba.com/race/201809020411/\n",
      "2025-08-31 22:31:15,233 - src.scraping.extractors.race.race_detail_extractor - INFO - Extracted 16 race results for 201809020411\n",
      "2025-08-31 22:31:15,234 - src.scraping.scrapers.race_scraper - INFO - Successfully extracted race data: 201809020411 (16 horses)\n",
      "2025-08-31 22:31:15,234 - src.scraping.storage.postgresql_storage - INFO - Race Is: Race(race_id='201809020411', race_date=datetime.date(2018, 4, 1), track_name='阪神', race_number=11, race_name='第62回大阪杯(GI)', distance=2000, track_type='芝', total_horses=16, grade='G1', track_direction='右', weather='晴', track_condition='良', start_time=datetime.time(15, 40), winning_time='1:58.2', pace=None, prize_1st=None, race_class=None, race_conditions=None, created_at=None, updated_at=None)\n"
     ]
    },
    {
     "name": "stdout",
     "output_type": "stream",
     "text": [
      "現在処理中のレース: Race(race_id='201809020611', race_date=datetime.date(2018, 4, 8), track_name='阪神', race_number=11, race_name='第78回桜花賞(GI)', distance=1600, track_type='芝', total_horses=18, grade='G1', track_direction='右', weather='晴', track_condition='良', start_time=datetime.time(15, 40), winning_time='1:33.1', pace=None, prize_1st=None, race_class=None, race_conditions=None, created_at=None, updated_at=None)\n",
      "現在処理中のレース: Race(race_id='201809020411', race_date=datetime.date(2018, 4, 1), track_name='阪神', race_number=11, race_name='第62回大阪杯(GI)', distance=2000, track_type='芝', total_horses=16, grade='G1', track_direction='右', weather='晴', track_condition='良', start_time=datetime.time(15, 40), winning_time='1:58.2', pace=None, prize_1st=None, race_class=None, race_conditions=None, created_at=None, updated_at=None)\n"
     ]
    },
    {
     "name": "stderr",
     "output_type": "stream",
     "text": [
      "2025-08-31 22:31:15,409 - src.scraping.scrapers.race_scraper - INFO - race detail url: https://db.netkeiba.com/race/201807020611/\n",
      "2025-08-31 22:31:16,098 - src.scraping.extractors.race.race_detail_extractor - INFO - Extracted 18 race results for 201807020611\n",
      "2025-08-31 22:31:16,098 - src.scraping.scrapers.race_scraper - INFO - Successfully extracted race data: 201807020611 (18 horses)\n",
      "2025-08-31 22:31:16,099 - src.scraping.storage.postgresql_storage - INFO - Race Is: Race(race_id='201807020611', race_date=datetime.date(2018, 3, 25), track_name='中京', race_number=11, race_name='第48回高松宮記念(GI)', distance=1200, track_type='芝', total_horses=18, grade='G1', track_direction='左', weather='晴', track_condition='良', start_time=datetime.time(15, 40), winning_time='1:08.5', pace=None, prize_1st=None, race_class=None, race_conditions=None, created_at=None, updated_at=None)\n"
     ]
    },
    {
     "name": "stdout",
     "output_type": "stream",
     "text": [
      "現在処理中のレース: Race(race_id='201807020611', race_date=datetime.date(2018, 3, 25), track_name='中京', race_number=11, race_name='第48回高松宮記念(GI)', distance=1200, track_type='芝', total_horses=18, grade='G1', track_direction='左', weather='晴', track_condition='良', start_time=datetime.time(15, 40), winning_time='1:08.5', pace=None, prize_1st=None, race_class=None, race_conditions=None, created_at=None, updated_at=None)\n"
     ]
    },
    {
     "name": "stderr",
     "output_type": "stream",
     "text": [
      "2025-08-31 22:31:16,299 - src.scraping.scrapers.race_scraper - INFO - race detail url: https://db.netkeiba.com/race/201706050911/\n",
      "2025-08-31 22:31:16,750 - src.scraping.extractors.race.race_detail_extractor - INFO - Extracted 17 race results for 201706050911\n",
      "2025-08-31 22:31:16,752 - src.scraping.scrapers.race_scraper - INFO - Successfully extracted race data: 201706050911 (17 horses)\n",
      "2025-08-31 22:31:16,752 - src.scraping.storage.postgresql_storage - INFO - Race Is: Race(race_id='201706050911', race_date=datetime.date(2017, 12, 28), track_name='中山', race_number=11, race_name='第34回ホープフルステークス(GI)', distance=2000, track_type='芝', total_horses=17, grade='G1', track_direction='右', weather='晴', track_condition='良', start_time=datetime.time(15, 30), winning_time='2:01.4', pace=None, prize_1st=None, race_class=None, race_conditions=None, created_at=None, updated_at=None)\n",
      "2025-08-31 22:31:16,936 - src.scraping.scrapers.race_scraper - INFO - race detail url: https://db.netkeiba.com/race/201706050811/\n"
     ]
    },
    {
     "name": "stdout",
     "output_type": "stream",
     "text": [
      "現在処理中のレース: Race(race_id='201706050911', race_date=datetime.date(2017, 12, 28), track_name='中山', race_number=11, race_name='第34回ホープフルステークス(GI)', distance=2000, track_type='芝', total_horses=17, grade='G1', track_direction='右', weather='晴', track_condition='良', start_time=datetime.time(15, 30), winning_time='2:01.4', pace=None, prize_1st=None, race_class=None, race_conditions=None, created_at=None, updated_at=None)\n"
     ]
    },
    {
     "name": "stderr",
     "output_type": "stream",
     "text": [
      "2025-08-31 22:31:17,497 - src.scraping.extractors.race.race_detail_extractor - INFO - Extracted 16 race results for 201706050811\n",
      "2025-08-31 22:31:17,497 - src.scraping.scrapers.race_scraper - INFO - Successfully extracted race data: 201706050811 (16 horses)\n",
      "2025-08-31 22:31:17,498 - src.scraping.storage.postgresql_storage - INFO - Race Is: Race(race_id='201706050811', race_date=datetime.date(2017, 12, 24), track_name='中山', race_number=11, race_name='第62回有馬記念(GI)', distance=2500, track_type='芝', total_horses=16, grade='G1', track_direction='右', weather='晴', track_condition='良', start_time=datetime.time(15, 25), winning_time='2:33.6', pace=None, prize_1st=None, race_class=None, race_conditions=None, created_at=None, updated_at=None)\n",
      "2025-08-31 22:31:17,618 - src.scraping.scrapers.race_scraper - INFO - race detail url: https://db.netkeiba.com/race/201709050611/\n"
     ]
    },
    {
     "name": "stdout",
     "output_type": "stream",
     "text": [
      "現在処理中のレース: Race(race_id='201706050811', race_date=datetime.date(2017, 12, 24), track_name='中山', race_number=11, race_name='第62回有馬記念(GI)', distance=2500, track_type='芝', total_horses=16, grade='G1', track_direction='右', weather='晴', track_condition='良', start_time=datetime.time(15, 25), winning_time='2:33.6', pace=None, prize_1st=None, race_class=None, race_conditions=None, created_at=None, updated_at=None)\n"
     ]
    },
    {
     "name": "stderr",
     "output_type": "stream",
     "text": [
      "2025-08-31 22:31:18,521 - src.scraping.extractors.race.race_detail_extractor - INFO - Extracted 16 race results for 201709050611\n",
      "2025-08-31 22:31:18,521 - src.scraping.scrapers.race_scraper - INFO - Successfully extracted race data: 201709050611 (16 horses)\n",
      "2025-08-31 22:31:18,522 - src.scraping.storage.postgresql_storage - INFO - Race Is: Race(race_id='201709050611', race_date=datetime.date(2017, 12, 17), track_name='阪神', race_number=11, race_name='第69回朝日フューチュリティ(GI)', distance=1600, track_type='芝', total_horses=16, grade='G1', track_direction='右', weather='晴', track_condition='良', start_time=datetime.time(15, 40), winning_time='1:33.3', pace=None, prize_1st=None, race_class=None, race_conditions=None, created_at=None, updated_at=None)\n",
      "2025-08-31 22:31:18,659 - src.scraping.scrapers.race_scraper - INFO - race detail url: https://db.netkeiba.com/race/201709050411/\n"
     ]
    },
    {
     "name": "stdout",
     "output_type": "stream",
     "text": [
      "現在処理中のレース: Race(race_id='201709050611', race_date=datetime.date(2017, 12, 17), track_name='阪神', race_number=11, race_name='第69回朝日フューチュリティ(GI)', distance=1600, track_type='芝', total_horses=16, grade='G1', track_direction='右', weather='晴', track_condition='良', start_time=datetime.time(15, 40), winning_time='1:33.3', pace=None, prize_1st=None, race_class=None, race_conditions=None, created_at=None, updated_at=None)\n"
     ]
    },
    {
     "name": "stderr",
     "output_type": "stream",
     "text": [
      "2025-08-31 22:31:19,453 - src.scraping.extractors.race.race_detail_extractor - INFO - Extracted 18 race results for 201709050411\n",
      "2025-08-31 22:31:19,454 - src.scraping.scrapers.race_scraper - INFO - Successfully extracted race data: 201709050411 (18 horses)\n",
      "2025-08-31 22:31:19,454 - src.scraping.storage.postgresql_storage - INFO - Race Is: Race(race_id='201709050411', race_date=datetime.date(2017, 12, 10), track_name='阪神', race_number=11, race_name='第69回阪神ジュベナイルF(GI)', distance=1600, track_type='芝', total_horses=18, grade='G1', track_direction='右', weather='晴', track_condition='良', start_time=datetime.time(15, 40), winning_time='1:34.3', pace=None, prize_1st=None, race_class=None, race_conditions=None, created_at=None, updated_at=None)\n",
      "2025-08-31 22:31:19,622 - src.scraping.scrapers.race_scraper - INFO - race detail url: https://db.netkeiba.com/race/201705050811/\n"
     ]
    },
    {
     "name": "stdout",
     "output_type": "stream",
     "text": [
      "現在処理中のレース: Race(race_id='201709050411', race_date=datetime.date(2017, 12, 10), track_name='阪神', race_number=11, race_name='第69回阪神ジュベナイルF(GI)', distance=1600, track_type='芝', total_horses=18, grade='G1', track_direction='右', weather='晴', track_condition='良', start_time=datetime.time(15, 40), winning_time='1:34.3', pace=None, prize_1st=None, race_class=None, race_conditions=None, created_at=None, updated_at=None)\n"
     ]
    },
    {
     "name": "stderr",
     "output_type": "stream",
     "text": [
      "2025-08-31 22:31:19,725 - src.scraping.extractors.race.race_detail_extractor - INFO - Extracted 17 race results for 201705050811\n",
      "2025-08-31 22:31:19,726 - src.scraping.scrapers.race_scraper - INFO - Successfully extracted race data: 201705050811 (17 horses)\n",
      "2025-08-31 22:31:19,726 - src.scraping.storage.postgresql_storage - INFO - Race Is: Race(race_id='201705050811', race_date=datetime.date(2017, 11, 26), track_name='東京', race_number=11, race_name='第37回ジャパンカップ(GI)', distance=2400, track_type='芝', total_horses=17, grade='G1', track_direction='左', weather='晴', track_condition='良', start_time=datetime.time(15, 40), winning_time='2:23.7', pace=None, prize_1st=None, race_class=None, race_conditions=None, created_at=None, updated_at=None)\n",
      "2025-08-31 22:31:19,861 - src.scraping.scrapers.race_scraper - INFO - race detail url: https://db.netkeiba.com/race/201708050611/\n"
     ]
    },
    {
     "name": "stdout",
     "output_type": "stream",
     "text": [
      "現在処理中のレース: Race(race_id='201705050811', race_date=datetime.date(2017, 11, 26), track_name='東京', race_number=11, race_name='第37回ジャパンカップ(GI)', distance=2400, track_type='芝', total_horses=17, grade='G1', track_direction='左', weather='晴', track_condition='良', start_time=datetime.time(15, 40), winning_time='2:23.7', pace=None, prize_1st=None, race_class=None, race_conditions=None, created_at=None, updated_at=None)\n"
     ]
    },
    {
     "name": "stderr",
     "output_type": "stream",
     "text": [
      "2025-08-31 22:31:21,199 - src.scraping.extractors.race.race_detail_extractor - INFO - Extracted 18 race results for 201708050611\n",
      "2025-08-31 22:31:21,200 - src.scraping.scrapers.race_scraper - INFO - Successfully extracted race data: 201708050611 (18 horses)\n",
      "2025-08-31 22:31:21,200 - src.scraping.storage.postgresql_storage - INFO - Race Is: Race(race_id='201708050611', race_date=datetime.date(2017, 11, 19), track_name='京都', race_number=11, race_name='第34回マイルチャンピオンS(GI)', distance=1600, track_type='芝', total_horses=18, grade='G1', track_direction='右', weather='晴', track_condition='稍重', start_time=datetime.time(15, 40), winning_time='1:33.8', pace=None, prize_1st=None, race_class=None, race_conditions=None, created_at=None, updated_at=None)\n",
      "2025-08-31 22:31:21,386 - src.scraping.scrapers.race_scraper - INFO - race detail url: https://db.netkeiba.com/race/201708050411/\n"
     ]
    },
    {
     "name": "stdout",
     "output_type": "stream",
     "text": [
      "現在処理中のレース: Race(race_id='201708050611', race_date=datetime.date(2017, 11, 19), track_name='京都', race_number=11, race_name='第34回マイルチャンピオンS(GI)', distance=1600, track_type='芝', total_horses=18, grade='G1', track_direction='右', weather='晴', track_condition='稍重', start_time=datetime.time(15, 40), winning_time='1:33.8', pace=None, prize_1st=None, race_class=None, race_conditions=None, created_at=None, updated_at=None)\n"
     ]
    },
    {
     "name": "stderr",
     "output_type": "stream",
     "text": [
      "2025-08-31 22:31:23,083 - src.scraping.extractors.race.race_detail_extractor - INFO - Extracted 18 race results for 201708050411\n",
      "2025-08-31 22:31:23,083 - src.scraping.scrapers.race_scraper - INFO - Successfully extracted race data: 201708050411 (18 horses)\n",
      "2025-08-31 22:31:23,084 - src.scraping.storage.postgresql_storage - INFO - Race Is: Race(race_id='201708050411', race_date=datetime.date(2017, 11, 12), track_name='京都', race_number=11, race_name='第42回エリザベス女王杯(GI)', distance=2200, track_type='芝', total_horses=18, grade='G1', track_direction='右', weather='晴', track_condition='良', start_time=datetime.time(15, 40), winning_time='2:14.3', pace=None, prize_1st=None, race_class=None, race_conditions=None, created_at=None, updated_at=None)\n",
      "2025-08-31 22:31:23,228 - src.scraping.scrapers.race_scraper - INFO - race detail url: https://db.netkeiba.com/race/201705040911/\n"
     ]
    },
    {
     "name": "stdout",
     "output_type": "stream",
     "text": [
      "現在処理中のレース: Race(race_id='201708050411', race_date=datetime.date(2017, 11, 12), track_name='京都', race_number=11, race_name='第42回エリザベス女王杯(GI)', distance=2200, track_type='芝', total_horses=18, grade='G1', track_direction='右', weather='晴', track_condition='良', start_time=datetime.time(15, 40), winning_time='2:14.3', pace=None, prize_1st=None, race_class=None, race_conditions=None, created_at=None, updated_at=None)\n"
     ]
    },
    {
     "name": "stderr",
     "output_type": "stream",
     "text": [
      "2025-08-31 22:31:23,616 - src.scraping.extractors.race.race_detail_extractor - INFO - Extracted 18 race results for 201705040911\n",
      "2025-08-31 22:31:23,617 - src.scraping.scrapers.race_scraper - INFO - Successfully extracted race data: 201705040911 (18 horses)\n",
      "2025-08-31 22:31:23,617 - src.scraping.storage.postgresql_storage - INFO - Race Is: Race(race_id='201705040911', race_date=datetime.date(2017, 10, 29), track_name='東京', race_number=11, race_name='第156回天皇賞(秋)(GI)', distance=2000, track_type='芝', total_horses=18, grade='G1', track_direction='左', weather='雨', track_condition='不良', start_time=datetime.time(15, 40), winning_time='2:08.3', pace=None, prize_1st=None, race_class=None, race_conditions=None, created_at=None, updated_at=None)\n",
      "2025-08-31 22:31:23,763 - src.scraping.scrapers.race_scraper - INFO - race detail url: https://db.netkeiba.com/race/201708040711/\n"
     ]
    },
    {
     "name": "stdout",
     "output_type": "stream",
     "text": [
      "現在処理中のレース: Race(race_id='201705040911', race_date=datetime.date(2017, 10, 29), track_name='東京', race_number=11, race_name='第156回天皇賞(秋)(GI)', distance=2000, track_type='芝', total_horses=18, grade='G1', track_direction='左', weather='雨', track_condition='不良', start_time=datetime.time(15, 40), winning_time='2:08.3', pace=None, prize_1st=None, race_class=None, race_conditions=None, created_at=None, updated_at=None)\n"
     ]
    },
    {
     "name": "stderr",
     "output_type": "stream",
     "text": [
      "2025-08-31 22:31:23,879 - src.scraping.extractors.race.race_detail_extractor - INFO - Extracted 18 race results for 201708040711\n",
      "2025-08-31 22:31:23,880 - src.scraping.scrapers.race_scraper - INFO - Successfully extracted race data: 201708040711 (18 horses)\n",
      "2025-08-31 22:31:23,880 - src.scraping.storage.postgresql_storage - INFO - Race Is: Race(race_id='201708040711', race_date=datetime.date(2017, 10, 22), track_name='京都', race_number=11, race_name='第78回菊花賞(GI)', distance=3000, track_type='芝', total_horses=18, grade='G1', track_direction='右', weather='雨', track_condition='不良', start_time=datetime.time(15, 40), winning_time='3:18.9', pace=None, prize_1st=None, race_class=None, race_conditions=None, created_at=None, updated_at=None)\n",
      "2025-08-31 22:31:24,032 - src.scraping.scrapers.race_scraper - INFO - race detail url: https://db.netkeiba.com/race/201708040511/\n"
     ]
    },
    {
     "name": "stdout",
     "output_type": "stream",
     "text": [
      "現在処理中のレース: Race(race_id='201708040711', race_date=datetime.date(2017, 10, 22), track_name='京都', race_number=11, race_name='第78回菊花賞(GI)', distance=3000, track_type='芝', total_horses=18, grade='G1', track_direction='右', weather='雨', track_condition='不良', start_time=datetime.time(15, 40), winning_time='3:18.9', pace=None, prize_1st=None, race_class=None, race_conditions=None, created_at=None, updated_at=None)\n"
     ]
    },
    {
     "name": "stderr",
     "output_type": "stream",
     "text": [
      "2025-08-31 22:31:24,630 - src.scraping.extractors.race.race_detail_extractor - INFO - Extracted 18 race results for 201708040511\n",
      "2025-08-31 22:31:24,630 - src.scraping.scrapers.race_scraper - INFO - Successfully extracted race data: 201708040511 (18 horses)\n",
      "2025-08-31 22:31:24,631 - src.scraping.storage.postgresql_storage - INFO - Race Is: Race(race_id='201708040511', race_date=datetime.date(2017, 10, 15), track_name='京都', race_number=11, race_name='第22回秋華賞(GI)', distance=2000, track_type='芝', total_horses=18, grade='G1', track_direction='右', weather='雨', track_condition='重', start_time=datetime.time(15, 40), winning_time='2:00.2', pace=None, prize_1st=None, race_class=None, race_conditions=None, created_at=None, updated_at=None)\n"
     ]
    },
    {
     "name": "stdout",
     "output_type": "stream",
     "text": [
      "現在処理中のレース: Race(race_id='201708040511', race_date=datetime.date(2017, 10, 15), track_name='京都', race_number=11, race_name='第22回秋華賞(GI)', distance=2000, track_type='芝', total_horses=18, grade='G1', track_direction='右', weather='雨', track_condition='重', start_time=datetime.time(15, 40), winning_time='2:00.2', pace=None, prize_1st=None, race_class=None, race_conditions=None, created_at=None, updated_at=None)\n"
     ]
    },
    {
     "name": "stderr",
     "output_type": "stream",
     "text": [
      "2025-08-31 22:31:24,843 - src.scraping.scrapers.race_scraper - INFO - race detail url: https://db.netkeiba.com/race/201706040911/\n",
      "2025-08-31 22:31:25,326 - src.scraping.extractors.race.race_detail_extractor - INFO - Extracted 16 race results for 201706040911\n",
      "2025-08-31 22:31:25,327 - src.scraping.scrapers.race_scraper - INFO - Successfully extracted race data: 201706040911 (16 horses)\n",
      "2025-08-31 22:31:25,327 - src.scraping.storage.postgresql_storage - INFO - Race Is: Race(race_id='201706040911', race_date=datetime.date(2017, 10, 1), track_name='中山', race_number=11, race_name='第51回スプリンターズS(GI)', distance=1200, track_type='芝', total_horses=16, grade='G1', track_direction='右', weather='曇', track_condition='良', start_time=datetime.time(15, 40), winning_time='1:07.6', pace=None, prize_1st=None, race_class=None, race_conditions=None, created_at=None, updated_at=None)\n",
      "2025-08-31 22:31:25,469 - src.scraping.scrapers.race_scraper - INFO - race detail url: https://db.netkeiba.com/race/201709030811/\n"
     ]
    },
    {
     "name": "stdout",
     "output_type": "stream",
     "text": [
      "現在処理中のレース: Race(race_id='201706040911', race_date=datetime.date(2017, 10, 1), track_name='中山', race_number=11, race_name='第51回スプリンターズS(GI)', distance=1200, track_type='芝', total_horses=16, grade='G1', track_direction='右', weather='曇', track_condition='良', start_time=datetime.time(15, 40), winning_time='1:07.6', pace=None, prize_1st=None, race_class=None, race_conditions=None, created_at=None, updated_at=None)\n"
     ]
    },
    {
     "name": "stderr",
     "output_type": "stream",
     "text": [
      "2025-08-31 22:31:25,842 - src.scraping.extractors.race.race_detail_extractor - INFO - Extracted 11 race results for 201709030811\n",
      "2025-08-31 22:31:25,842 - src.scraping.scrapers.race_scraper - INFO - Successfully extracted race data: 201709030811 (11 horses)\n",
      "2025-08-31 22:31:25,843 - src.scraping.storage.postgresql_storage - INFO - Race Is: Race(race_id='201709030811', race_date=datetime.date(2017, 6, 25), track_name='阪神', race_number=11, race_name='第58回宝塚記念(GI)', distance=2200, track_type='芝', total_horses=11, grade='G1', track_direction='右', weather='曇', track_condition='稍重', start_time=datetime.time(15, 40), winning_time='2:11.4', pace=None, prize_1st=None, race_class=None, race_conditions=None, created_at=None, updated_at=None)\n",
      "2025-08-31 22:31:25,943 - src.scraping.scrapers.race_scraper - INFO - race detail url: https://db.netkeiba.com/race/201705030211/\n"
     ]
    },
    {
     "name": "stdout",
     "output_type": "stream",
     "text": [
      "現在処理中のレース: Race(race_id='201709030811', race_date=datetime.date(2017, 6, 25), track_name='阪神', race_number=11, race_name='第58回宝塚記念(GI)', distance=2200, track_type='芝', total_horses=11, grade='G1', track_direction='右', weather='曇', track_condition='稍重', start_time=datetime.time(15, 40), winning_time='2:11.4', pace=None, prize_1st=None, race_class=None, race_conditions=None, created_at=None, updated_at=None)\n"
     ]
    },
    {
     "name": "stderr",
     "output_type": "stream",
     "text": [
      "2025-08-31 22:31:26,585 - src.scraping.extractors.race.race_detail_extractor - INFO - Extracted 18 race results for 201705030211\n",
      "2025-08-31 22:31:26,585 - src.scraping.scrapers.race_scraper - INFO - Successfully extracted race data: 201705030211 (18 horses)\n",
      "2025-08-31 22:31:26,586 - src.scraping.storage.postgresql_storage - INFO - Race Is: Race(race_id='201705030211', race_date=datetime.date(2017, 6, 4), track_name='東京', race_number=11, race_name='第67回安田記念(GI)', distance=1600, track_type='芝', total_horses=18, grade='G1', track_direction='左', weather='晴', track_condition='良', start_time=datetime.time(15, 40), winning_time='1:31.5', pace=None, prize_1st=None, race_class=None, race_conditions=None, created_at=None, updated_at=None)\n",
      "2025-08-31 22:31:26,779 - src.scraping.scrapers.race_scraper - INFO - race detail url: https://db.netkeiba.com/race/201705021210/\n"
     ]
    },
    {
     "name": "stdout",
     "output_type": "stream",
     "text": [
      "現在処理中のレース: Race(race_id='201705030211', race_date=datetime.date(2017, 6, 4), track_name='東京', race_number=11, race_name='第67回安田記念(GI)', distance=1600, track_type='芝', total_horses=18, grade='G1', track_direction='左', weather='晴', track_condition='良', start_time=datetime.time(15, 40), winning_time='1:31.5', pace=None, prize_1st=None, race_class=None, race_conditions=None, created_at=None, updated_at=None)\n"
     ]
    },
    {
     "name": "stderr",
     "output_type": "stream",
     "text": [
      "2025-08-31 22:31:27,077 - src.scraping.extractors.race.race_detail_extractor - INFO - Extracted 18 race results for 201705021210\n",
      "2025-08-31 22:31:27,077 - src.scraping.scrapers.race_scraper - INFO - Successfully extracted race data: 201705021210 (18 horses)\n",
      "2025-08-31 22:31:27,078 - src.scraping.storage.postgresql_storage - INFO - Race Is: Race(race_id='201705021210', race_date=datetime.date(2017, 5, 28), track_name='東京1', race_number=10, race_name='第84回東京優駿(GI)', distance=2400, track_type='芝', total_horses=18, grade='G1', track_direction='左', weather='晴', track_condition='良', start_time=datetime.time(15, 40), winning_time='2:26.9', pace=None, prize_1st=None, race_class=None, race_conditions=None, created_at=None, updated_at=None)\n",
      "2025-08-31 22:31:27,220 - src.scraping.scrapers.race_scraper - INFO - race detail url: https://db.netkeiba.com/race/201705021011/\n"
     ]
    },
    {
     "name": "stdout",
     "output_type": "stream",
     "text": [
      "現在処理中のレース: Race(race_id='201705021210', race_date=datetime.date(2017, 5, 28), track_name='東京1', race_number=10, race_name='第84回東京優駿(GI)', distance=2400, track_type='芝', total_horses=18, grade='G1', track_direction='左', weather='晴', track_condition='良', start_time=datetime.time(15, 40), winning_time='2:26.9', pace=None, prize_1st=None, race_class=None, race_conditions=None, created_at=None, updated_at=None)\n"
     ]
    },
    {
     "name": "stderr",
     "output_type": "stream",
     "text": [
      "2025-08-31 22:31:27,478 - src.scraping.extractors.race.race_detail_extractor - INFO - Extracted 18 race results for 201705021011\n",
      "2025-08-31 22:31:27,479 - src.scraping.scrapers.race_scraper - INFO - Successfully extracted race data: 201705021011 (18 horses)\n",
      "2025-08-31 22:31:27,479 - src.scraping.storage.postgresql_storage - INFO - Race Is: Race(race_id='201705021011', race_date=datetime.date(2017, 5, 21), track_name='東京1', race_number=11, race_name='第78回優駿牝馬(GI)', distance=2400, track_type='芝', total_horses=18, grade='G1', track_direction='左', weather='晴', track_condition='良', start_time=datetime.time(15, 40), winning_time='2:24.1', pace=None, prize_1st=None, race_class=None, race_conditions=None, created_at=None, updated_at=None)\n",
      "2025-08-31 22:31:27,665 - src.scraping.scrapers.race_scraper - INFO - race detail url: https://db.netkeiba.com/race/201705020811/\n"
     ]
    },
    {
     "name": "stdout",
     "output_type": "stream",
     "text": [
      "現在処理中のレース: Race(race_id='201705021011', race_date=datetime.date(2017, 5, 21), track_name='東京1', race_number=11, race_name='第78回優駿牝馬(GI)', distance=2400, track_type='芝', total_horses=18, grade='G1', track_direction='左', weather='晴', track_condition='良', start_time=datetime.time(15, 40), winning_time='2:24.1', pace=None, prize_1st=None, race_class=None, race_conditions=None, created_at=None, updated_at=None)\n"
     ]
    },
    {
     "name": "stderr",
     "output_type": "stream",
     "text": [
      "2025-08-31 22:31:28,327 - src.scraping.extractors.race.race_detail_extractor - INFO - Extracted 17 race results for 201705020811\n",
      "2025-08-31 22:31:28,328 - src.scraping.scrapers.race_scraper - INFO - Successfully extracted race data: 201705020811 (17 horses)\n",
      "2025-08-31 22:31:28,328 - src.scraping.storage.postgresql_storage - INFO - Race Is: Race(race_id='201705020811', race_date=datetime.date(2017, 5, 14), track_name='東京', race_number=11, race_name='第12回ヴィクトリアマイル(GI)', distance=1600, track_type='芝', total_horses=17, grade='G1', track_direction='左', weather='曇', track_condition='稍重', start_time=datetime.time(15, 40), winning_time='1:33.9', pace=None, prize_1st=None, race_class=None, race_conditions=None, created_at=None, updated_at=None)\n",
      "2025-08-31 22:31:28,505 - src.scraping.scrapers.race_scraper - INFO - race detail url: https://db.netkeiba.com/race/201705020611/\n"
     ]
    },
    {
     "name": "stdout",
     "output_type": "stream",
     "text": [
      "現在処理中のレース: Race(race_id='201705020811', race_date=datetime.date(2017, 5, 14), track_name='東京', race_number=11, race_name='第12回ヴィクトリアマイル(GI)', distance=1600, track_type='芝', total_horses=17, grade='G1', track_direction='左', weather='曇', track_condition='稍重', start_time=datetime.time(15, 40), winning_time='1:33.9', pace=None, prize_1st=None, race_class=None, race_conditions=None, created_at=None, updated_at=None)\n"
     ]
    },
    {
     "name": "stderr",
     "output_type": "stream",
     "text": [
      "2025-08-31 22:31:28,897 - src.scraping.extractors.race.race_detail_extractor - INFO - Extracted 18 race results for 201705020611\n",
      "2025-08-31 22:31:28,898 - src.scraping.scrapers.race_scraper - INFO - Successfully extracted race data: 201705020611 (18 horses)\n",
      "2025-08-31 22:31:28,898 - src.scraping.storage.postgresql_storage - INFO - Race Is: Race(race_id='201705020611', race_date=datetime.date(2017, 5, 7), track_name='東京', race_number=11, race_name='第22回NHKマイルカップ(GI)', distance=1600, track_type='芝', total_horses=18, grade='G1', track_direction='左', weather='曇', track_condition='良', start_time=datetime.time(15, 40), winning_time='1:32.3', pace=None, prize_1st=None, race_class=None, race_conditions=None, created_at=None, updated_at=None)\n",
      "2025-08-31 22:31:29,087 - src.scraping.scrapers.race_scraper - INFO - race detail url: https://db.netkeiba.com/race/201708030411/\n"
     ]
    },
    {
     "name": "stdout",
     "output_type": "stream",
     "text": [
      "現在処理中のレース: Race(race_id='201705020611', race_date=datetime.date(2017, 5, 7), track_name='東京', race_number=11, race_name='第22回NHKマイルカップ(GI)', distance=1600, track_type='芝', total_horses=18, grade='G1', track_direction='左', weather='曇', track_condition='良', start_time=datetime.time(15, 40), winning_time='1:32.3', pace=None, prize_1st=None, race_class=None, race_conditions=None, created_at=None, updated_at=None)\n"
     ]
    },
    {
     "name": "stderr",
     "output_type": "stream",
     "text": [
      "2025-08-31 22:31:29,621 - src.scraping.extractors.race.race_detail_extractor - INFO - Extracted 17 race results for 201708030411\n",
      "2025-08-31 22:31:29,622 - src.scraping.scrapers.race_scraper - INFO - Successfully extracted race data: 201708030411 (17 horses)\n",
      "2025-08-31 22:31:29,622 - src.scraping.storage.postgresql_storage - INFO - Race Is: Race(race_id='201708030411', race_date=datetime.date(2017, 4, 30), track_name='京都', race_number=11, race_name='第155回天皇賞(春)(GI)', distance=3200, track_type='芝', total_horses=17, grade='G1', track_direction='右', weather='晴', track_condition='良', start_time=datetime.time(15, 40), winning_time='3:12.5', pace=None, prize_1st=None, race_class=None, race_conditions=None, created_at=None, updated_at=None)\n",
      "2025-08-31 22:31:29,773 - src.scraping.scrapers.race_scraper - INFO - race detail url: https://db.netkeiba.com/race/201706030811/\n"
     ]
    },
    {
     "name": "stdout",
     "output_type": "stream",
     "text": [
      "現在処理中のレース: Race(race_id='201708030411', race_date=datetime.date(2017, 4, 30), track_name='京都', race_number=11, race_name='第155回天皇賞(春)(GI)', distance=3200, track_type='芝', total_horses=17, grade='G1', track_direction='右', weather='晴', track_condition='良', start_time=datetime.time(15, 40), winning_time='3:12.5', pace=None, prize_1st=None, race_class=None, race_conditions=None, created_at=None, updated_at=None)\n"
     ]
    },
    {
     "name": "stderr",
     "output_type": "stream",
     "text": [
      "2025-08-31 22:31:30,145 - src.scraping.extractors.race.race_detail_extractor - INFO - Extracted 18 race results for 201706030811\n",
      "2025-08-31 22:31:30,146 - src.scraping.scrapers.race_scraper - INFO - Successfully extracted race data: 201706030811 (18 horses)\n",
      "2025-08-31 22:31:30,146 - src.scraping.storage.postgresql_storage - INFO - Race Is: Race(race_id='201706030811', race_date=datetime.date(2017, 4, 16), track_name='中山', race_number=11, race_name='第77回皐月賞(GI)', distance=2000, track_type='芝', total_horses=18, grade='G1', track_direction='右', weather='晴', track_condition='良', start_time=datetime.time(15, 40), winning_time='1:57.8', pace=None, prize_1st=None, race_class=None, race_conditions=None, created_at=None, updated_at=None)\n",
      "2025-08-31 22:31:30,319 - src.scraping.scrapers.race_scraper - INFO - race detail url: https://db.netkeiba.com/race/201709020611/\n"
     ]
    },
    {
     "name": "stdout",
     "output_type": "stream",
     "text": [
      "現在処理中のレース: Race(race_id='201706030811', race_date=datetime.date(2017, 4, 16), track_name='中山', race_number=11, race_name='第77回皐月賞(GI)', distance=2000, track_type='芝', total_horses=18, grade='G1', track_direction='右', weather='晴', track_condition='良', start_time=datetime.time(15, 40), winning_time='1:57.8', pace=None, prize_1st=None, race_class=None, race_conditions=None, created_at=None, updated_at=None)\n"
     ]
    },
    {
     "name": "stderr",
     "output_type": "stream",
     "text": [
      "2025-08-31 22:31:30,796 - src.scraping.extractors.race.race_detail_extractor - INFO - Extracted 18 race results for 201709020611\n",
      "2025-08-31 22:31:30,797 - src.scraping.scrapers.race_scraper - INFO - Successfully extracted race data: 201709020611 (18 horses)\n",
      "2025-08-31 22:31:30,797 - src.scraping.storage.postgresql_storage - INFO - Race Is: Race(race_id='201709020611', race_date=datetime.date(2017, 4, 9), track_name='阪神', race_number=11, race_name='第77回桜花賞(GI)', distance=1600, track_type='芝', total_horses=18, grade='G1', track_direction='右', weather='曇', track_condition='稍重', start_time=datetime.time(15, 40), winning_time='1:34.5', pace=None, prize_1st=None, race_class=None, race_conditions=None, created_at=None, updated_at=None)\n",
      "2025-08-31 22:31:30,977 - src.scraping.scrapers.race_scraper - INFO - race detail url: https://db.netkeiba.com/race/201709020411/\n"
     ]
    },
    {
     "name": "stdout",
     "output_type": "stream",
     "text": [
      "現在処理中のレース: Race(race_id='201709020611', race_date=datetime.date(2017, 4, 9), track_name='阪神', race_number=11, race_name='第77回桜花賞(GI)', distance=1600, track_type='芝', total_horses=18, grade='G1', track_direction='右', weather='曇', track_condition='稍重', start_time=datetime.time(15, 40), winning_time='1:34.5', pace=None, prize_1st=None, race_class=None, race_conditions=None, created_at=None, updated_at=None)\n"
     ]
    },
    {
     "name": "stderr",
     "output_type": "stream",
     "text": [
      "2025-08-31 22:31:31,725 - src.scraping.extractors.race.race_detail_extractor - INFO - Extracted 14 race results for 201709020411\n",
      "2025-08-31 22:31:31,725 - src.scraping.scrapers.race_scraper - INFO - Successfully extracted race data: 201709020411 (14 horses)\n",
      "2025-08-31 22:31:31,726 - src.scraping.storage.postgresql_storage - INFO - Race Is: Race(race_id='201709020411', race_date=datetime.date(2017, 4, 2), track_name='阪神', race_number=11, race_name='第61回大阪杯(GI)', distance=2000, track_type='芝', total_horses=14, grade='G1', track_direction='右', weather='晴', track_condition='良', start_time=datetime.time(15, 40), winning_time='1:58.9', pace=None, prize_1st=None, race_class=None, race_conditions=None, created_at=None, updated_at=None)\n",
      "2025-08-31 22:31:31,857 - src.scraping.scrapers.race_scraper - INFO - race detail url: https://db.netkeiba.com/race/201707020611/\n"
     ]
    },
    {
     "name": "stdout",
     "output_type": "stream",
     "text": [
      "現在処理中のレース: Race(race_id='201709020411', race_date=datetime.date(2017, 4, 2), track_name='阪神', race_number=11, race_name='第61回大阪杯(GI)', distance=2000, track_type='芝', total_horses=14, grade='G1', track_direction='右', weather='晴', track_condition='良', start_time=datetime.time(15, 40), winning_time='1:58.9', pace=None, prize_1st=None, race_class=None, race_conditions=None, created_at=None, updated_at=None)\n"
     ]
    },
    {
     "name": "stderr",
     "output_type": "stream",
     "text": [
      "2025-08-31 22:31:32,606 - src.scraping.extractors.race.race_detail_extractor - INFO - Extracted 18 race results for 201707020611\n",
      "2025-08-31 22:31:32,607 - src.scraping.scrapers.race_scraper - INFO - Successfully extracted race data: 201707020611 (18 horses)\n",
      "2025-08-31 22:31:32,607 - src.scraping.storage.postgresql_storage - INFO - Race Is: Race(race_id='201707020611', race_date=datetime.date(2017, 3, 26), track_name='中京', race_number=11, race_name='第47回高松宮記念(GI)', distance=1200, track_type='芝', total_horses=18, grade='G1', track_direction='左', weather='小雨', track_condition='稍重', start_time=datetime.time(15, 40), winning_time='1:08.7', pace=None, prize_1st=None, race_class=None, race_conditions=None, created_at=None, updated_at=None)\n",
      "2025-08-31 22:31:32,751 - src.scraping.scrapers.race_scraper - INFO - race detail url: https://db.netkeiba.com/race/201606050910/\n"
     ]
    },
    {
     "name": "stdout",
     "output_type": "stream",
     "text": [
      "現在処理中のレース: Race(race_id='201707020611', race_date=datetime.date(2017, 3, 26), track_name='中京', race_number=11, race_name='第47回高松宮記念(GI)', distance=1200, track_type='芝', total_horses=18, grade='G1', track_direction='左', weather='小雨', track_condition='稍重', start_time=datetime.time(15, 40), winning_time='1:08.7', pace=None, prize_1st=None, race_class=None, race_conditions=None, created_at=None, updated_at=None)\n"
     ]
    },
    {
     "name": "stderr",
     "output_type": "stream",
     "text": [
      "2025-08-31 22:31:33,577 - src.scraping.extractors.race.race_detail_extractor - INFO - Extracted 16 race results for 201606050910\n",
      "2025-08-31 22:31:33,578 - src.scraping.scrapers.race_scraper - INFO - Successfully extracted race data: 201606050910 (16 horses)\n",
      "2025-08-31 22:31:33,578 - src.scraping.storage.postgresql_storage - INFO - Race Is: Race(race_id='201606050910', race_date=datetime.date(2016, 12, 25), track_name='中山', race_number=10, race_name='第61回有馬記念(GI)', distance=2500, track_type='芝', total_horses=16, grade='G1', track_direction='右', weather='晴', track_condition='良', start_time=datetime.time(15, 25), winning_time='2:32.6', pace=None, prize_1st=None, race_class=None, race_conditions=None, created_at=None, updated_at=None)\n"
     ]
    },
    {
     "name": "stdout",
     "output_type": "stream",
     "text": [
      "現在処理中のレース: Race(race_id='201606050910', race_date=datetime.date(2016, 12, 25), track_name='中山', race_number=10, race_name='第61回有馬記念(GI)', distance=2500, track_type='芝', total_horses=16, grade='G1', track_direction='右', weather='晴', track_condition='良', start_time=datetime.time(15, 25), winning_time='2:32.6', pace=None, prize_1st=None, race_class=None, race_conditions=None, created_at=None, updated_at=None)\n"
     ]
    },
    {
     "name": "stderr",
     "output_type": "stream",
     "text": [
      "2025-08-31 22:31:33,834 - src.scraping.scrapers.race_scraper - INFO - race detail url: https://db.netkeiba.com/race/201609050611/\n",
      "2025-08-31 22:31:35,184 - src.scraping.extractors.race.race_detail_extractor - INFO - Extracted 18 race results for 201609050611\n",
      "2025-08-31 22:31:35,185 - src.scraping.scrapers.race_scraper - INFO - Successfully extracted race data: 201609050611 (18 horses)\n",
      "2025-08-31 22:31:35,186 - src.scraping.storage.postgresql_storage - INFO - Race Is: Race(race_id='201609050611', race_date=datetime.date(2016, 12, 18), track_name='阪神', race_number=11, race_name='第68回朝日フューチュリティ(GI)', distance=1600, track_type='芝', total_horses=18, grade='G1', track_direction='右', weather='晴', track_condition='良', start_time=datetime.time(15, 40), winning_time='1:35.4', pace=None, prize_1st=None, race_class=None, race_conditions=None, created_at=None, updated_at=None)\n",
      "2025-08-31 22:31:35,385 - src.scraping.scrapers.race_scraper - INFO - race detail url: https://db.netkeiba.com/race/201609050411/\n"
     ]
    },
    {
     "name": "stdout",
     "output_type": "stream",
     "text": [
      "現在処理中のレース: Race(race_id='201609050611', race_date=datetime.date(2016, 12, 18), track_name='阪神', race_number=11, race_name='第68回朝日フューチュリティ(GI)', distance=1600, track_type='芝', total_horses=18, grade='G1', track_direction='右', weather='晴', track_condition='良', start_time=datetime.time(15, 40), winning_time='1:35.4', pace=None, prize_1st=None, race_class=None, race_conditions=None, created_at=None, updated_at=None)\n"
     ]
    },
    {
     "name": "stderr",
     "output_type": "stream",
     "text": [
      "2025-08-31 22:31:36,336 - src.scraping.extractors.race.race_detail_extractor - INFO - Extracted 18 race results for 201609050411\n",
      "2025-08-31 22:31:36,336 - src.scraping.scrapers.race_scraper - INFO - Successfully extracted race data: 201609050411 (18 horses)\n",
      "2025-08-31 22:31:36,337 - src.scraping.storage.postgresql_storage - INFO - Race Is: Race(race_id='201609050411', race_date=datetime.date(2016, 12, 11), track_name='阪神', race_number=11, race_name='第68回阪神ジュベナイルF(GI)', distance=1600, track_type='芝', total_horses=18, grade='G1', track_direction='右', weather='晴', track_condition='良', start_time=datetime.time(15, 40), winning_time='1:34.0', pace=None, prize_1st=None, race_class=None, race_conditions=None, created_at=None, updated_at=None)\n",
      "2025-08-31 22:31:36,507 - src.scraping.scrapers.race_scraper - INFO - race detail url: https://db.netkeiba.com/race/201605050811/\n"
     ]
    },
    {
     "name": "stdout",
     "output_type": "stream",
     "text": [
      "現在処理中のレース: Race(race_id='201609050411', race_date=datetime.date(2016, 12, 11), track_name='阪神', race_number=11, race_name='第68回阪神ジュベナイルF(GI)', distance=1600, track_type='芝', total_horses=18, grade='G1', track_direction='右', weather='晴', track_condition='良', start_time=datetime.time(15, 40), winning_time='1:34.0', pace=None, prize_1st=None, race_class=None, race_conditions=None, created_at=None, updated_at=None)\n"
     ]
    },
    {
     "name": "stderr",
     "output_type": "stream",
     "text": [
      "2025-08-31 22:31:37,094 - src.scraping.extractors.race.race_detail_extractor - INFO - Extracted 17 race results for 201605050811\n",
      "2025-08-31 22:31:37,095 - src.scraping.scrapers.race_scraper - INFO - Successfully extracted race data: 201605050811 (17 horses)\n",
      "2025-08-31 22:31:37,095 - src.scraping.storage.postgresql_storage - INFO - Race Is: Race(race_id='201605050811', race_date=datetime.date(2016, 11, 27), track_name='東京', race_number=11, race_name='第36回ジャパンカップ(GI)', distance=2400, track_type='芝', total_horses=17, grade='G1', track_direction='左', weather='小雨', track_condition='良', start_time=datetime.time(15, 40), winning_time='2:25.8', pace=None, prize_1st=None, race_class=None, race_conditions=None, created_at=None, updated_at=None)\n",
      "2025-08-31 22:31:37,292 - src.scraping.scrapers.race_scraper - INFO - race detail url: https://db.netkeiba.com/race/201608050611/\n"
     ]
    },
    {
     "name": "stdout",
     "output_type": "stream",
     "text": [
      "現在処理中のレース: Race(race_id='201605050811', race_date=datetime.date(2016, 11, 27), track_name='東京', race_number=11, race_name='第36回ジャパンカップ(GI)', distance=2400, track_type='芝', total_horses=17, grade='G1', track_direction='左', weather='小雨', track_condition='良', start_time=datetime.time(15, 40), winning_time='2:25.8', pace=None, prize_1st=None, race_class=None, race_conditions=None, created_at=None, updated_at=None)\n"
     ]
    },
    {
     "name": "stderr",
     "output_type": "stream",
     "text": [
      "2025-08-31 22:31:38,454 - src.scraping.extractors.race.race_detail_extractor - INFO - Extracted 18 race results for 201608050611\n",
      "2025-08-31 22:31:38,454 - src.scraping.scrapers.race_scraper - INFO - Successfully extracted race data: 201608050611 (18 horses)\n",
      "2025-08-31 22:31:38,455 - src.scraping.storage.postgresql_storage - INFO - Race Is: Race(race_id='201608050611', race_date=datetime.date(2016, 11, 20), track_name='京都', race_number=11, race_name='第33回マイルチャンピオンS(GI)', distance=1600, track_type='芝', total_horses=18, grade='G1', track_direction='右', weather='曇', track_condition='良', start_time=datetime.time(15, 40), winning_time='1:33.1', pace=None, prize_1st=None, race_class=None, race_conditions=None, created_at=None, updated_at=None)\n"
     ]
    },
    {
     "name": "stdout",
     "output_type": "stream",
     "text": [
      "現在処理中のレース: Race(race_id='201608050611', race_date=datetime.date(2016, 11, 20), track_name='京都', race_number=11, race_name='第33回マイルチャンピオンS(GI)', distance=1600, track_type='芝', total_horses=18, grade='G1', track_direction='右', weather='曇', track_condition='良', start_time=datetime.time(15, 40), winning_time='1:33.1', pace=None, prize_1st=None, race_class=None, race_conditions=None, created_at=None, updated_at=None)\n"
     ]
    },
    {
     "name": "stderr",
     "output_type": "stream",
     "text": [
      "2025-08-31 22:31:38,718 - src.scraping.scrapers.race_scraper - INFO - race detail url: https://db.netkeiba.com/race/201608050411/\n",
      "2025-08-31 22:31:39,389 - src.scraping.extractors.race.race_detail_extractor - INFO - Extracted 15 race results for 201608050411\n",
      "2025-08-31 22:31:39,390 - src.scraping.scrapers.race_scraper - INFO - Successfully extracted race data: 201608050411 (15 horses)\n",
      "2025-08-31 22:31:39,390 - src.scraping.storage.postgresql_storage - INFO - Race Is: Race(race_id='201608050411', race_date=datetime.date(2016, 11, 13), track_name='京都', race_number=11, race_name='第41回エリザベス女王杯(GI)', distance=2200, track_type='芝', total_horses=15, grade='G1', track_direction='右', weather='晴', track_condition='良', start_time=datetime.time(15, 40), winning_time='2:12.9', pace=None, prize_1st=None, race_class=None, race_conditions=None, created_at=None, updated_at=None)\n",
      "2025-08-31 22:31:39,516 - src.scraping.scrapers.race_scraper - INFO - race detail url: https://db.netkeiba.com/race/201605040911/\n"
     ]
    },
    {
     "name": "stdout",
     "output_type": "stream",
     "text": [
      "現在処理中のレース: Race(race_id='201608050411', race_date=datetime.date(2016, 11, 13), track_name='京都', race_number=11, race_name='第41回エリザベス女王杯(GI)', distance=2200, track_type='芝', total_horses=15, grade='G1', track_direction='右', weather='晴', track_condition='良', start_time=datetime.time(15, 40), winning_time='2:12.9', pace=None, prize_1st=None, race_class=None, race_conditions=None, created_at=None, updated_at=None)\n"
     ]
    },
    {
     "name": "stderr",
     "output_type": "stream",
     "text": [
      "2025-08-31 22:31:39,946 - src.scraping.extractors.race.race_detail_extractor - INFO - Extracted 15 race results for 201605040911\n",
      "2025-08-31 22:31:39,946 - src.scraping.scrapers.race_scraper - INFO - Successfully extracted race data: 201605040911 (15 horses)\n",
      "2025-08-31 22:31:39,946 - src.scraping.storage.postgresql_storage - INFO - Race Is: Race(race_id='201605040911', race_date=datetime.date(2016, 10, 30), track_name='東京', race_number=11, race_name='第154回天皇賞(秋)(GI)', distance=2000, track_type='芝', total_horses=15, grade='G1', track_direction='左', weather='曇', track_condition='良', start_time=datetime.time(15, 40), winning_time='1:59.3', pace=None, prize_1st=None, race_class=None, race_conditions=None, created_at=None, updated_at=None)\n",
      "2025-08-31 22:31:40,070 - src.scraping.scrapers.race_scraper - INFO - race detail url: https://db.netkeiba.com/race/201608040711/\n"
     ]
    },
    {
     "name": "stdout",
     "output_type": "stream",
     "text": [
      "現在処理中のレース: Race(race_id='201605040911', race_date=datetime.date(2016, 10, 30), track_name='東京', race_number=11, race_name='第154回天皇賞(秋)(GI)', distance=2000, track_type='芝', total_horses=15, grade='G1', track_direction='左', weather='曇', track_condition='良', start_time=datetime.time(15, 40), winning_time='1:59.3', pace=None, prize_1st=None, race_class=None, race_conditions=None, created_at=None, updated_at=None)\n"
     ]
    },
    {
     "name": "stderr",
     "output_type": "stream",
     "text": [
      "2025-08-31 22:31:40,500 - src.scraping.extractors.race.race_detail_extractor - INFO - Extracted 18 race results for 201608040711\n",
      "2025-08-31 22:31:40,500 - src.scraping.scrapers.race_scraper - INFO - Successfully extracted race data: 201608040711 (18 horses)\n",
      "2025-08-31 22:31:40,501 - src.scraping.storage.postgresql_storage - INFO - Race Is: Race(race_id='201608040711', race_date=datetime.date(2016, 10, 23), track_name='京都', race_number=11, race_name='第77回菊花賞(GI)', distance=3000, track_type='芝', total_horses=18, grade='G1', track_direction='右', weather='曇', track_condition='良', start_time=datetime.time(15, 40), winning_time='3:03.3', pace=None, prize_1st=None, race_class=None, race_conditions=None, created_at=None, updated_at=None)\n",
      "2025-08-31 22:31:40,672 - src.scraping.scrapers.race_scraper - INFO - race detail url: https://db.netkeiba.com/race/201608040511/\n"
     ]
    },
    {
     "name": "stdout",
     "output_type": "stream",
     "text": [
      "現在処理中のレース: Race(race_id='201608040711', race_date=datetime.date(2016, 10, 23), track_name='京都', race_number=11, race_name='第77回菊花賞(GI)', distance=3000, track_type='芝', total_horses=18, grade='G1', track_direction='右', weather='曇', track_condition='良', start_time=datetime.time(15, 40), winning_time='3:03.3', pace=None, prize_1st=None, race_class=None, race_conditions=None, created_at=None, updated_at=None)\n"
     ]
    },
    {
     "name": "stderr",
     "output_type": "stream",
     "text": [
      "2025-08-31 22:31:41,126 - src.scraping.extractors.race.race_detail_extractor - INFO - Extracted 18 race results for 201608040511\n",
      "2025-08-31 22:31:41,127 - src.scraping.scrapers.race_scraper - INFO - Successfully extracted race data: 201608040511 (18 horses)\n",
      "2025-08-31 22:31:41,127 - src.scraping.storage.postgresql_storage - INFO - Race Is: Race(race_id='201608040511', race_date=datetime.date(2016, 10, 16), track_name='京都', race_number=11, race_name='第21回秋華賞(GI)', distance=2000, track_type='芝', total_horses=18, grade='G1', track_direction='右', weather='晴', track_condition='良', start_time=datetime.time(15, 40), winning_time='1:58.6', pace=None, prize_1st=None, race_class=None, race_conditions=None, created_at=None, updated_at=None)\n",
      "2025-08-31 22:31:41,296 - src.scraping.scrapers.race_scraper - INFO - race detail url: https://db.netkeiba.com/race/201606040811/\n"
     ]
    },
    {
     "name": "stdout",
     "output_type": "stream",
     "text": [
      "現在処理中のレース: Race(race_id='201608040511', race_date=datetime.date(2016, 10, 16), track_name='京都', race_number=11, race_name='第21回秋華賞(GI)', distance=2000, track_type='芝', total_horses=18, grade='G1', track_direction='右', weather='晴', track_condition='良', start_time=datetime.time(15, 40), winning_time='1:58.6', pace=None, prize_1st=None, race_class=None, race_conditions=None, created_at=None, updated_at=None)\n"
     ]
    },
    {
     "name": "stderr",
     "output_type": "stream",
     "text": [
      "2025-08-31 22:31:41,686 - src.scraping.extractors.race.race_detail_extractor - INFO - Extracted 16 race results for 201606040811\n",
      "2025-08-31 22:31:41,686 - src.scraping.scrapers.race_scraper - INFO - Successfully extracted race data: 201606040811 (16 horses)\n",
      "2025-08-31 22:31:41,686 - src.scraping.storage.postgresql_storage - INFO - Race Is: Race(race_id='201606040811', race_date=datetime.date(2016, 10, 2), track_name='中山', race_number=11, race_name='第50回スプリンターズS(GI)', distance=1200, track_type='芝', total_horses=16, grade='G1', track_direction='右', weather='晴', track_condition='良', start_time=datetime.time(15, 40), winning_time='1:07.6', pace=None, prize_1st=None, race_class=None, race_conditions=None, created_at=None, updated_at=None)\n",
      "2025-08-31 22:31:41,818 - src.scraping.scrapers.race_scraper - INFO - race detail url: https://db.netkeiba.com/race/201609030811/\n"
     ]
    },
    {
     "name": "stdout",
     "output_type": "stream",
     "text": [
      "現在処理中のレース: Race(race_id='201606040811', race_date=datetime.date(2016, 10, 2), track_name='中山', race_number=11, race_name='第50回スプリンターズS(GI)', distance=1200, track_type='芝', total_horses=16, grade='G1', track_direction='右', weather='晴', track_condition='良', start_time=datetime.time(15, 40), winning_time='1:07.6', pace=None, prize_1st=None, race_class=None, race_conditions=None, created_at=None, updated_at=None)\n"
     ]
    },
    {
     "name": "stderr",
     "output_type": "stream",
     "text": [
      "2025-08-31 22:31:42,443 - src.scraping.extractors.race.race_detail_extractor - INFO - Extracted 17 race results for 201609030811\n",
      "2025-08-31 22:31:42,443 - src.scraping.scrapers.race_scraper - INFO - Successfully extracted race data: 201609030811 (17 horses)\n",
      "2025-08-31 22:31:42,444 - src.scraping.storage.postgresql_storage - INFO - Race Is: Race(race_id='201609030811', race_date=datetime.date(2016, 6, 26), track_name='阪神', race_number=11, race_name='第57回宝塚記念(GI)', distance=2200, track_type='芝', total_horses=17, grade='G1', track_direction='右', weather='晴', track_condition='稍重', start_time=datetime.time(15, 40), winning_time='2:12.8', pace=None, prize_1st=None, race_class=None, race_conditions=None, created_at=None, updated_at=None)\n"
     ]
    },
    {
     "name": "stdout",
     "output_type": "stream",
     "text": [
      "現在処理中のレース: Race(race_id='201609030811', race_date=datetime.date(2016, 6, 26), track_name='阪神', race_number=11, race_name='第57回宝塚記念(GI)', distance=2200, track_type='芝', total_horses=17, grade='G1', track_direction='右', weather='晴', track_condition='稍重', start_time=datetime.time(15, 40), winning_time='2:12.8', pace=None, prize_1st=None, race_class=None, race_conditions=None, created_at=None, updated_at=None)\n"
     ]
    },
    {
     "name": "stderr",
     "output_type": "stream",
     "text": [
      "2025-08-31 22:31:42,698 - src.scraping.scrapers.race_scraper - INFO - race detail url: https://db.netkeiba.com/race/201605030211/\n",
      "2025-08-31 22:31:43,202 - src.scraping.extractors.race.race_detail_extractor - INFO - Extracted 12 race results for 201605030211\n",
      "2025-08-31 22:31:43,203 - src.scraping.scrapers.race_scraper - INFO - Successfully extracted race data: 201605030211 (12 horses)\n",
      "2025-08-31 22:31:43,203 - src.scraping.storage.postgresql_storage - INFO - Race Is: Race(race_id='201605030211', race_date=datetime.date(2016, 6, 5), track_name='東京', race_number=11, race_name='第66回安田記念(GI)', distance=1600, track_type='芝', total_horses=12, grade='G1', track_direction='左', weather='晴', track_condition='良', start_time=datetime.time(15, 40), winning_time='1:33.0', pace=None, prize_1st=None, race_class=None, race_conditions=None, created_at=None, updated_at=None)\n",
      "2025-08-31 22:31:43,326 - src.scraping.scrapers.race_scraper - INFO - race detail url: https://db.netkeiba.com/race/201605021210/\n"
     ]
    },
    {
     "name": "stdout",
     "output_type": "stream",
     "text": [
      "現在処理中のレース: Race(race_id='201605030211', race_date=datetime.date(2016, 6, 5), track_name='東京', race_number=11, race_name='第66回安田記念(GI)', distance=1600, track_type='芝', total_horses=12, grade='G1', track_direction='左', weather='晴', track_condition='良', start_time=datetime.time(15, 40), winning_time='1:33.0', pace=None, prize_1st=None, race_class=None, race_conditions=None, created_at=None, updated_at=None)\n"
     ]
    },
    {
     "name": "stderr",
     "output_type": "stream",
     "text": [
      "2025-08-31 22:31:44,002 - src.scraping.extractors.race.race_detail_extractor - INFO - Extracted 18 race results for 201605021210\n",
      "2025-08-31 22:31:44,003 - src.scraping.scrapers.race_scraper - INFO - Successfully extracted race data: 201605021210 (18 horses)\n",
      "2025-08-31 22:31:44,003 - src.scraping.storage.postgresql_storage - INFO - Race Is: Race(race_id='201605021210', race_date=datetime.date(2016, 5, 29), track_name='東京1', race_number=10, race_name='第83回東京優駿(GI)', distance=2400, track_type='芝', total_horses=18, grade='G1', track_direction='左', weather='晴', track_condition='良', start_time=datetime.time(15, 40), winning_time='2:24.0', pace=None, prize_1st=None, race_class=None, race_conditions=None, created_at=None, updated_at=None)\n",
      "2025-08-31 22:31:44,155 - src.scraping.scrapers.race_scraper - INFO - race detail url: https://db.netkeiba.com/race/201605021011/\n"
     ]
    },
    {
     "name": "stdout",
     "output_type": "stream",
     "text": [
      "現在処理中のレース: Race(race_id='201605021210', race_date=datetime.date(2016, 5, 29), track_name='東京1', race_number=10, race_name='第83回東京優駿(GI)', distance=2400, track_type='芝', total_horses=18, grade='G1', track_direction='左', weather='晴', track_condition='良', start_time=datetime.time(15, 40), winning_time='2:24.0', pace=None, prize_1st=None, race_class=None, race_conditions=None, created_at=None, updated_at=None)\n"
     ]
    },
    {
     "name": "stderr",
     "output_type": "stream",
     "text": [
      "2025-08-31 22:31:44,756 - src.scraping.extractors.race.race_detail_extractor - INFO - Extracted 18 race results for 201605021011\n",
      "2025-08-31 22:31:44,757 - src.scraping.scrapers.race_scraper - INFO - Successfully extracted race data: 201605021011 (18 horses)\n",
      "2025-08-31 22:31:44,757 - src.scraping.storage.postgresql_storage - INFO - Race Is: Race(race_id='201605021011', race_date=datetime.date(2016, 5, 22), track_name='東京1', race_number=11, race_name='第77回優駿牝馬(GI)', distance=2400, track_type='芝', total_horses=18, grade='G1', track_direction='左', weather='晴', track_condition='良', start_time=datetime.time(15, 40), winning_time='2:25.0', pace=None, prize_1st=None, race_class=None, race_conditions=None, created_at=None, updated_at=None)\n",
      "2025-08-31 22:31:44,916 - src.scraping.scrapers.race_scraper - INFO - race detail url: https://db.netkeiba.com/race/201605020811/\n"
     ]
    },
    {
     "name": "stdout",
     "output_type": "stream",
     "text": [
      "現在処理中のレース: Race(race_id='201605021011', race_date=datetime.date(2016, 5, 22), track_name='東京1', race_number=11, race_name='第77回優駿牝馬(GI)', distance=2400, track_type='芝', total_horses=18, grade='G1', track_direction='左', weather='晴', track_condition='良', start_time=datetime.time(15, 40), winning_time='2:25.0', pace=None, prize_1st=None, race_class=None, race_conditions=None, created_at=None, updated_at=None)\n"
     ]
    },
    {
     "name": "stderr",
     "output_type": "stream",
     "text": [
      "2025-08-31 22:31:45,612 - src.scraping.extractors.race.race_detail_extractor - INFO - Extracted 18 race results for 201605020811\n",
      "2025-08-31 22:31:45,612 - src.scraping.scrapers.race_scraper - INFO - Successfully extracted race data: 201605020811 (18 horses)\n",
      "2025-08-31 22:31:45,613 - src.scraping.storage.postgresql_storage - INFO - Race Is: Race(race_id='201605020811', race_date=datetime.date(2016, 5, 15), track_name='東京', race_number=11, race_name='第11回ヴィクトリアマイル(GI)', distance=1600, track_type='芝', total_horses=18, grade='G1', track_direction='左', weather='晴', track_condition='良', start_time=datetime.time(15, 40), winning_time='1:31.5', pace=None, prize_1st=None, race_class=None, race_conditions=None, created_at=None, updated_at=None)\n",
      "2025-08-31 22:31:45,733 - src.scraping.scrapers.race_scraper - INFO - race detail url: https://db.netkeiba.com/race/201605020611/\n"
     ]
    },
    {
     "name": "stdout",
     "output_type": "stream",
     "text": [
      "現在処理中のレース: Race(race_id='201605020811', race_date=datetime.date(2016, 5, 15), track_name='東京', race_number=11, race_name='第11回ヴィクトリアマイル(GI)', distance=1600, track_type='芝', total_horses=18, grade='G1', track_direction='左', weather='晴', track_condition='良', start_time=datetime.time(15, 40), winning_time='1:31.5', pace=None, prize_1st=None, race_class=None, race_conditions=None, created_at=None, updated_at=None)\n"
     ]
    },
    {
     "name": "stderr",
     "output_type": "stream",
     "text": [
      "2025-08-31 22:31:47,361 - src.scraping.extractors.race.race_detail_extractor - INFO - Extracted 18 race results for 201605020611\n",
      "2025-08-31 22:31:47,362 - src.scraping.scrapers.race_scraper - INFO - Successfully extracted race data: 201605020611 (18 horses)\n",
      "2025-08-31 22:31:47,363 - src.scraping.storage.postgresql_storage - INFO - Race Is: Race(race_id='201605020611', race_date=datetime.date(2016, 5, 8), track_name='東京', race_number=11, race_name='第21回NHKマイルカップ(GI)', distance=1600, track_type='芝', total_horses=18, grade='G1', track_direction='左', weather='晴', track_condition='良', start_time=datetime.time(15, 40), winning_time='1:32.8', pace=None, prize_1st=None, race_class=None, race_conditions=None, created_at=None, updated_at=None)\n",
      "2025-08-31 22:31:47,546 - src.scraping.scrapers.race_scraper - INFO - race detail url: https://db.netkeiba.com/race/201608030411/\n"
     ]
    },
    {
     "name": "stdout",
     "output_type": "stream",
     "text": [
      "現在処理中のレース: Race(race_id='201605020611', race_date=datetime.date(2016, 5, 8), track_name='東京', race_number=11, race_name='第21回NHKマイルカップ(GI)', distance=1600, track_type='芝', total_horses=18, grade='G1', track_direction='左', weather='晴', track_condition='良', start_time=datetime.time(15, 40), winning_time='1:32.8', pace=None, prize_1st=None, race_class=None, race_conditions=None, created_at=None, updated_at=None)\n"
     ]
    },
    {
     "name": "stderr",
     "output_type": "stream",
     "text": [
      "2025-08-31 22:31:48,392 - src.scraping.extractors.race.race_detail_extractor - INFO - Extracted 18 race results for 201608030411\n",
      "2025-08-31 22:31:48,392 - src.scraping.scrapers.race_scraper - INFO - Successfully extracted race data: 201608030411 (18 horses)\n",
      "2025-08-31 22:31:48,393 - src.scraping.storage.postgresql_storage - INFO - Race Is: Race(race_id='201608030411', race_date=datetime.date(2016, 5, 1), track_name='京都', race_number=11, race_name='第153回天皇賞(春)(GI)', distance=3200, track_type='芝', total_horses=18, grade='G1', track_direction='右', weather='晴', track_condition='良', start_time=datetime.time(15, 40), winning_time='3:15.3', pace=None, prize_1st=None, race_class=None, race_conditions=None, created_at=None, updated_at=None)\n",
      "2025-08-31 22:31:48,553 - src.scraping.scrapers.race_scraper - INFO - race detail url: https://db.netkeiba.com/race/201606030811/\n"
     ]
    },
    {
     "name": "stdout",
     "output_type": "stream",
     "text": [
      "現在処理中のレース: Race(race_id='201608030411', race_date=datetime.date(2016, 5, 1), track_name='京都', race_number=11, race_name='第153回天皇賞(春)(GI)', distance=3200, track_type='芝', total_horses=18, grade='G1', track_direction='右', weather='晴', track_condition='良', start_time=datetime.time(15, 40), winning_time='3:15.3', pace=None, prize_1st=None, race_class=None, race_conditions=None, created_at=None, updated_at=None)\n"
     ]
    },
    {
     "name": "stderr",
     "output_type": "stream",
     "text": [
      "2025-08-31 22:31:48,865 - src.scraping.extractors.race.race_detail_extractor - INFO - Extracted 18 race results for 201606030811\n",
      "2025-08-31 22:31:48,865 - src.scraping.scrapers.race_scraper - INFO - Successfully extracted race data: 201606030811 (18 horses)\n",
      "2025-08-31 22:31:48,866 - src.scraping.storage.postgresql_storage - INFO - Race Is: Race(race_id='201606030811', race_date=datetime.date(2016, 4, 17), track_name='中山', race_number=11, race_name='第76回皐月賞(GI)', distance=2000, track_type='芝', total_horses=18, grade='G1', track_direction='右', weather='晴', track_condition='良', start_time=datetime.time(15, 40), winning_time='1:57.9', pace=None, prize_1st=None, race_class=None, race_conditions=None, created_at=None, updated_at=None)\n",
      "2025-08-31 22:31:49,012 - src.scraping.scrapers.race_scraper - INFO - race detail url: https://db.netkeiba.com/race/201609020611/\n"
     ]
    },
    {
     "name": "stdout",
     "output_type": "stream",
     "text": [
      "現在処理中のレース: Race(race_id='201606030811', race_date=datetime.date(2016, 4, 17), track_name='中山', race_number=11, race_name='第76回皐月賞(GI)', distance=2000, track_type='芝', total_horses=18, grade='G1', track_direction='右', weather='晴', track_condition='良', start_time=datetime.time(15, 40), winning_time='1:57.9', pace=None, prize_1st=None, race_class=None, race_conditions=None, created_at=None, updated_at=None)\n"
     ]
    },
    {
     "name": "stderr",
     "output_type": "stream",
     "text": [
      "2025-08-31 22:31:49,661 - src.scraping.extractors.race.race_detail_extractor - INFO - Extracted 18 race results for 201609020611\n",
      "2025-08-31 22:31:49,662 - src.scraping.scrapers.race_scraper - INFO - Successfully extracted race data: 201609020611 (18 horses)\n",
      "2025-08-31 22:31:49,663 - src.scraping.storage.postgresql_storage - INFO - Race Is: Race(race_id='201609020611', race_date=datetime.date(2016, 4, 10), track_name='阪神', race_number=11, race_name='第76回桜花賞(GI)', distance=1600, track_type='芝', total_horses=18, grade='G1', track_direction='右', weather='晴', track_condition='良', start_time=datetime.time(15, 40), winning_time='1:33.4', pace=None, prize_1st=None, race_class=None, race_conditions=None, created_at=None, updated_at=None)\n",
      "2025-08-31 22:31:49,844 - src.scraping.scrapers.race_scraper - INFO - race detail url: https://db.netkeiba.com/race/201607020611/\n"
     ]
    },
    {
     "name": "stdout",
     "output_type": "stream",
     "text": [
      "現在処理中のレース: Race(race_id='201609020611', race_date=datetime.date(2016, 4, 10), track_name='阪神', race_number=11, race_name='第76回桜花賞(GI)', distance=1600, track_type='芝', total_horses=18, grade='G1', track_direction='右', weather='晴', track_condition='良', start_time=datetime.time(15, 40), winning_time='1:33.4', pace=None, prize_1st=None, race_class=None, race_conditions=None, created_at=None, updated_at=None)\n"
     ]
    },
    {
     "name": "stderr",
     "output_type": "stream",
     "text": [
      "2025-08-31 22:31:50,338 - src.scraping.extractors.race.race_detail_extractor - INFO - Extracted 18 race results for 201607020611\n",
      "2025-08-31 22:31:50,339 - src.scraping.scrapers.race_scraper - INFO - Successfully extracted race data: 201607020611 (18 horses)\n",
      "2025-08-31 22:31:50,339 - src.scraping.storage.postgresql_storage - INFO - Race Is: Race(race_id='201607020611', race_date=datetime.date(2016, 3, 27), track_name='中京', race_number=11, race_name='第46回高松宮記念(GI)', distance=1200, track_type='芝', total_horses=18, grade='G1', track_direction='左', weather='曇', track_condition='良', start_time=datetime.time(15, 40), winning_time='1:06.7', pace=None, prize_1st=None, race_class=None, race_conditions=None, created_at=None, updated_at=None)\n",
      "2025-08-31 22:31:50,491 - src.scraping.scrapers.race_scraper - INFO - race detail url: https://db.netkeiba.com/race/201506050810/\n"
     ]
    },
    {
     "name": "stdout",
     "output_type": "stream",
     "text": [
      "現在処理中のレース: Race(race_id='201607020611', race_date=datetime.date(2016, 3, 27), track_name='中京', race_number=11, race_name='第46回高松宮記念(GI)', distance=1200, track_type='芝', total_horses=18, grade='G1', track_direction='左', weather='曇', track_condition='良', start_time=datetime.time(15, 40), winning_time='1:06.7', pace=None, prize_1st=None, race_class=None, race_conditions=None, created_at=None, updated_at=None)\n"
     ]
    },
    {
     "name": "stderr",
     "output_type": "stream",
     "text": [
      "2025-08-31 22:31:51,027 - src.scraping.extractors.race.race_detail_extractor - INFO - Extracted 16 race results for 201506050810\n",
      "2025-08-31 22:31:51,027 - src.scraping.scrapers.race_scraper - INFO - Successfully extracted race data: 201506050810 (16 horses)\n",
      "2025-08-31 22:31:51,028 - src.scraping.storage.postgresql_storage - INFO - Race Is: Race(race_id='201506050810', race_date=datetime.date(2015, 12, 27), track_name='中山', race_number=10, race_name='第60回有馬記念(GI)', distance=2500, track_type='芝', total_horses=16, grade='G1', track_direction='右', weather='曇', track_condition='良', start_time=datetime.time(15, 25), winning_time='2:33.0', pace=None, prize_1st=None, race_class=None, race_conditions=None, created_at=None, updated_at=None)\n",
      "2025-08-31 22:31:51,129 - src.scraping.scrapers.race_scraper - INFO - race detail url: https://db.netkeiba.com/race/201509050611/\n"
     ]
    },
    {
     "name": "stdout",
     "output_type": "stream",
     "text": [
      "現在処理中のレース: Race(race_id='201506050810', race_date=datetime.date(2015, 12, 27), track_name='中山', race_number=10, race_name='第60回有馬記念(GI)', distance=2500, track_type='芝', total_horses=16, grade='G1', track_direction='右', weather='曇', track_condition='良', start_time=datetime.time(15, 25), winning_time='2:33.0', pace=None, prize_1st=None, race_class=None, race_conditions=None, created_at=None, updated_at=None)\n"
     ]
    },
    {
     "name": "stderr",
     "output_type": "stream",
     "text": [
      "2025-08-31 22:31:51,784 - src.scraping.extractors.race.race_detail_extractor - INFO - Extracted 16 race results for 201509050611\n",
      "2025-08-31 22:31:51,785 - src.scraping.scrapers.race_scraper - INFO - Successfully extracted race data: 201509050611 (16 horses)\n",
      "2025-08-31 22:31:51,785 - src.scraping.storage.postgresql_storage - INFO - Race Is: Race(race_id='201509050611', race_date=datetime.date(2015, 12, 20), track_name='阪神', race_number=11, race_name='第67回朝日フューチュリティ(GI)', distance=1600, track_type='芝', total_horses=16, grade='G1', track_direction='右', weather='晴', track_condition='良', start_time=datetime.time(15, 40), winning_time='1:34.4', pace=None, prize_1st=None, race_class=None, race_conditions=None, created_at=None, updated_at=None)\n",
      "2025-08-31 22:31:51,935 - src.scraping.scrapers.race_scraper - INFO - race detail url: https://db.netkeiba.com/race/201509050411/\n"
     ]
    },
    {
     "name": "stdout",
     "output_type": "stream",
     "text": [
      "現在処理中のレース: Race(race_id='201509050611', race_date=datetime.date(2015, 12, 20), track_name='阪神', race_number=11, race_name='第67回朝日フューチュリティ(GI)', distance=1600, track_type='芝', total_horses=16, grade='G1', track_direction='右', weather='晴', track_condition='良', start_time=datetime.time(15, 40), winning_time='1:34.4', pace=None, prize_1st=None, race_class=None, race_conditions=None, created_at=None, updated_at=None)\n"
     ]
    },
    {
     "name": "stderr",
     "output_type": "stream",
     "text": [
      "2025-08-31 22:31:52,507 - src.scraping.extractors.race.race_detail_extractor - INFO - Extracted 18 race results for 201509050411\n",
      "2025-08-31 22:31:52,508 - src.scraping.scrapers.race_scraper - INFO - Successfully extracted race data: 201509050411 (18 horses)\n",
      "2025-08-31 22:31:52,508 - src.scraping.storage.postgresql_storage - INFO - Race Is: Race(race_id='201509050411', race_date=datetime.date(2015, 12, 13), track_name='阪神', race_number=11, race_name='第67回阪神ジュベナイルF(GI)', distance=1600, track_type='芝', total_horses=18, grade='G1', track_direction='右', weather='晴', track_condition='良', start_time=datetime.time(15, 40), winning_time='1:34.5', pace=None, prize_1st=None, race_class=None, race_conditions=None, created_at=None, updated_at=None)\n",
      "2025-08-31 22:31:52,667 - src.scraping.scrapers.race_scraper - INFO - race detail url: https://db.netkeiba.com/race/201505050911/\n"
     ]
    },
    {
     "name": "stdout",
     "output_type": "stream",
     "text": [
      "現在処理中のレース: Race(race_id='201509050411', race_date=datetime.date(2015, 12, 13), track_name='阪神', race_number=11, race_name='第67回阪神ジュベナイルF(GI)', distance=1600, track_type='芝', total_horses=18, grade='G1', track_direction='右', weather='晴', track_condition='良', start_time=datetime.time(15, 40), winning_time='1:34.5', pace=None, prize_1st=None, race_class=None, race_conditions=None, created_at=None, updated_at=None)\n"
     ]
    },
    {
     "name": "stderr",
     "output_type": "stream",
     "text": [
      "2025-08-31 22:31:53,236 - src.scraping.extractors.race.race_detail_extractor - INFO - Extracted 18 race results for 201505050911\n",
      "2025-08-31 22:31:53,236 - src.scraping.scrapers.race_scraper - INFO - Successfully extracted race data: 201505050911 (18 horses)\n",
      "2025-08-31 22:31:53,237 - src.scraping.storage.postgresql_storage - INFO - Race Is: Race(race_id='201505050911', race_date=datetime.date(2015, 11, 29), track_name='東京', race_number=11, race_name='第35回ジャパンカップ(GI)', distance=2400, track_type='芝', total_horses=18, grade='G1', track_direction='左', weather='晴', track_condition='良', start_time=datetime.time(15, 40), winning_time='2:24.7', pace=None, prize_1st=None, race_class=None, race_conditions=None, created_at=None, updated_at=None)\n",
      "2025-08-31 22:31:53,425 - src.scraping.scrapers.race_scraper - INFO - race detail url: https://db.netkeiba.com/race/201508050611/\n"
     ]
    },
    {
     "name": "stdout",
     "output_type": "stream",
     "text": [
      "現在処理中のレース: Race(race_id='201505050911', race_date=datetime.date(2015, 11, 29), track_name='東京', race_number=11, race_name='第35回ジャパンカップ(GI)', distance=2400, track_type='芝', total_horses=18, grade='G1', track_direction='左', weather='晴', track_condition='良', start_time=datetime.time(15, 40), winning_time='2:24.7', pace=None, prize_1st=None, race_class=None, race_conditions=None, created_at=None, updated_at=None)\n"
     ]
    },
    {
     "name": "stderr",
     "output_type": "stream",
     "text": [
      "2025-08-31 22:31:53,847 - src.scraping.extractors.race.race_detail_extractor - INFO - Extracted 18 race results for 201508050611\n",
      "2025-08-31 22:31:53,848 - src.scraping.scrapers.race_scraper - INFO - Successfully extracted race data: 201508050611 (18 horses)\n",
      "2025-08-31 22:31:53,848 - src.scraping.storage.postgresql_storage - INFO - Race Is: Race(race_id='201508050611', race_date=datetime.date(2015, 11, 22), track_name='京都', race_number=11, race_name='第32回マイルチャンピオンS(GI)', distance=1600, track_type='芝', total_horses=18, grade='G1', track_direction='右', weather='曇', track_condition='良', start_time=datetime.time(15, 40), winning_time='1:32.8', pace=None, prize_1st=None, race_class=None, race_conditions=None, created_at=None, updated_at=None)\n",
      "2025-08-31 22:31:53,979 - src.scraping.scrapers.race_scraper - INFO - race detail url: https://db.netkeiba.com/race/201508050411/\n"
     ]
    },
    {
     "name": "stdout",
     "output_type": "stream",
     "text": [
      "現在処理中のレース: Race(race_id='201508050611', race_date=datetime.date(2015, 11, 22), track_name='京都', race_number=11, race_name='第32回マイルチャンピオンS(GI)', distance=1600, track_type='芝', total_horses=18, grade='G1', track_direction='右', weather='曇', track_condition='良', start_time=datetime.time(15, 40), winning_time='1:32.8', pace=None, prize_1st=None, race_class=None, race_conditions=None, created_at=None, updated_at=None)\n"
     ]
    },
    {
     "name": "stderr",
     "output_type": "stream",
     "text": [
      "2025-08-31 22:31:54,535 - src.scraping.extractors.race.race_detail_extractor - INFO - Extracted 18 race results for 201508050411\n",
      "2025-08-31 22:31:54,536 - src.scraping.scrapers.race_scraper - INFO - Successfully extracted race data: 201508050411 (18 horses)\n",
      "2025-08-31 22:31:54,536 - src.scraping.storage.postgresql_storage - INFO - Race Is: Race(race_id='201508050411', race_date=datetime.date(2015, 11, 15), track_name='京都', race_number=11, race_name='第40回エリザベス女王杯(GI)', distance=2200, track_type='芝', total_horses=18, grade='G1', track_direction='右', weather='晴', track_condition='稍重', start_time=datetime.time(15, 40), winning_time='2:14.9', pace=None, prize_1st=None, race_class=None, race_conditions=None, created_at=None, updated_at=None)\n",
      "2025-08-31 22:31:54,695 - src.scraping.scrapers.race_scraper - INFO - race detail url: https://db.netkeiba.com/race/201505040911/\n"
     ]
    },
    {
     "name": "stdout",
     "output_type": "stream",
     "text": [
      "現在処理中のレース: Race(race_id='201508050411', race_date=datetime.date(2015, 11, 15), track_name='京都', race_number=11, race_name='第40回エリザベス女王杯(GI)', distance=2200, track_type='芝', total_horses=18, grade='G1', track_direction='右', weather='晴', track_condition='稍重', start_time=datetime.time(15, 40), winning_time='2:14.9', pace=None, prize_1st=None, race_class=None, race_conditions=None, created_at=None, updated_at=None)\n"
     ]
    },
    {
     "name": "stderr",
     "output_type": "stream",
     "text": [
      "2025-08-31 22:31:55,069 - src.scraping.extractors.race.race_detail_extractor - INFO - Extracted 18 race results for 201505040911\n",
      "2025-08-31 22:31:55,070 - src.scraping.scrapers.race_scraper - INFO - Successfully extracted race data: 201505040911 (18 horses)\n",
      "2025-08-31 22:31:55,070 - src.scraping.storage.postgresql_storage - INFO - Race Is: Race(race_id='201505040911', race_date=datetime.date(2015, 11, 1), track_name='東京', race_number=11, race_name='第152回天皇賞(秋)(GI)', distance=2000, track_type='芝', total_horses=18, grade='G1', track_direction='左', weather='晴', track_condition='良', start_time=datetime.time(15, 40), winning_time='1:58.4', pace=None, prize_1st=None, race_class=None, race_conditions=None, created_at=None, updated_at=None)\n",
      "2025-08-31 22:31:55,215 - src.scraping.scrapers.race_scraper - INFO - race detail url: https://db.netkeiba.com/race/201508040711/\n"
     ]
    },
    {
     "name": "stdout",
     "output_type": "stream",
     "text": [
      "現在処理中のレース: Race(race_id='201505040911', race_date=datetime.date(2015, 11, 1), track_name='東京', race_number=11, race_name='第152回天皇賞(秋)(GI)', distance=2000, track_type='芝', total_horses=18, grade='G1', track_direction='左', weather='晴', track_condition='良', start_time=datetime.time(15, 40), winning_time='1:58.4', pace=None, prize_1st=None, race_class=None, race_conditions=None, created_at=None, updated_at=None)\n"
     ]
    },
    {
     "name": "stderr",
     "output_type": "stream",
     "text": [
      "2025-08-31 22:31:55,583 - src.scraping.extractors.race.race_detail_extractor - INFO - Extracted 18 race results for 201508040711\n",
      "2025-08-31 22:31:55,583 - src.scraping.scrapers.race_scraper - INFO - Successfully extracted race data: 201508040711 (18 horses)\n",
      "2025-08-31 22:31:55,584 - src.scraping.storage.postgresql_storage - INFO - Race Is: Race(race_id='201508040711', race_date=datetime.date(2015, 10, 25), track_name='京都', race_number=11, race_name='第76回菊花賞(GI)', distance=3000, track_type='芝', total_horses=18, grade='G1', track_direction='右', weather='晴', track_condition='良', start_time=datetime.time(15, 40), winning_time='3:03.9', pace=None, prize_1st=None, race_class=None, race_conditions=None, created_at=None, updated_at=None)\n",
      "2025-08-31 22:31:55,739 - src.scraping.scrapers.race_scraper - INFO - race detail url: https://db.netkeiba.com/race/201508040511/\n"
     ]
    },
    {
     "name": "stdout",
     "output_type": "stream",
     "text": [
      "現在処理中のレース: Race(race_id='201508040711', race_date=datetime.date(2015, 10, 25), track_name='京都', race_number=11, race_name='第76回菊花賞(GI)', distance=3000, track_type='芝', total_horses=18, grade='G1', track_direction='右', weather='晴', track_condition='良', start_time=datetime.time(15, 40), winning_time='3:03.9', pace=None, prize_1st=None, race_class=None, race_conditions=None, created_at=None, updated_at=None)\n"
     ]
    },
    {
     "name": "stderr",
     "output_type": "stream",
     "text": [
      "2025-08-31 22:31:57,226 - src.scraping.extractors.race.race_detail_extractor - INFO - Extracted 18 race results for 201508040511\n",
      "2025-08-31 22:31:57,227 - src.scraping.scrapers.race_scraper - INFO - Successfully extracted race data: 201508040511 (18 horses)\n",
      "2025-08-31 22:31:57,227 - src.scraping.storage.postgresql_storage - INFO - Race Is: Race(race_id='201508040511', race_date=datetime.date(2015, 10, 18), track_name='京都', race_number=11, race_name='第20回秋華賞(GI)', distance=2000, track_type='芝', total_horses=18, grade='G1', track_direction='右', weather='晴', track_condition='良', start_time=datetime.time(15, 40), winning_time='1:56.9', pace=None, prize_1st=None, race_class=None, race_conditions=None, created_at=None, updated_at=None)\n",
      "2025-08-31 22:31:57,392 - src.scraping.scrapers.race_scraper - INFO - race detail url: https://db.netkeiba.com/race/201506040911/\n"
     ]
    },
    {
     "name": "stdout",
     "output_type": "stream",
     "text": [
      "現在処理中のレース: Race(race_id='201508040511', race_date=datetime.date(2015, 10, 18), track_name='京都', race_number=11, race_name='第20回秋華賞(GI)', distance=2000, track_type='芝', total_horses=18, grade='G1', track_direction='右', weather='晴', track_condition='良', start_time=datetime.time(15, 40), winning_time='1:56.9', pace=None, prize_1st=None, race_class=None, race_conditions=None, created_at=None, updated_at=None)\n"
     ]
    },
    {
     "name": "stderr",
     "output_type": "stream",
     "text": [
      "2025-08-31 22:31:58,369 - src.scraping.extractors.race.race_detail_extractor - INFO - Extracted 16 race results for 201506040911\n",
      "2025-08-31 22:31:58,372 - src.scraping.scrapers.race_scraper - INFO - Successfully extracted race data: 201506040911 (16 horses)\n",
      "2025-08-31 22:31:58,377 - src.scraping.storage.postgresql_storage - INFO - Race Is: Race(race_id='201506040911', race_date=datetime.date(2015, 10, 4), track_name='中山', race_number=11, race_name='第49回スプリンターズS(GI)', distance=1200, track_type='芝', total_horses=16, grade='G1', track_direction='右', weather='晴', track_condition='良', start_time=datetime.time(15, 40), winning_time='1:08.1', pace=None, prize_1st=None, race_class=None, race_conditions=None, created_at=None, updated_at=None)\n"
     ]
    },
    {
     "name": "stdout",
     "output_type": "stream",
     "text": [
      "現在処理中のレース: Race(race_id='201506040911', race_date=datetime.date(2015, 10, 4), track_name='中山', race_number=11, race_name='第49回スプリンターズS(GI)', distance=1200, track_type='芝', total_horses=16, grade='G1', track_direction='右', weather='晴', track_condition='良', start_time=datetime.time(15, 40), winning_time='1:08.1', pace=None, prize_1st=None, race_class=None, race_conditions=None, created_at=None, updated_at=None)\n"
     ]
    },
    {
     "name": "stderr",
     "output_type": "stream",
     "text": [
      "2025-08-31 22:31:58,715 - src.scraping.scrapers.race_scraper - INFO - race detail url: https://db.netkeiba.com/race/201509030811/\n",
      "2025-08-31 22:31:59,493 - src.scraping.extractors.race.race_detail_extractor - INFO - Extracted 16 race results for 201509030811\n",
      "2025-08-31 22:31:59,494 - src.scraping.scrapers.race_scraper - INFO - Successfully extracted race data: 201509030811 (16 horses)\n",
      "2025-08-31 22:31:59,494 - src.scraping.storage.postgresql_storage - INFO - Race Is: Race(race_id='201509030811', race_date=datetime.date(2015, 6, 28), track_name='阪神', race_number=11, race_name='第56回宝塚記念(GI)', distance=2200, track_type='芝', total_horses=16, grade='G1', track_direction='右', weather='晴', track_condition='良', start_time=datetime.time(15, 40), winning_time='2:14.4', pace=None, prize_1st=None, race_class=None, race_conditions=None, created_at=None, updated_at=None)\n"
     ]
    },
    {
     "name": "stdout",
     "output_type": "stream",
     "text": [
      "現在処理中のレース: Race(race_id='201509030811', race_date=datetime.date(2015, 6, 28), track_name='阪神', race_number=11, race_name='第56回宝塚記念(GI)', distance=2200, track_type='芝', total_horses=16, grade='G1', track_direction='右', weather='晴', track_condition='良', start_time=datetime.time(15, 40), winning_time='2:14.4', pace=None, prize_1st=None, race_class=None, race_conditions=None, created_at=None, updated_at=None)\n"
     ]
    },
    {
     "name": "stderr",
     "output_type": "stream",
     "text": [
      "2025-08-31 22:31:59,726 - src.scraping.scrapers.race_scraper - INFO - race detail url: https://db.netkeiba.com/race/201505030211/\n",
      "2025-08-31 22:32:00,931 - src.scraping.extractors.race.race_detail_extractor - INFO - Extracted 17 race results for 201505030211\n",
      "2025-08-31 22:32:00,932 - src.scraping.scrapers.race_scraper - INFO - Successfully extracted race data: 201505030211 (17 horses)\n",
      "2025-08-31 22:32:00,933 - src.scraping.storage.postgresql_storage - INFO - Race Is: Race(race_id='201505030211', race_date=datetime.date(2015, 6, 7), track_name='東京', race_number=11, race_name='第65回安田記念(GI)', distance=1600, track_type='芝', total_horses=17, grade='G1', track_direction='左', weather='晴', track_condition='良', start_time=datetime.time(15, 40), winning_time='1:32.0', pace=None, prize_1st=None, race_class=None, race_conditions=None, created_at=None, updated_at=None)\n"
     ]
    },
    {
     "name": "stdout",
     "output_type": "stream",
     "text": [
      "現在処理中のレース: Race(race_id='201505030211', race_date=datetime.date(2015, 6, 7), track_name='東京', race_number=11, race_name='第65回安田記念(GI)', distance=1600, track_type='芝', total_horses=17, grade='G1', track_direction='左', weather='晴', track_condition='良', start_time=datetime.time(15, 40), winning_time='1:32.0', pace=None, prize_1st=None, race_class=None, race_conditions=None, created_at=None, updated_at=None)\n"
     ]
    },
    {
     "name": "stderr",
     "output_type": "stream",
     "text": [
      "2025-08-31 22:32:01,147 - src.scraping.scrapers.race_scraper - INFO - race detail url: https://db.netkeiba.com/race/201505021210/\n",
      "2025-08-31 22:32:01,896 - src.scraping.extractors.race.race_detail_extractor - INFO - Extracted 18 race results for 201505021210\n",
      "2025-08-31 22:32:01,897 - src.scraping.scrapers.race_scraper - INFO - Successfully extracted race data: 201505021210 (18 horses)\n",
      "2025-08-31 22:32:01,897 - src.scraping.storage.postgresql_storage - INFO - Race Is: Race(race_id='201505021210', race_date=datetime.date(2015, 5, 31), track_name='東京1', race_number=10, race_name='第82回東京優駿(GI)', distance=2400, track_type='芝', total_horses=18, grade='G1', track_direction='左', weather='晴', track_condition='良', start_time=datetime.time(15, 40), winning_time='2:23.2', pace=None, prize_1st=None, race_class=None, race_conditions=None, created_at=None, updated_at=None)\n",
      "2025-08-31 22:32:02,062 - src.scraping.scrapers.race_scraper - INFO - race detail url: https://db.netkeiba.com/race/201505021011/\n"
     ]
    },
    {
     "name": "stdout",
     "output_type": "stream",
     "text": [
      "現在処理中のレース: Race(race_id='201505021210', race_date=datetime.date(2015, 5, 31), track_name='東京1', race_number=10, race_name='第82回東京優駿(GI)', distance=2400, track_type='芝', total_horses=18, grade='G1', track_direction='左', weather='晴', track_condition='良', start_time=datetime.time(15, 40), winning_time='2:23.2', pace=None, prize_1st=None, race_class=None, race_conditions=None, created_at=None, updated_at=None)\n"
     ]
    },
    {
     "name": "stderr",
     "output_type": "stream",
     "text": [
      "2025-08-31 22:32:02,927 - src.scraping.extractors.race.race_detail_extractor - INFO - Extracted 18 race results for 201505021011\n",
      "2025-08-31 22:32:02,928 - src.scraping.scrapers.race_scraper - INFO - Successfully extracted race data: 201505021011 (18 horses)\n",
      "2025-08-31 22:32:02,928 - src.scraping.storage.postgresql_storage - INFO - Race Is: Race(race_id='201505021011', race_date=datetime.date(2015, 5, 24), track_name='東京1', race_number=11, race_name='第76回優駿牝馬(GI)', distance=2400, track_type='芝', total_horses=18, grade='G1', track_direction='左', weather='晴', track_condition='良', start_time=datetime.time(15, 40), winning_time='2:25.0', pace=None, prize_1st=None, race_class=None, race_conditions=None, created_at=None, updated_at=None)\n",
      "2025-08-31 22:32:03,080 - src.scraping.scrapers.race_scraper - INFO - race detail url: https://db.netkeiba.com/race/201505020811/\n"
     ]
    },
    {
     "name": "stdout",
     "output_type": "stream",
     "text": [
      "現在処理中のレース: Race(race_id='201505021011', race_date=datetime.date(2015, 5, 24), track_name='東京1', race_number=11, race_name='第76回優駿牝馬(GI)', distance=2400, track_type='芝', total_horses=18, grade='G1', track_direction='左', weather='晴', track_condition='良', start_time=datetime.time(15, 40), winning_time='2:25.0', pace=None, prize_1st=None, race_class=None, race_conditions=None, created_at=None, updated_at=None)\n"
     ]
    },
    {
     "name": "stderr",
     "output_type": "stream",
     "text": [
      "2025-08-31 22:32:03,419 - src.scraping.extractors.race.race_detail_extractor - INFO - Extracted 18 race results for 201505020811\n",
      "2025-08-31 22:32:03,420 - src.scraping.scrapers.race_scraper - INFO - Successfully extracted race data: 201505020811 (18 horses)\n",
      "2025-08-31 22:32:03,421 - src.scraping.storage.postgresql_storage - INFO - Race Is: Race(race_id='201505020811', race_date=datetime.date(2015, 5, 17), track_name='東京', race_number=11, race_name='第10回ヴィクトリアマイル(GI)', distance=1600, track_type='芝', total_horses=18, grade='G1', track_direction='左', weather='晴', track_condition='良', start_time=datetime.time(15, 40), winning_time='1:31.9', pace=None, prize_1st=None, race_class=None, race_conditions=None, created_at=None, updated_at=None)\n",
      "2025-08-31 22:32:03,578 - src.scraping.scrapers.race_scraper - INFO - race detail url: https://db.netkeiba.com/race/201505020611/\n"
     ]
    },
    {
     "name": "stdout",
     "output_type": "stream",
     "text": [
      "現在処理中のレース: Race(race_id='201505020811', race_date=datetime.date(2015, 5, 17), track_name='東京', race_number=11, race_name='第10回ヴィクトリアマイル(GI)', distance=1600, track_type='芝', total_horses=18, grade='G1', track_direction='左', weather='晴', track_condition='良', start_time=datetime.time(15, 40), winning_time='1:31.9', pace=None, prize_1st=None, race_class=None, race_conditions=None, created_at=None, updated_at=None)\n"
     ]
    },
    {
     "name": "stderr",
     "output_type": "stream",
     "text": [
      "2025-08-31 22:32:04,204 - src.scraping.extractors.race.race_detail_extractor - INFO - Extracted 18 race results for 201505020611\n",
      "2025-08-31 22:32:04,204 - src.scraping.scrapers.race_scraper - INFO - Successfully extracted race data: 201505020611 (18 horses)\n",
      "2025-08-31 22:32:04,205 - src.scraping.storage.postgresql_storage - INFO - Race Is: Race(race_id='201505020611', race_date=datetime.date(2015, 5, 10), track_name='東京', race_number=11, race_name='第20回NHKマイルカップ(GI)', distance=1600, track_type='芝', total_horses=18, grade='G1', track_direction='左', weather='晴', track_condition='良', start_time=datetime.time(15, 40), winning_time='1:33.5', pace=None, prize_1st=None, race_class=None, race_conditions=None, created_at=None, updated_at=None)\n",
      "2025-08-31 22:32:04,365 - src.scraping.scrapers.race_scraper - INFO - race detail url: https://db.netkeiba.com/race/201508030411/\n"
     ]
    },
    {
     "name": "stdout",
     "output_type": "stream",
     "text": [
      "現在処理中のレース: Race(race_id='201505020611', race_date=datetime.date(2015, 5, 10), track_name='東京', race_number=11, race_name='第20回NHKマイルカップ(GI)', distance=1600, track_type='芝', total_horses=18, grade='G1', track_direction='左', weather='晴', track_condition='良', start_time=datetime.time(15, 40), winning_time='1:33.5', pace=None, prize_1st=None, race_class=None, race_conditions=None, created_at=None, updated_at=None)\n"
     ]
    },
    {
     "name": "stderr",
     "output_type": "stream",
     "text": [
      "2025-08-31 22:32:04,797 - src.scraping.extractors.race.race_detail_extractor - INFO - Extracted 17 race results for 201508030411\n",
      "2025-08-31 22:32:04,798 - src.scraping.scrapers.race_scraper - INFO - Successfully extracted race data: 201508030411 (17 horses)\n",
      "2025-08-31 22:32:04,798 - src.scraping.storage.postgresql_storage - INFO - Race Is: Race(race_id='201508030411', race_date=datetime.date(2015, 5, 3), track_name='京都', race_number=11, race_name='第151回天皇賞(春)(GI)', distance=3200, track_type='芝', total_horses=17, grade='G1', track_direction='右', weather='晴', track_condition='良', start_time=datetime.time(15, 40), winning_time='3:14.7', pace=None, prize_1st=None, race_class=None, race_conditions=None, created_at=None, updated_at=None)\n",
      "2025-08-31 22:32:04,955 - src.scraping.scrapers.race_scraper - INFO - race detail url: https://db.netkeiba.com/race/201506030811/\n"
     ]
    },
    {
     "name": "stdout",
     "output_type": "stream",
     "text": [
      "現在処理中のレース: Race(race_id='201508030411', race_date=datetime.date(2015, 5, 3), track_name='京都', race_number=11, race_name='第151回天皇賞(春)(GI)', distance=3200, track_type='芝', total_horses=17, grade='G1', track_direction='右', weather='晴', track_condition='良', start_time=datetime.time(15, 40), winning_time='3:14.7', pace=None, prize_1st=None, race_class=None, race_conditions=None, created_at=None, updated_at=None)\n"
     ]
    },
    {
     "name": "stderr",
     "output_type": "stream",
     "text": [
      "2025-08-31 22:32:06,761 - src.scraping.extractors.race.race_detail_extractor - INFO - Extracted 15 race results for 201506030811\n",
      "2025-08-31 22:32:06,762 - src.scraping.scrapers.race_scraper - INFO - Successfully extracted race data: 201506030811 (15 horses)\n",
      "2025-08-31 22:32:06,763 - src.scraping.storage.postgresql_storage - INFO - Race Is: Race(race_id='201506030811', race_date=datetime.date(2015, 4, 19), track_name='中山', race_number=11, race_name='第75回皐月賞(GI)', distance=2000, track_type='芝', total_horses=15, grade='G1', track_direction='右', weather='曇', track_condition='良', start_time=datetime.time(15, 40), winning_time='1:58.2', pace=None, prize_1st=None, race_class=None, race_conditions=None, created_at=None, updated_at=None)\n",
      "2025-08-31 22:32:06,901 - src.scraping.scrapers.race_scraper - INFO - race detail url: https://db.netkeiba.com/race/201509020611/\n"
     ]
    },
    {
     "name": "stdout",
     "output_type": "stream",
     "text": [
      "現在処理中のレース: Race(race_id='201506030811', race_date=datetime.date(2015, 4, 19), track_name='中山', race_number=11, race_name='第75回皐月賞(GI)', distance=2000, track_type='芝', total_horses=15, grade='G1', track_direction='右', weather='曇', track_condition='良', start_time=datetime.time(15, 40), winning_time='1:58.2', pace=None, prize_1st=None, race_class=None, race_conditions=None, created_at=None, updated_at=None)\n"
     ]
    },
    {
     "name": "stderr",
     "output_type": "stream",
     "text": [
      "2025-08-31 22:32:07,659 - src.scraping.extractors.race.race_detail_extractor - INFO - Extracted 18 race results for 201509020611\n",
      "2025-08-31 22:32:07,659 - src.scraping.scrapers.race_scraper - INFO - Successfully extracted race data: 201509020611 (18 horses)\n",
      "2025-08-31 22:32:07,659 - src.scraping.storage.postgresql_storage - INFO - Race Is: Race(race_id='201509020611', race_date=datetime.date(2015, 4, 12), track_name='阪神', race_number=11, race_name='第75回桜花賞(GI)', distance=1600, track_type='芝', total_horses=18, grade='G1', track_direction='右', weather='晴', track_condition='良', start_time=datetime.time(15, 40), winning_time='1:36.0', pace=None, prize_1st=None, race_class=None, race_conditions=None, created_at=None, updated_at=None)\n",
      "2025-08-31 22:32:07,765 - src.scraping.scrapers.race_scraper - INFO - race detail url: https://db.netkeiba.com/race/201507020611/\n"
     ]
    },
    {
     "name": "stdout",
     "output_type": "stream",
     "text": [
      "現在処理中のレース: Race(race_id='201509020611', race_date=datetime.date(2015, 4, 12), track_name='阪神', race_number=11, race_name='第75回桜花賞(GI)', distance=1600, track_type='芝', total_horses=18, grade='G1', track_direction='右', weather='晴', track_condition='良', start_time=datetime.time(15, 40), winning_time='1:36.0', pace=None, prize_1st=None, race_class=None, race_conditions=None, created_at=None, updated_at=None)\n"
     ]
    },
    {
     "name": "stderr",
     "output_type": "stream",
     "text": [
      "2025-08-31 22:32:08,297 - src.scraping.extractors.race.race_detail_extractor - INFO - Extracted 18 race results for 201507020611\n",
      "2025-08-31 22:32:08,300 - src.scraping.scrapers.race_scraper - INFO - Successfully extracted race data: 201507020611 (18 horses)\n",
      "2025-08-31 22:32:08,301 - src.scraping.storage.postgresql_storage - INFO - Race Is: Race(race_id='201507020611', race_date=datetime.date(2015, 3, 29), track_name='中京', race_number=11, race_name='第45回高松宮記念(GI)', distance=1200, track_type='芝', total_horses=18, grade='G1', track_direction='左', weather='小雨', track_condition='稍重', start_time=datetime.time(15, 40), winning_time='1:08.5', pace=None, prize_1st=None, race_class=None, race_conditions=None, created_at=None, updated_at=None)\n",
      "2025-08-31 22:32:08,491 - src.scraping.scrapers.race_scraper - INFO - race detail url: https://db.netkeiba.com/race/201406040810/\n"
     ]
    },
    {
     "name": "stdout",
     "output_type": "stream",
     "text": [
      "現在処理中のレース: Race(race_id='201507020611', race_date=datetime.date(2015, 3, 29), track_name='中京', race_number=11, race_name='第45回高松宮記念(GI)', distance=1200, track_type='芝', total_horses=18, grade='G1', track_direction='左', weather='小雨', track_condition='稍重', start_time=datetime.time(15, 40), winning_time='1:08.5', pace=None, prize_1st=None, race_class=None, race_conditions=None, created_at=None, updated_at=None)\n"
     ]
    },
    {
     "name": "stderr",
     "output_type": "stream",
     "text": [
      "2025-08-31 22:32:08,854 - src.scraping.extractors.race.race_detail_extractor - INFO - Extracted 16 race results for 201406040810\n",
      "2025-08-31 22:32:08,854 - src.scraping.scrapers.race_scraper - INFO - Successfully extracted race data: 201406040810 (16 horses)\n",
      "2025-08-31 22:32:08,855 - src.scraping.storage.postgresql_storage - INFO - Race Is: Race(race_id='201406040810', race_date=datetime.date(2014, 12, 28), track_name='中山', race_number=10, race_name='第59回有馬記念(GI)', distance=2500, track_type='芝', total_horses=16, grade='G1', track_direction='右', weather='晴', track_condition='良', start_time=datetime.time(15, 25), winning_time='2:35.3', pace=None, prize_1st=None, race_class=None, race_conditions=None, created_at=None, updated_at=None)\n"
     ]
    },
    {
     "name": "stdout",
     "output_type": "stream",
     "text": [
      "現在処理中のレース: Race(race_id='201406040810', race_date=datetime.date(2014, 12, 28), track_name='中山', race_number=10, race_name='第59回有馬記念(GI)', distance=2500, track_type='芝', total_horses=16, grade='G1', track_direction='右', weather='晴', track_condition='良', start_time=datetime.time(15, 25), winning_time='2:35.3', pace=None, prize_1st=None, race_class=None, race_conditions=None, created_at=None, updated_at=None)\n"
     ]
    },
    {
     "name": "stderr",
     "output_type": "stream",
     "text": [
      "2025-08-31 22:32:09,149 - src.scraping.scrapers.race_scraper - INFO - race detail url: https://db.netkeiba.com/race/201409050611/\n",
      "2025-08-31 22:32:09,763 - src.scraping.extractors.race.race_detail_extractor - INFO - Extracted 18 race results for 201409050611\n",
      "2025-08-31 22:32:09,764 - src.scraping.scrapers.race_scraper - INFO - Successfully extracted race data: 201409050611 (18 horses)\n",
      "2025-08-31 22:32:09,764 - src.scraping.storage.postgresql_storage - INFO - Race Is: Race(race_id='201409050611', race_date=datetime.date(2014, 12, 21), track_name='阪神', race_number=11, race_name='第66回朝日フューチュリティ(GI)', distance=1600, track_type='芝', total_horses=18, grade='G1', track_direction='右', weather='晴', track_condition='稍重', start_time=datetime.time(15, 40), winning_time='1:35.9', pace=None, prize_1st=None, race_class=None, race_conditions=None, created_at=None, updated_at=None)\n",
      "2025-08-31 22:32:09,906 - src.scraping.scrapers.race_scraper - INFO - race detail url: https://db.netkeiba.com/race/201409050411/\n"
     ]
    },
    {
     "name": "stdout",
     "output_type": "stream",
     "text": [
      "現在処理中のレース: Race(race_id='201409050611', race_date=datetime.date(2014, 12, 21), track_name='阪神', race_number=11, race_name='第66回朝日フューチュリティ(GI)', distance=1600, track_type='芝', total_horses=18, grade='G1', track_direction='右', weather='晴', track_condition='稍重', start_time=datetime.time(15, 40), winning_time='1:35.9', pace=None, prize_1st=None, race_class=None, race_conditions=None, created_at=None, updated_at=None)\n"
     ]
    },
    {
     "name": "stderr",
     "output_type": "stream",
     "text": [
      "2025-08-31 22:32:10,332 - src.scraping.extractors.race.race_detail_extractor - INFO - Extracted 18 race results for 201409050411\n",
      "2025-08-31 22:32:10,333 - src.scraping.scrapers.race_scraper - INFO - Successfully extracted race data: 201409050411 (18 horses)\n",
      "2025-08-31 22:32:10,333 - src.scraping.storage.postgresql_storage - INFO - Race Is: Race(race_id='201409050411', race_date=datetime.date(2014, 12, 14), track_name='阪神', race_number=11, race_name='第66回阪神ジュベナイルF(GI)', distance=1600, track_type='芝', total_horses=18, grade='G1', track_direction='右', weather='晴', track_condition='良', start_time=datetime.time(15, 40), winning_time='1:34.4', pace=None, prize_1st=None, race_class=None, race_conditions=None, created_at=None, updated_at=None)\n",
      "2025-08-31 22:32:10,456 - src.scraping.scrapers.race_scraper - INFO - race detail url: https://db.netkeiba.com/race/201405050911/\n"
     ]
    },
    {
     "name": "stdout",
     "output_type": "stream",
     "text": [
      "現在処理中のレース: Race(race_id='201409050411', race_date=datetime.date(2014, 12, 14), track_name='阪神', race_number=11, race_name='第66回阪神ジュベナイルF(GI)', distance=1600, track_type='芝', total_horses=18, grade='G1', track_direction='右', weather='晴', track_condition='良', start_time=datetime.time(15, 40), winning_time='1:34.4', pace=None, prize_1st=None, race_class=None, race_conditions=None, created_at=None, updated_at=None)\n"
     ]
    },
    {
     "name": "stderr",
     "output_type": "stream",
     "text": [
      "2025-08-31 22:32:10,924 - src.scraping.extractors.race.race_detail_extractor - INFO - Extracted 18 race results for 201405050911\n",
      "2025-08-31 22:32:10,925 - src.scraping.scrapers.race_scraper - INFO - Successfully extracted race data: 201405050911 (18 horses)\n",
      "2025-08-31 22:32:10,925 - src.scraping.storage.postgresql_storage - INFO - Race Is: Race(race_id='201405050911', race_date=datetime.date(2014, 11, 30), track_name='東京', race_number=11, race_name='第34回ジャパンカップ(GI)', distance=2400, track_type='芝', total_horses=18, grade='G1', track_direction='左', weather='晴', track_condition='良', start_time=datetime.time(15, 55), winning_time='2:23.1', pace=None, prize_1st=None, race_class=None, race_conditions=None, created_at=None, updated_at=None)\n",
      "2025-08-31 22:32:11,113 - src.scraping.scrapers.race_scraper - INFO - race detail url: https://db.netkeiba.com/race/201408050611/\n"
     ]
    },
    {
     "name": "stdout",
     "output_type": "stream",
     "text": [
      "現在処理中のレース: Race(race_id='201405050911', race_date=datetime.date(2014, 11, 30), track_name='東京', race_number=11, race_name='第34回ジャパンカップ(GI)', distance=2400, track_type='芝', total_horses=18, grade='G1', track_direction='左', weather='晴', track_condition='良', start_time=datetime.time(15, 55), winning_time='2:23.1', pace=None, prize_1st=None, race_class=None, race_conditions=None, created_at=None, updated_at=None)\n"
     ]
    },
    {
     "name": "stderr",
     "output_type": "stream",
     "text": [
      "2025-08-31 22:32:11,950 - src.scraping.extractors.race.race_detail_extractor - INFO - Extracted 17 race results for 201408050611\n",
      "2025-08-31 22:32:11,950 - src.scraping.scrapers.race_scraper - INFO - Successfully extracted race data: 201408050611 (17 horses)\n",
      "2025-08-31 22:32:11,951 - src.scraping.storage.postgresql_storage - INFO - Race Is: Race(race_id='201408050611', race_date=datetime.date(2014, 11, 23), track_name='京都', race_number=11, race_name='第31回マイルチャンピオンS(GI)', distance=1600, track_type='芝', total_horses=17, grade='G1', track_direction='右', weather='晴', track_condition='良', start_time=datetime.time(15, 40), winning_time='1:31.5', pace=None, prize_1st=None, race_class=None, race_conditions=None, created_at=None, updated_at=None)\n",
      "2025-08-31 22:32:12,111 - src.scraping.scrapers.race_scraper - INFO - race detail url: https://db.netkeiba.com/race/201408050411/\n"
     ]
    },
    {
     "name": "stdout",
     "output_type": "stream",
     "text": [
      "現在処理中のレース: Race(race_id='201408050611', race_date=datetime.date(2014, 11, 23), track_name='京都', race_number=11, race_name='第31回マイルチャンピオンS(GI)', distance=1600, track_type='芝', total_horses=17, grade='G1', track_direction='右', weather='晴', track_condition='良', start_time=datetime.time(15, 40), winning_time='1:31.5', pace=None, prize_1st=None, race_class=None, race_conditions=None, created_at=None, updated_at=None)\n"
     ]
    },
    {
     "name": "stderr",
     "output_type": "stream",
     "text": [
      "2025-08-31 22:32:12,925 - src.scraping.extractors.race.race_detail_extractor - INFO - Extracted 18 race results for 201408050411\n",
      "2025-08-31 22:32:12,940 - src.scraping.scrapers.race_scraper - INFO - Successfully extracted race data: 201408050411 (18 horses)\n",
      "2025-08-31 22:32:12,944 - src.scraping.storage.postgresql_storage - INFO - Race Is: Race(race_id='201408050411', race_date=datetime.date(2014, 11, 16), track_name='京都', race_number=11, race_name='第39回エリザベス女王杯(GI)', distance=2200, track_type='芝', total_horses=18, grade='G1', track_direction='右', weather='晴', track_condition='良', start_time=datetime.time(15, 40), winning_time='2:12.3', pace=None, prize_1st=None, race_class=None, race_conditions=None, created_at=None, updated_at=None)\n"
     ]
    },
    {
     "name": "stdout",
     "output_type": "stream",
     "text": [
      "現在処理中のレース: Race(race_id='201408050411', race_date=datetime.date(2014, 11, 16), track_name='京都', race_number=11, race_name='第39回エリザベス女王杯(GI)', distance=2200, track_type='芝', total_horses=18, grade='G1', track_direction='右', weather='晴', track_condition='良', start_time=datetime.time(15, 40), winning_time='2:12.3', pace=None, prize_1st=None, race_class=None, race_conditions=None, created_at=None, updated_at=None)\n"
     ]
    },
    {
     "name": "stderr",
     "output_type": "stream",
     "text": [
      "2025-08-31 22:32:13,423 - src.scraping.scrapers.race_scraper - INFO - race detail url: https://db.netkeiba.com/race/201405040911/\n",
      "2025-08-31 22:32:14,137 - src.scraping.extractors.race.race_detail_extractor - INFO - Extracted 18 race results for 201405040911\n",
      "2025-08-31 22:32:14,146 - src.scraping.scrapers.race_scraper - INFO - Successfully extracted race data: 201405040911 (18 horses)\n",
      "2025-08-31 22:32:14,152 - src.scraping.storage.postgresql_storage - INFO - Race Is: Race(race_id='201405040911', race_date=datetime.date(2014, 11, 2), track_name='東京', race_number=11, race_name='第150回天皇賞(秋)(GI)', distance=2000, track_type='芝', total_horses=18, grade='G1', track_direction='左', weather='晴', track_condition='良', start_time=datetime.time(15, 40), winning_time='1:59.7', pace=None, prize_1st=None, race_class=None, race_conditions=None, created_at=None, updated_at=None)\n"
     ]
    },
    {
     "name": "stdout",
     "output_type": "stream",
     "text": [
      "現在処理中のレース: Race(race_id='201405040911', race_date=datetime.date(2014, 11, 2), track_name='東京', race_number=11, race_name='第150回天皇賞(秋)(GI)', distance=2000, track_type='芝', total_horses=18, grade='G1', track_direction='左', weather='晴', track_condition='良', start_time=datetime.time(15, 40), winning_time='1:59.7', pace=None, prize_1st=None, race_class=None, race_conditions=None, created_at=None, updated_at=None)\n"
     ]
    },
    {
     "name": "stderr",
     "output_type": "stream",
     "text": [
      "2025-08-31 22:32:14,697 - src.scraping.scrapers.race_scraper - INFO - race detail url: https://db.netkeiba.com/race/201408040711/\n",
      "2025-08-31 22:32:15,636 - src.scraping.extractors.race.race_detail_extractor - INFO - Extracted 18 race results for 201408040711\n",
      "2025-08-31 22:32:15,637 - src.scraping.scrapers.race_scraper - INFO - Successfully extracted race data: 201408040711 (18 horses)\n",
      "2025-08-31 22:32:15,637 - src.scraping.storage.postgresql_storage - INFO - Race Is: Race(race_id='201408040711', race_date=datetime.date(2014, 10, 26), track_name='京都', race_number=11, race_name='第75回菊花賞(GI)', distance=3000, track_type='芝', total_horses=18, grade='G1', track_direction='右', weather='晴', track_condition='良', start_time=datetime.time(15, 40), winning_time='3:01.0', pace=None, prize_1st=None, race_class=None, race_conditions=None, created_at=None, updated_at=None)\n"
     ]
    },
    {
     "name": "stdout",
     "output_type": "stream",
     "text": [
      "現在処理中のレース: Race(race_id='201408040711', race_date=datetime.date(2014, 10, 26), track_name='京都', race_number=11, race_name='第75回菊花賞(GI)', distance=3000, track_type='芝', total_horses=18, grade='G1', track_direction='右', weather='晴', track_condition='良', start_time=datetime.time(15, 40), winning_time='3:01.0', pace=None, prize_1st=None, race_class=None, race_conditions=None, created_at=None, updated_at=None)\n"
     ]
    },
    {
     "name": "stderr",
     "output_type": "stream",
     "text": [
      "2025-08-31 22:32:15,842 - src.scraping.scrapers.race_scraper - INFO - race detail url: https://db.netkeiba.com/race/201408040511/\n",
      "2025-08-31 22:32:16,952 - src.scraping.extractors.race.race_detail_extractor - INFO - Extracted 18 race results for 201408040511\n",
      "2025-08-31 22:32:16,953 - src.scraping.scrapers.race_scraper - INFO - Successfully extracted race data: 201408040511 (18 horses)\n",
      "2025-08-31 22:32:16,953 - src.scraping.storage.postgresql_storage - INFO - Race Is: Race(race_id='201408040511', race_date=datetime.date(2014, 10, 19), track_name='京都', race_number=11, race_name='第19回秋華賞(GI)', distance=2000, track_type='芝', total_horses=18, grade='G1', track_direction='右', weather='晴', track_condition='良', start_time=datetime.time(15, 40), winning_time='1:57.0', pace=None, prize_1st=None, race_class=None, race_conditions=None, created_at=None, updated_at=None)\n",
      "2025-08-31 22:32:17,107 - src.scraping.scrapers.race_scraper - INFO - race detail url: https://db.netkeiba.com/race/201404030811/\n"
     ]
    },
    {
     "name": "stdout",
     "output_type": "stream",
     "text": [
      "現在処理中のレース: Race(race_id='201408040511', race_date=datetime.date(2014, 10, 19), track_name='京都', race_number=11, race_name='第19回秋華賞(GI)', distance=2000, track_type='芝', total_horses=18, grade='G1', track_direction='右', weather='晴', track_condition='良', start_time=datetime.time(15, 40), winning_time='1:57.0', pace=None, prize_1st=None, race_class=None, race_conditions=None, created_at=None, updated_at=None)\n"
     ]
    },
    {
     "name": "stderr",
     "output_type": "stream",
     "text": [
      "2025-08-31 22:32:17,470 - src.scraping.extractors.race.race_detail_extractor - INFO - Extracted 18 race results for 201404030811\n",
      "2025-08-31 22:32:17,471 - src.scraping.scrapers.race_scraper - INFO - Successfully extracted race data: 201404030811 (18 horses)\n",
      "2025-08-31 22:32:17,471 - src.scraping.storage.postgresql_storage - INFO - Race Is: Race(race_id='201404030811', race_date=datetime.date(2014, 10, 5), track_name='新潟', race_number=11, race_name='第48回スプリンターズS(GI)', distance=1200, track_type='芝', total_horses=18, grade='G1', track_direction='左', weather='小雨', track_condition='良', start_time=datetime.time(15, 40), winning_time='1:08.8', pace=None, prize_1st=None, race_class=None, race_conditions=None, created_at=None, updated_at=None)\n",
      "2025-08-31 22:32:17,635 - src.scraping.scrapers.race_scraper - INFO - race detail url: https://db.netkeiba.com/race/201409030811/\n"
     ]
    },
    {
     "name": "stdout",
     "output_type": "stream",
     "text": [
      "現在処理中のレース: Race(race_id='201404030811', race_date=datetime.date(2014, 10, 5), track_name='新潟', race_number=11, race_name='第48回スプリンターズS(GI)', distance=1200, track_type='芝', total_horses=18, grade='G1', track_direction='左', weather='小雨', track_condition='良', start_time=datetime.time(15, 40), winning_time='1:08.8', pace=None, prize_1st=None, race_class=None, race_conditions=None, created_at=None, updated_at=None)\n"
     ]
    },
    {
     "name": "stderr",
     "output_type": "stream",
     "text": [
      "2025-08-31 22:32:18,165 - src.scraping.extractors.race.race_detail_extractor - INFO - Extracted 12 race results for 201409030811\n",
      "2025-08-31 22:32:18,166 - src.scraping.scrapers.race_scraper - INFO - Successfully extracted race data: 201409030811 (12 horses)\n",
      "2025-08-31 22:32:18,167 - src.scraping.storage.postgresql_storage - INFO - Race Is: Race(race_id='201409030811', race_date=datetime.date(2014, 6, 29), track_name='阪神', race_number=11, race_name='第55回宝塚記念(GI)', distance=2200, track_type='芝', total_horses=12, grade='G1', track_direction='右', weather='曇', track_condition='良', start_time=datetime.time(15, 40), winning_time='2:13.9', pace=None, prize_1st=None, race_class=None, race_conditions=None, created_at=None, updated_at=None)\n"
     ]
    },
    {
     "name": "stdout",
     "output_type": "stream",
     "text": [
      "現在処理中のレース: Race(race_id='201409030811', race_date=datetime.date(2014, 6, 29), track_name='阪神', race_number=11, race_name='第55回宝塚記念(GI)', distance=2200, track_type='芝', total_horses=12, grade='G1', track_direction='右', weather='曇', track_condition='良', start_time=datetime.time(15, 40), winning_time='2:13.9', pace=None, prize_1st=None, race_class=None, race_conditions=None, created_at=None, updated_at=None)\n"
     ]
    },
    {
     "name": "stderr",
     "output_type": "stream",
     "text": [
      "2025-08-31 22:32:18,367 - src.scraping.scrapers.race_scraper - INFO - race detail url: https://db.netkeiba.com/race/201405030211/\n",
      "2025-08-31 22:32:18,900 - src.scraping.extractors.race.race_detail_extractor - INFO - Extracted 17 race results for 201405030211\n",
      "2025-08-31 22:32:18,900 - src.scraping.scrapers.race_scraper - INFO - Successfully extracted race data: 201405030211 (17 horses)\n",
      "2025-08-31 22:32:18,901 - src.scraping.storage.postgresql_storage - INFO - Race Is: Race(race_id='201405030211', race_date=datetime.date(2014, 6, 8), track_name='東京', race_number=11, race_name='第64回安田記念(GI)', distance=1600, track_type='芝', total_horses=17, grade='G1', track_direction='左', weather='小雨', track_condition='不良', start_time=datetime.time(15, 40), winning_time='1:36.8', pace=None, prize_1st=None, race_class=None, race_conditions=None, created_at=None, updated_at=None)\n",
      "2025-08-31 22:32:19,054 - src.scraping.scrapers.race_scraper - INFO - race detail url: https://db.netkeiba.com/race/201405021210/\n"
     ]
    },
    {
     "name": "stdout",
     "output_type": "stream",
     "text": [
      "現在処理中のレース: Race(race_id='201405030211', race_date=datetime.date(2014, 6, 8), track_name='東京', race_number=11, race_name='第64回安田記念(GI)', distance=1600, track_type='芝', total_horses=17, grade='G1', track_direction='左', weather='小雨', track_condition='不良', start_time=datetime.time(15, 40), winning_time='1:36.8', pace=None, prize_1st=None, race_class=None, race_conditions=None, created_at=None, updated_at=None)\n"
     ]
    },
    {
     "name": "stderr",
     "output_type": "stream",
     "text": [
      "2025-08-31 22:32:20,090 - src.scraping.extractors.race.race_detail_extractor - INFO - Extracted 18 race results for 201405021210\n",
      "2025-08-31 22:32:20,090 - src.scraping.scrapers.race_scraper - INFO - Successfully extracted race data: 201405021210 (18 horses)\n",
      "2025-08-31 22:32:20,091 - src.scraping.storage.postgresql_storage - INFO - Race Is: Race(race_id='201405021210', race_date=datetime.date(2014, 6, 1), track_name='東京1', race_number=10, race_name='第81回東京優駿(GI)', distance=2400, track_type='芝', total_horses=18, grade='G1', track_direction='左', weather='晴', track_condition='良', start_time=datetime.time(15, 40), winning_time='2:24.6', pace=None, prize_1st=None, race_class=None, race_conditions=None, created_at=None, updated_at=None)\n"
     ]
    },
    {
     "name": "stdout",
     "output_type": "stream",
     "text": [
      "現在処理中のレース: Race(race_id='201405021210', race_date=datetime.date(2014, 6, 1), track_name='東京1', race_number=10, race_name='第81回東京優駿(GI)', distance=2400, track_type='芝', total_horses=18, grade='G1', track_direction='左', weather='晴', track_condition='良', start_time=datetime.time(15, 40), winning_time='2:24.6', pace=None, prize_1st=None, race_class=None, race_conditions=None, created_at=None, updated_at=None)\n"
     ]
    },
    {
     "name": "stderr",
     "output_type": "stream",
     "text": [
      "2025-08-31 22:32:20,347 - src.scraping.scrapers.race_scraper - INFO - race detail url: https://db.netkeiba.com/race/201405021011/\n",
      "2025-08-31 22:32:20,862 - src.scraping.extractors.race.race_detail_extractor - INFO - Extracted 18 race results for 201405021011\n",
      "2025-08-31 22:32:20,862 - src.scraping.scrapers.race_scraper - INFO - Successfully extracted race data: 201405021011 (18 horses)\n",
      "2025-08-31 22:32:20,863 - src.scraping.storage.postgresql_storage - INFO - Race Is: Race(race_id='201405021011', race_date=datetime.date(2014, 5, 25), track_name='東京1', race_number=11, race_name='第75回優駿牝馬(GI)', distance=2400, track_type='芝', total_horses=18, grade='G1', track_direction='左', weather='晴', track_condition='良', start_time=datetime.time(15, 40), winning_time='2:25.8', pace=None, prize_1st=None, race_class=None, race_conditions=None, created_at=None, updated_at=None)\n"
     ]
    },
    {
     "name": "stdout",
     "output_type": "stream",
     "text": [
      "現在処理中のレース: Race(race_id='201405021011', race_date=datetime.date(2014, 5, 25), track_name='東京1', race_number=11, race_name='第75回優駿牝馬(GI)', distance=2400, track_type='芝', total_horses=18, grade='G1', track_direction='左', weather='晴', track_condition='良', start_time=datetime.time(15, 40), winning_time='2:25.8', pace=None, prize_1st=None, race_class=None, race_conditions=None, created_at=None, updated_at=None)\n"
     ]
    },
    {
     "name": "stderr",
     "output_type": "stream",
     "text": [
      "2025-08-31 22:32:21,089 - src.scraping.scrapers.race_scraper - INFO - race detail url: https://db.netkeiba.com/race/201405020811/\n",
      "2025-08-31 22:32:21,679 - src.scraping.extractors.race.race_detail_extractor - INFO - Extracted 18 race results for 201405020811\n",
      "2025-08-31 22:32:21,679 - src.scraping.scrapers.race_scraper - INFO - Successfully extracted race data: 201405020811 (18 horses)\n",
      "2025-08-31 22:32:21,680 - src.scraping.storage.postgresql_storage - INFO - Race Is: Race(race_id='201405020811', race_date=datetime.date(2014, 5, 18), track_name='東京', race_number=11, race_name='第9回ヴィクトリアマイル(GI)', distance=1600, track_type='芝', total_horses=18, grade='G1', track_direction='左', weather='晴', track_condition='良', start_time=datetime.time(15, 40), winning_time='1:32.3', pace=None, prize_1st=None, race_class=None, race_conditions=None, created_at=None, updated_at=None)\n",
      "2025-08-31 22:32:21,816 - src.scraping.scrapers.race_scraper - INFO - race detail url: https://db.netkeiba.com/race/201405020611/\n"
     ]
    },
    {
     "name": "stdout",
     "output_type": "stream",
     "text": [
      "現在処理中のレース: Race(race_id='201405020811', race_date=datetime.date(2014, 5, 18), track_name='東京', race_number=11, race_name='第9回ヴィクトリアマイル(GI)', distance=1600, track_type='芝', total_horses=18, grade='G1', track_direction='左', weather='晴', track_condition='良', start_time=datetime.time(15, 40), winning_time='1:32.3', pace=None, prize_1st=None, race_class=None, race_conditions=None, created_at=None, updated_at=None)\n"
     ]
    },
    {
     "name": "stderr",
     "output_type": "stream",
     "text": [
      "2025-08-31 22:32:22,341 - src.scraping.extractors.race.race_detail_extractor - INFO - Extracted 18 race results for 201405020611\n",
      "2025-08-31 22:32:22,342 - src.scraping.scrapers.race_scraper - INFO - Successfully extracted race data: 201405020611 (18 horses)\n",
      "2025-08-31 22:32:22,342 - src.scraping.storage.postgresql_storage - INFO - Race Is: Race(race_id='201405020611', race_date=datetime.date(2014, 5, 11), track_name='東京', race_number=11, race_name='第19回NHKマイルカップ(GI)', distance=1600, track_type='芝', total_horses=18, grade='G1', track_direction='左', weather='晴', track_condition='良', start_time=datetime.time(15, 40), winning_time='1:33.2', pace=None, prize_1st=None, race_class=None, race_conditions=None, created_at=None, updated_at=None)\n"
     ]
    },
    {
     "name": "stdout",
     "output_type": "stream",
     "text": [
      "現在処理中のレース: Race(race_id='201405020611', race_date=datetime.date(2014, 5, 11), track_name='東京', race_number=11, race_name='第19回NHKマイルカップ(GI)', distance=1600, track_type='芝', total_horses=18, grade='G1', track_direction='左', weather='晴', track_condition='良', start_time=datetime.time(15, 40), winning_time='1:33.2', pace=None, prize_1st=None, race_class=None, race_conditions=None, created_at=None, updated_at=None)\n"
     ]
    },
    {
     "name": "stderr",
     "output_type": "stream",
     "text": [
      "2025-08-31 22:32:22,575 - src.scraping.scrapers.race_scraper - INFO - race detail url: https://db.netkeiba.com/race/201408030411/\n",
      "2025-08-31 22:32:24,296 - src.scraping.extractors.race.race_detail_extractor - INFO - Extracted 18 race results for 201408030411\n",
      "2025-08-31 22:32:24,297 - src.scraping.scrapers.race_scraper - INFO - Successfully extracted race data: 201408030411 (18 horses)\n",
      "2025-08-31 22:32:24,297 - src.scraping.storage.postgresql_storage - INFO - Race Is: Race(race_id='201408030411', race_date=datetime.date(2014, 5, 4), track_name='京都', race_number=11, race_name='第149回天皇賞(春)(GI)', distance=3200, track_type='芝', total_horses=18, grade='G1', track_direction='右', weather='晴', track_condition='良', start_time=datetime.time(15, 40), winning_time='3:15.1', pace=None, prize_1st=None, race_class=None, race_conditions=None, created_at=None, updated_at=None)\n"
     ]
    },
    {
     "name": "stdout",
     "output_type": "stream",
     "text": [
      "現在処理中のレース: Race(race_id='201408030411', race_date=datetime.date(2014, 5, 4), track_name='京都', race_number=11, race_name='第149回天皇賞(春)(GI)', distance=3200, track_type='芝', total_horses=18, grade='G1', track_direction='右', weather='晴', track_condition='良', start_time=datetime.time(15, 40), winning_time='3:15.1', pace=None, prize_1st=None, race_class=None, race_conditions=None, created_at=None, updated_at=None)\n"
     ]
    },
    {
     "name": "stderr",
     "output_type": "stream",
     "text": [
      "2025-08-31 22:32:24,537 - src.scraping.scrapers.race_scraper - INFO - race detail url: https://db.netkeiba.com/race/201406030811/\n",
      "2025-08-31 22:32:25,103 - src.scraping.extractors.race.race_detail_extractor - INFO - Extracted 18 race results for 201406030811\n",
      "2025-08-31 22:32:25,104 - src.scraping.scrapers.race_scraper - INFO - Successfully extracted race data: 201406030811 (18 horses)\n",
      "2025-08-31 22:32:25,104 - src.scraping.storage.postgresql_storage - INFO - Race Is: Race(race_id='201406030811', race_date=datetime.date(2014, 4, 20), track_name='中山', race_number=11, race_name='第74回皐月賞(GI)', distance=2000, track_type='芝', total_horses=18, grade='G1', track_direction='右', weather='曇', track_condition='良', start_time=datetime.time(15, 40), winning_time='1:59.6', pace=None, prize_1st=None, race_class=None, race_conditions=None, created_at=None, updated_at=None)\n",
      "2025-08-31 22:32:25,303 - src.scraping.scrapers.race_scraper - INFO - race detail url: https://db.netkeiba.com/race/201409020611/\n"
     ]
    },
    {
     "name": "stdout",
     "output_type": "stream",
     "text": [
      "現在処理中のレース: Race(race_id='201406030811', race_date=datetime.date(2014, 4, 20), track_name='中山', race_number=11, race_name='第74回皐月賞(GI)', distance=2000, track_type='芝', total_horses=18, grade='G1', track_direction='右', weather='曇', track_condition='良', start_time=datetime.time(15, 40), winning_time='1:59.6', pace=None, prize_1st=None, race_class=None, race_conditions=None, created_at=None, updated_at=None)\n"
     ]
    },
    {
     "name": "stderr",
     "output_type": "stream",
     "text": [
      "2025-08-31 22:32:26,074 - src.scraping.extractors.race.race_detail_extractor - INFO - Extracted 18 race results for 201409020611\n",
      "2025-08-31 22:32:26,074 - src.scraping.scrapers.race_scraper - INFO - Successfully extracted race data: 201409020611 (18 horses)\n",
      "2025-08-31 22:32:26,075 - src.scraping.storage.postgresql_storage - INFO - Race Is: Race(race_id='201409020611', race_date=datetime.date(2014, 4, 13), track_name='阪神', race_number=11, race_name='第74回桜花賞(GI)', distance=1600, track_type='芝', total_horses=18, grade='G1', track_direction='右', weather='曇', track_condition='良', start_time=datetime.time(15, 40), winning_time='1:33.3', pace=None, prize_1st=None, race_class=None, race_conditions=None, created_at=None, updated_at=None)\n",
      "2025-08-31 22:32:26,261 - src.scraping.scrapers.race_scraper - INFO - race detail url: https://db.netkeiba.com/race/201407020611/\n"
     ]
    },
    {
     "name": "stdout",
     "output_type": "stream",
     "text": [
      "現在処理中のレース: Race(race_id='201409020611', race_date=datetime.date(2014, 4, 13), track_name='阪神', race_number=11, race_name='第74回桜花賞(GI)', distance=1600, track_type='芝', total_horses=18, grade='G1', track_direction='右', weather='曇', track_condition='良', start_time=datetime.time(15, 40), winning_time='1:33.3', pace=None, prize_1st=None, race_class=None, race_conditions=None, created_at=None, updated_at=None)\n"
     ]
    },
    {
     "name": "stderr",
     "output_type": "stream",
     "text": [
      "2025-08-31 22:32:27,004 - src.scraping.extractors.race.race_detail_extractor - INFO - Extracted 18 race results for 201407020611\n",
      "2025-08-31 22:32:27,005 - src.scraping.scrapers.race_scraper - INFO - Successfully extracted race data: 201407020611 (18 horses)\n",
      "2025-08-31 22:32:27,005 - src.scraping.storage.postgresql_storage - INFO - Race Is: Race(race_id='201407020611', race_date=datetime.date(2014, 3, 30), track_name='中京', race_number=11, race_name='第44回高松宮記念(GI)', distance=1200, track_type='芝', total_horses=18, grade='G1', track_direction='左', weather='曇', track_condition='不良', start_time=datetime.time(15, 40), winning_time='1:12.2', pace=None, prize_1st=None, race_class=None, race_conditions=None, created_at=None, updated_at=None)\n"
     ]
    },
    {
     "name": "stdout",
     "output_type": "stream",
     "text": [
      "現在処理中のレース: Race(race_id='201407020611', race_date=datetime.date(2014, 3, 30), track_name='中京', race_number=11, race_name='第44回高松宮記念(GI)', distance=1200, track_type='芝', total_horses=18, grade='G1', track_direction='左', weather='曇', track_condition='不良', start_time=datetime.time(15, 40), winning_time='1:12.2', pace=None, prize_1st=None, race_class=None, race_conditions=None, created_at=None, updated_at=None)\n"
     ]
    },
    {
     "name": "stderr",
     "output_type": "stream",
     "text": [
      "2025-08-31 22:32:27,213 - src.scraping.scrapers.race_scraper - INFO - race detail url: https://db.netkeiba.com/race/201306050810/\n",
      "2025-08-31 22:32:27,538 - src.scraping.extractors.race.race_detail_extractor - INFO - Extracted 16 race results for 201306050810\n",
      "2025-08-31 22:32:27,539 - src.scraping.scrapers.race_scraper - INFO - Successfully extracted race data: 201306050810 (16 horses)\n",
      "2025-08-31 22:32:27,539 - src.scraping.storage.postgresql_storage - INFO - Race Is: Race(race_id='201306050810', race_date=datetime.date(2013, 12, 22), track_name='中山', race_number=10, race_name='第58回有馬記念(GI)', distance=2500, track_type='芝', total_horses=16, grade='G1', track_direction='右', weather='晴', track_condition='良', start_time=datetime.time(15, 25), winning_time='2:32.3', pace=None, prize_1st=None, race_class=None, race_conditions=None, created_at=None, updated_at=None)\n",
      "2025-08-31 22:32:27,695 - src.scraping.scrapers.race_scraper - INFO - race detail url: https://db.netkeiba.com/race/201306050611/\n"
     ]
    },
    {
     "name": "stdout",
     "output_type": "stream",
     "text": [
      "現在処理中のレース: Race(race_id='201306050810', race_date=datetime.date(2013, 12, 22), track_name='中山', race_number=10, race_name='第58回有馬記念(GI)', distance=2500, track_type='芝', total_horses=16, grade='G1', track_direction='右', weather='晴', track_condition='良', start_time=datetime.time(15, 25), winning_time='2:32.3', pace=None, prize_1st=None, race_class=None, race_conditions=None, created_at=None, updated_at=None)\n"
     ]
    },
    {
     "name": "stderr",
     "output_type": "stream",
     "text": [
      "2025-08-31 22:32:28,254 - src.scraping.extractors.race.race_detail_extractor - INFO - Extracted 16 race results for 201306050611\n",
      "2025-08-31 22:32:28,255 - src.scraping.scrapers.race_scraper - INFO - Successfully extracted race data: 201306050611 (16 horses)\n",
      "2025-08-31 22:32:28,255 - src.scraping.storage.postgresql_storage - INFO - Race Is: Race(race_id='201306050611', race_date=datetime.date(2013, 12, 15), track_name='中山', race_number=11, race_name='第65回朝日フューチュリティ(GI)', distance=1600, track_type='芝', total_horses=16, grade='G1', track_direction='右', weather='晴', track_condition='良', start_time=datetime.time(15, 25), winning_time='1:34.7', pace=None, prize_1st=None, race_class=None, race_conditions=None, created_at=None, updated_at=None)\n",
      "2025-08-31 22:32:28,422 - src.scraping.scrapers.race_scraper - INFO - race detail url: https://db.netkeiba.com/race/201309050411/\n"
     ]
    },
    {
     "name": "stdout",
     "output_type": "stream",
     "text": [
      "現在処理中のレース: Race(race_id='201306050611', race_date=datetime.date(2013, 12, 15), track_name='中山', race_number=11, race_name='第65回朝日フューチュリティ(GI)', distance=1600, track_type='芝', total_horses=16, grade='G1', track_direction='右', weather='晴', track_condition='良', start_time=datetime.time(15, 25), winning_time='1:34.7', pace=None, prize_1st=None, race_class=None, race_conditions=None, created_at=None, updated_at=None)\n"
     ]
    },
    {
     "name": "stderr",
     "output_type": "stream",
     "text": [
      "2025-08-31 22:32:28,822 - src.scraping.extractors.race.race_detail_extractor - INFO - Extracted 18 race results for 201309050411\n",
      "2025-08-31 22:32:28,823 - src.scraping.scrapers.race_scraper - INFO - Successfully extracted race data: 201309050411 (18 horses)\n",
      "2025-08-31 22:32:28,823 - src.scraping.storage.postgresql_storage - INFO - Race Is: Race(race_id='201309050411', race_date=datetime.date(2013, 12, 8), track_name='阪神', race_number=11, race_name='第65回阪神ジュベナイルF(GI)', distance=1600, track_type='芝', total_horses=18, grade='G1', track_direction='右', weather='曇', track_condition='良', start_time=datetime.time(15, 40), winning_time='1:33.9', pace=None, prize_1st=None, race_class=None, race_conditions=None, created_at=None, updated_at=None)\n"
     ]
    },
    {
     "name": "stdout",
     "output_type": "stream",
     "text": [
      "現在処理中のレース: Race(race_id='201309050411', race_date=datetime.date(2013, 12, 8), track_name='阪神', race_number=11, race_name='第65回阪神ジュベナイルF(GI)', distance=1600, track_type='芝', total_horses=18, grade='G1', track_direction='右', weather='曇', track_condition='良', start_time=datetime.time(15, 40), winning_time='1:33.9', pace=None, prize_1st=None, race_class=None, race_conditions=None, created_at=None, updated_at=None)\n"
     ]
    },
    {
     "name": "stderr",
     "output_type": "stream",
     "text": [
      "2025-08-31 22:32:29,084 - src.scraping.scrapers.race_scraper - INFO - race detail url: https://db.netkeiba.com/race/201305050811/\n",
      "2025-08-31 22:32:29,900 - src.scraping.extractors.race.race_detail_extractor - INFO - Extracted 17 race results for 201305050811\n",
      "2025-08-31 22:32:29,900 - src.scraping.scrapers.race_scraper - INFO - Successfully extracted race data: 201305050811 (17 horses)\n",
      "2025-08-31 22:32:29,900 - src.scraping.storage.postgresql_storage - INFO - Race Is: Race(race_id='201305050811', race_date=datetime.date(2013, 11, 24), track_name='東京', race_number=11, race_name='第33回ジャパンカップ(GI)', distance=2400, track_type='芝', total_horses=17, grade='G1', track_direction='左', weather='晴', track_condition='良', start_time=datetime.time(15, 55), winning_time='2:26.1', pace=None, prize_1st=None, race_class=None, race_conditions=None, created_at=None, updated_at=None)\n",
      "2025-08-31 22:32:30,066 - src.scraping.scrapers.race_scraper - INFO - race detail url: https://db.netkeiba.com/race/201308050611/\n"
     ]
    },
    {
     "name": "stdout",
     "output_type": "stream",
     "text": [
      "現在処理中のレース: Race(race_id='201305050811', race_date=datetime.date(2013, 11, 24), track_name='東京', race_number=11, race_name='第33回ジャパンカップ(GI)', distance=2400, track_type='芝', total_horses=17, grade='G1', track_direction='左', weather='晴', track_condition='良', start_time=datetime.time(15, 55), winning_time='2:26.1', pace=None, prize_1st=None, race_class=None, race_conditions=None, created_at=None, updated_at=None)\n"
     ]
    },
    {
     "name": "stderr",
     "output_type": "stream",
     "text": [
      "2025-08-31 22:32:30,867 - src.scraping.extractors.race.race_detail_extractor - INFO - Extracted 18 race results for 201308050611\n",
      "2025-08-31 22:32:30,868 - src.scraping.scrapers.race_scraper - INFO - Successfully extracted race data: 201308050611 (18 horses)\n",
      "2025-08-31 22:32:30,868 - src.scraping.storage.postgresql_storage - INFO - Race Is: Race(race_id='201308050611', race_date=datetime.date(2013, 11, 17), track_name='京都', race_number=11, race_name='第30回マイルチャンピオンS(GI)', distance=1600, track_type='芝', total_horses=18, grade='G1', track_direction='右', weather='晴', track_condition='良', start_time=datetime.time(15, 40), winning_time='1:32.4', pace=None, prize_1st=None, race_class=None, race_conditions=None, created_at=None, updated_at=None)\n",
      "2025-08-31 22:32:31,018 - src.scraping.scrapers.race_scraper - INFO - race detail url: https://db.netkeiba.com/race/201308050411/\n"
     ]
    },
    {
     "name": "stdout",
     "output_type": "stream",
     "text": [
      "現在処理中のレース: Race(race_id='201308050611', race_date=datetime.date(2013, 11, 17), track_name='京都', race_number=11, race_name='第30回マイルチャンピオンS(GI)', distance=1600, track_type='芝', total_horses=18, grade='G1', track_direction='右', weather='晴', track_condition='良', start_time=datetime.time(15, 40), winning_time='1:32.4', pace=None, prize_1st=None, race_class=None, race_conditions=None, created_at=None, updated_at=None)\n"
     ]
    },
    {
     "name": "stderr",
     "output_type": "stream",
     "text": [
      "2025-08-31 22:32:31,778 - src.scraping.extractors.race.race_detail_extractor - INFO - Extracted 18 race results for 201308050411\n",
      "2025-08-31 22:32:31,779 - src.scraping.scrapers.race_scraper - INFO - Successfully extracted race data: 201308050411 (18 horses)\n",
      "2025-08-31 22:32:31,780 - src.scraping.storage.postgresql_storage - INFO - Race Is: Race(race_id='201308050411', race_date=datetime.date(2013, 11, 10), track_name='京都', race_number=11, race_name='第38回エリザベス女王杯(GI)', distance=2200, track_type='芝', total_horses=18, grade='G1', track_direction='右', weather='雨', track_condition='重', start_time=datetime.time(15, 40), winning_time='2:16.6', pace=None, prize_1st=None, race_class=None, race_conditions=None, created_at=None, updated_at=None)\n",
      "2025-08-31 22:32:31,975 - src.scraping.scrapers.race_scraper - INFO - race detail url: https://db.netkeiba.com/race/201305040911/\n"
     ]
    },
    {
     "name": "stdout",
     "output_type": "stream",
     "text": [
      "現在処理中のレース: Race(race_id='201308050411', race_date=datetime.date(2013, 11, 10), track_name='京都', race_number=11, race_name='第38回エリザベス女王杯(GI)', distance=2200, track_type='芝', total_horses=18, grade='G1', track_direction='右', weather='雨', track_condition='重', start_time=datetime.time(15, 40), winning_time='2:16.6', pace=None, prize_1st=None, race_class=None, race_conditions=None, created_at=None, updated_at=None)\n"
     ]
    },
    {
     "name": "stderr",
     "output_type": "stream",
     "text": [
      "2025-08-31 22:32:32,470 - src.scraping.extractors.race.race_detail_extractor - INFO - Extracted 17 race results for 201305040911\n",
      "2025-08-31 22:32:32,470 - src.scraping.scrapers.race_scraper - INFO - Successfully extracted race data: 201305040911 (17 horses)\n",
      "2025-08-31 22:32:32,471 - src.scraping.storage.postgresql_storage - INFO - Race Is: Race(race_id='201305040911', race_date=datetime.date(2013, 10, 27), track_name='東京', race_number=11, race_name='第148回天皇賞(秋)(GI)', distance=2000, track_type='芝', total_horses=17, grade='G1', track_direction='左', weather='晴', track_condition='良', start_time=datetime.time(15, 40), winning_time='1:57.5', pace=None, prize_1st=None, race_class=None, race_conditions=None, created_at=None, updated_at=None)\n",
      "2025-08-31 22:32:32,616 - src.scraping.scrapers.race_scraper - INFO - race detail url: https://db.netkeiba.com/race/201308040711/\n"
     ]
    },
    {
     "name": "stdout",
     "output_type": "stream",
     "text": [
      "現在処理中のレース: Race(race_id='201305040911', race_date=datetime.date(2013, 10, 27), track_name='東京', race_number=11, race_name='第148回天皇賞(秋)(GI)', distance=2000, track_type='芝', total_horses=17, grade='G1', track_direction='左', weather='晴', track_condition='良', start_time=datetime.time(15, 40), winning_time='1:57.5', pace=None, prize_1st=None, race_class=None, race_conditions=None, created_at=None, updated_at=None)\n"
     ]
    },
    {
     "name": "stderr",
     "output_type": "stream",
     "text": [
      "2025-08-31 22:32:33,342 - src.scraping.extractors.race.race_detail_extractor - INFO - Extracted 18 race results for 201308040711\n",
      "2025-08-31 22:32:33,342 - src.scraping.scrapers.race_scraper - INFO - Successfully extracted race data: 201308040711 (18 horses)\n",
      "2025-08-31 22:32:33,343 - src.scraping.storage.postgresql_storage - INFO - Race Is: Race(race_id='201308040711', race_date=datetime.date(2013, 10, 20), track_name='京都', race_number=11, race_name='第74回菊花賞(GI)', distance=3000, track_type='芝', total_horses=18, grade='G1', track_direction='右', weather='曇', track_condition='不良', start_time=datetime.time(15, 40), winning_time='3:05.2', pace=None, prize_1st=None, race_class=None, race_conditions=None, created_at=None, updated_at=None)\n",
      "2025-08-31 22:32:33,492 - src.scraping.scrapers.race_scraper - INFO - race detail url: https://db.netkeiba.com/race/201308040411/\n"
     ]
    },
    {
     "name": "stdout",
     "output_type": "stream",
     "text": [
      "現在処理中のレース: Race(race_id='201308040711', race_date=datetime.date(2013, 10, 20), track_name='京都', race_number=11, race_name='第74回菊花賞(GI)', distance=3000, track_type='芝', total_horses=18, grade='G1', track_direction='右', weather='曇', track_condition='不良', start_time=datetime.time(15, 40), winning_time='3:05.2', pace=None, prize_1st=None, race_class=None, race_conditions=None, created_at=None, updated_at=None)\n"
     ]
    },
    {
     "name": "stderr",
     "output_type": "stream",
     "text": [
      "2025-08-31 22:32:34,033 - src.scraping.extractors.race.race_detail_extractor - INFO - Extracted 18 race results for 201308040411\n",
      "2025-08-31 22:32:34,034 - src.scraping.scrapers.race_scraper - INFO - Successfully extracted race data: 201308040411 (18 horses)\n",
      "2025-08-31 22:32:34,034 - src.scraping.storage.postgresql_storage - INFO - Race Is: Race(race_id='201308040411', race_date=datetime.date(2013, 10, 13), track_name='京都', race_number=11, race_name='第18回秋華賞(GI)', distance=2000, track_type='芝', total_horses=18, grade='G1', track_direction='右', weather='晴', track_condition='良', start_time=datetime.time(15, 40), winning_time='1:58.6', pace=None, prize_1st=None, race_class=None, race_conditions=None, created_at=None, updated_at=None)\n"
     ]
    },
    {
     "name": "stdout",
     "output_type": "stream",
     "text": [
      "現在処理中のレース: Race(race_id='201308040411', race_date=datetime.date(2013, 10, 13), track_name='京都', race_number=11, race_name='第18回秋華賞(GI)', distance=2000, track_type='芝', total_horses=18, grade='G1', track_direction='右', weather='晴', track_condition='良', start_time=datetime.time(15, 40), winning_time='1:58.6', pace=None, prize_1st=None, race_class=None, race_conditions=None, created_at=None, updated_at=None)\n"
     ]
    },
    {
     "name": "stderr",
     "output_type": "stream",
     "text": [
      "2025-08-31 22:32:34,249 - src.scraping.scrapers.race_scraper - INFO - race detail url: https://db.netkeiba.com/race/201306040911/\n",
      "2025-08-31 22:32:34,769 - src.scraping.extractors.race.race_detail_extractor - INFO - Extracted 16 race results for 201306040911\n",
      "2025-08-31 22:32:34,769 - src.scraping.scrapers.race_scraper - INFO - Successfully extracted race data: 201306040911 (16 horses)\n",
      "2025-08-31 22:32:34,769 - src.scraping.storage.postgresql_storage - INFO - Race Is: Race(race_id='201306040911', race_date=datetime.date(2013, 9, 29), track_name='中山', race_number=11, race_name='第47回スプリンターズS(GI)', distance=1200, track_type='芝', total_horses=16, grade='G1', track_direction='右', weather='晴', track_condition='良', start_time=datetime.time(15, 40), winning_time='1:07.2', pace=None, prize_1st=None, race_class=None, race_conditions=None, created_at=None, updated_at=None)\n",
      "2025-08-31 22:32:34,895 - src.scraping.scrapers.race_scraper - INFO - race detail url: https://db.netkeiba.com/race/201309030811/\n"
     ]
    },
    {
     "name": "stdout",
     "output_type": "stream",
     "text": [
      "現在処理中のレース: Race(race_id='201306040911', race_date=datetime.date(2013, 9, 29), track_name='中山', race_number=11, race_name='第47回スプリンターズS(GI)', distance=1200, track_type='芝', total_horses=16, grade='G1', track_direction='右', weather='晴', track_condition='良', start_time=datetime.time(15, 40), winning_time='1:07.2', pace=None, prize_1st=None, race_class=None, race_conditions=None, created_at=None, updated_at=None)\n"
     ]
    },
    {
     "name": "stderr",
     "output_type": "stream",
     "text": [
      "2025-08-31 22:32:35,402 - src.scraping.extractors.race.race_detail_extractor - INFO - Extracted 11 race results for 201309030811\n",
      "2025-08-31 22:32:35,405 - src.scraping.scrapers.race_scraper - INFO - Successfully extracted race data: 201309030811 (11 horses)\n",
      "2025-08-31 22:32:35,405 - src.scraping.storage.postgresql_storage - INFO - Race Is: Race(race_id='201309030811', race_date=datetime.date(2013, 6, 23), track_name='阪神', race_number=11, race_name='第54回宝塚記念(GI)', distance=2200, track_type='芝', total_horses=11, grade='G1', track_direction='右', weather='曇', track_condition='良', start_time=datetime.time(15, 40), winning_time='2:13.2', pace=None, prize_1st=None, race_class=None, race_conditions=None, created_at=None, updated_at=None)\n",
      "2025-08-31 22:32:35,500 - src.scraping.scrapers.race_scraper - INFO - race detail url: https://db.netkeiba.com/race/201305030211/\n"
     ]
    },
    {
     "name": "stdout",
     "output_type": "stream",
     "text": [
      "現在処理中のレース: Race(race_id='201309030811', race_date=datetime.date(2013, 6, 23), track_name='阪神', race_number=11, race_name='第54回宝塚記念(GI)', distance=2200, track_type='芝', total_horses=11, grade='G1', track_direction='右', weather='曇', track_condition='良', start_time=datetime.time(15, 40), winning_time='2:13.2', pace=None, prize_1st=None, race_class=None, race_conditions=None, created_at=None, updated_at=None)\n"
     ]
    },
    {
     "name": "stderr",
     "output_type": "stream",
     "text": [
      "2025-08-31 22:32:36,255 - src.scraping.extractors.race.race_detail_extractor - INFO - Extracted 18 race results for 201305030211\n",
      "2025-08-31 22:32:36,256 - src.scraping.scrapers.race_scraper - INFO - Successfully extracted race data: 201305030211 (18 horses)\n",
      "2025-08-31 22:32:36,256 - src.scraping.storage.postgresql_storage - INFO - Race Is: Race(race_id='201305030211', race_date=datetime.date(2013, 6, 2), track_name='東京', race_number=11, race_name='第63回安田記念(GI)', distance=1600, track_type='芝', total_horses=18, grade='G1', track_direction='左', weather='晴', track_condition='良', start_time=datetime.time(15, 40), winning_time='1:31.5', pace=None, prize_1st=None, race_class=None, race_conditions=None, created_at=None, updated_at=None)\n"
     ]
    },
    {
     "name": "stdout",
     "output_type": "stream",
     "text": [
      "現在処理中のレース: Race(race_id='201305030211', race_date=datetime.date(2013, 6, 2), track_name='東京', race_number=11, race_name='第63回安田記念(GI)', distance=1600, track_type='芝', total_horses=18, grade='G1', track_direction='左', weather='晴', track_condition='良', start_time=datetime.time(15, 40), winning_time='1:31.5', pace=None, prize_1st=None, race_class=None, race_conditions=None, created_at=None, updated_at=None)\n"
     ]
    },
    {
     "name": "stderr",
     "output_type": "stream",
     "text": [
      "2025-08-31 22:32:36,749 - src.scraping.scrapers.race_scraper - INFO - race detail url: https://db.netkeiba.com/race/201305021210/\n",
      "2025-08-31 22:32:37,309 - src.scraping.extractors.race.race_detail_extractor - INFO - Extracted 18 race results for 201305021210\n",
      "2025-08-31 22:32:37,309 - src.scraping.scrapers.race_scraper - INFO - Successfully extracted race data: 201305021210 (18 horses)\n",
      "2025-08-31 22:32:37,310 - src.scraping.storage.postgresql_storage - INFO - Race Is: Race(race_id='201305021210', race_date=datetime.date(2013, 5, 26), track_name='東京1', race_number=10, race_name='第80回東京優駿(GI)', distance=2400, track_type='芝', total_horses=18, grade='G1', track_direction='左', weather='晴', track_condition='良', start_time=datetime.time(15, 40), winning_time='2:24.3', pace=None, prize_1st=None, race_class=None, race_conditions=None, created_at=None, updated_at=None)\n"
     ]
    },
    {
     "name": "stdout",
     "output_type": "stream",
     "text": [
      "現在処理中のレース: Race(race_id='201305021210', race_date=datetime.date(2013, 5, 26), track_name='東京1', race_number=10, race_name='第80回東京優駿(GI)', distance=2400, track_type='芝', total_horses=18, grade='G1', track_direction='左', weather='晴', track_condition='良', start_time=datetime.time(15, 40), winning_time='2:24.3', pace=None, prize_1st=None, race_class=None, race_conditions=None, created_at=None, updated_at=None)\n"
     ]
    },
    {
     "name": "stderr",
     "output_type": "stream",
     "text": [
      "2025-08-31 22:32:37,738 - src.scraping.scrapers.race_scraper - INFO - race detail url: https://db.netkeiba.com/race/201305021011/\n",
      "2025-08-31 22:32:38,223 - src.scraping.extractors.race.race_detail_extractor - INFO - Extracted 18 race results for 201305021011\n",
      "2025-08-31 22:32:38,223 - src.scraping.scrapers.race_scraper - INFO - Successfully extracted race data: 201305021011 (18 horses)\n",
      "2025-08-31 22:32:38,224 - src.scraping.storage.postgresql_storage - INFO - Race Is: Race(race_id='201305021011', race_date=datetime.date(2013, 5, 19), track_name='東京1', race_number=11, race_name='第74回優駿牝馬(GI)', distance=2400, track_type='芝', total_horses=18, grade='G1', track_direction='左', weather='晴', track_condition='良', start_time=datetime.time(15, 40), winning_time='2:25.2', pace=None, prize_1st=None, race_class=None, race_conditions=None, created_at=None, updated_at=None)\n",
      "2025-08-31 22:32:38,376 - src.scraping.scrapers.race_scraper - INFO - race detail url: https://db.netkeiba.com/race/201305020811/\n"
     ]
    },
    {
     "name": "stdout",
     "output_type": "stream",
     "text": [
      "現在処理中のレース: Race(race_id='201305021011', race_date=datetime.date(2013, 5, 19), track_name='東京1', race_number=11, race_name='第74回優駿牝馬(GI)', distance=2400, track_type='芝', total_horses=18, grade='G1', track_direction='左', weather='晴', track_condition='良', start_time=datetime.time(15, 40), winning_time='2:25.2', pace=None, prize_1st=None, race_class=None, race_conditions=None, created_at=None, updated_at=None)\n"
     ]
    },
    {
     "name": "stderr",
     "output_type": "stream",
     "text": [
      "2025-08-31 22:32:39,124 - src.scraping.extractors.race.race_detail_extractor - INFO - Extracted 18 race results for 201305020811\n",
      "2025-08-31 22:32:39,124 - src.scraping.scrapers.race_scraper - INFO - Successfully extracted race data: 201305020811 (18 horses)\n",
      "2025-08-31 22:32:39,125 - src.scraping.storage.postgresql_storage - INFO - Race Is: Race(race_id='201305020811', race_date=datetime.date(2013, 5, 12), track_name='東京', race_number=11, race_name='第8回ヴィクトリアマイル(GI)', distance=1600, track_type='芝', total_horses=18, grade='G1', track_direction='左', weather='晴', track_condition='良', start_time=datetime.time(15, 40), winning_time='1:32.4', pace=None, prize_1st=None, race_class=None, race_conditions=None, created_at=None, updated_at=None)\n",
      "2025-08-31 22:32:39,292 - src.scraping.scrapers.race_scraper - INFO - race detail url: https://db.netkeiba.com/race/201305020611/\n"
     ]
    },
    {
     "name": "stdout",
     "output_type": "stream",
     "text": [
      "現在処理中のレース: Race(race_id='201305020811', race_date=datetime.date(2013, 5, 12), track_name='東京', race_number=11, race_name='第8回ヴィクトリアマイル(GI)', distance=1600, track_type='芝', total_horses=18, grade='G1', track_direction='左', weather='晴', track_condition='良', start_time=datetime.time(15, 40), winning_time='1:32.4', pace=None, prize_1st=None, race_class=None, race_conditions=None, created_at=None, updated_at=None)\n"
     ]
    },
    {
     "name": "stderr",
     "output_type": "stream",
     "text": [
      "2025-08-31 22:32:39,789 - src.scraping.extractors.race.race_detail_extractor - INFO - Extracted 18 race results for 201305020611\n",
      "2025-08-31 22:32:39,790 - src.scraping.scrapers.race_scraper - INFO - Successfully extracted race data: 201305020611 (18 horses)\n",
      "2025-08-31 22:32:39,790 - src.scraping.storage.postgresql_storage - INFO - Race Is: Race(race_id='201305020611', race_date=datetime.date(2013, 5, 5), track_name='東京', race_number=11, race_name='第18回NHKマイルカップ(GI)', distance=1600, track_type='芝', total_horses=18, grade='G1', track_direction='左', weather='晴', track_condition='良', start_time=datetime.time(15, 40), winning_time='1:32.7', pace=None, prize_1st=None, race_class=None, race_conditions=None, created_at=None, updated_at=None)\n",
      "2025-08-31 22:32:39,981 - src.scraping.scrapers.race_scraper - INFO - race detail url: https://db.netkeiba.com/race/201308030411/\n"
     ]
    },
    {
     "name": "stdout",
     "output_type": "stream",
     "text": [
      "現在処理中のレース: Race(race_id='201305020611', race_date=datetime.date(2013, 5, 5), track_name='東京', race_number=11, race_name='第18回NHKマイルカップ(GI)', distance=1600, track_type='芝', total_horses=18, grade='G1', track_direction='左', weather='晴', track_condition='良', start_time=datetime.time(15, 40), winning_time='1:32.7', pace=None, prize_1st=None, race_class=None, race_conditions=None, created_at=None, updated_at=None)\n"
     ]
    },
    {
     "name": "stderr",
     "output_type": "stream",
     "text": [
      "2025-08-31 22:32:41,021 - src.scraping.extractors.race.race_detail_extractor - INFO - Extracted 18 race results for 201308030411\n",
      "2025-08-31 22:32:41,022 - src.scraping.scrapers.race_scraper - INFO - Successfully extracted race data: 201308030411 (18 horses)\n",
      "2025-08-31 22:32:41,022 - src.scraping.storage.postgresql_storage - INFO - Race Is: Race(race_id='201308030411', race_date=datetime.date(2013, 4, 28), track_name='京都', race_number=11, race_name='第147回天皇賞(春)(GI)', distance=3200, track_type='芝', total_horses=18, grade='G1', track_direction='右', weather='晴', track_condition='良', start_time=datetime.time(15, 40), winning_time='3:14.2', pace=None, prize_1st=None, race_class=None, race_conditions=None, created_at=None, updated_at=None)\n",
      "2025-08-31 22:32:41,193 - src.scraping.scrapers.race_scraper - INFO - race detail url: https://db.netkeiba.com/race/201306030811/\n"
     ]
    },
    {
     "name": "stdout",
     "output_type": "stream",
     "text": [
      "現在処理中のレース: Race(race_id='201308030411', race_date=datetime.date(2013, 4, 28), track_name='京都', race_number=11, race_name='第147回天皇賞(春)(GI)', distance=3200, track_type='芝', total_horses=18, grade='G1', track_direction='右', weather='晴', track_condition='良', start_time=datetime.time(15, 40), winning_time='3:14.2', pace=None, prize_1st=None, race_class=None, race_conditions=None, created_at=None, updated_at=None)\n"
     ]
    },
    {
     "name": "stderr",
     "output_type": "stream",
     "text": [
      "2025-08-31 22:32:41,918 - src.scraping.extractors.race.race_detail_extractor - INFO - Extracted 18 race results for 201306030811\n",
      "2025-08-31 22:32:41,919 - src.scraping.scrapers.race_scraper - INFO - Successfully extracted race data: 201306030811 (18 horses)\n",
      "2025-08-31 22:32:41,919 - src.scraping.storage.postgresql_storage - INFO - Race Is: Race(race_id='201306030811', race_date=datetime.date(2013, 4, 14), track_name='中山', race_number=11, race_name='第73回皐月賞(GI)', distance=2000, track_type='芝', total_horses=18, grade='G1', track_direction='右', weather='晴', track_condition='良', start_time=datetime.time(15, 40), winning_time='1:58.0', pace=None, prize_1st=None, race_class=None, race_conditions=None, created_at=None, updated_at=None)\n",
      "2025-08-31 22:32:42,083 - src.scraping.scrapers.race_scraper - INFO - race detail url: https://db.netkeiba.com/race/201309020611/\n"
     ]
    },
    {
     "name": "stdout",
     "output_type": "stream",
     "text": [
      "現在処理中のレース: Race(race_id='201306030811', race_date=datetime.date(2013, 4, 14), track_name='中山', race_number=11, race_name='第73回皐月賞(GI)', distance=2000, track_type='芝', total_horses=18, grade='G1', track_direction='右', weather='晴', track_condition='良', start_time=datetime.time(15, 40), winning_time='1:58.0', pace=None, prize_1st=None, race_class=None, race_conditions=None, created_at=None, updated_at=None)\n"
     ]
    },
    {
     "name": "stderr",
     "output_type": "stream",
     "text": [
      "2025-08-31 22:32:43,148 - src.scraping.extractors.race.race_detail_extractor - INFO - Extracted 18 race results for 201309020611\n",
      "2025-08-31 22:32:43,149 - src.scraping.scrapers.race_scraper - INFO - Successfully extracted race data: 201309020611 (18 horses)\n",
      "2025-08-31 22:32:43,149 - src.scraping.storage.postgresql_storage - INFO - Race Is: Race(race_id='201309020611', race_date=datetime.date(2013, 4, 7), track_name='阪神', race_number=11, race_name='第73回桜花賞(GI)', distance=1600, track_type='芝', total_horses=18, grade='G1', track_direction='右', weather='曇', track_condition='良', start_time=datetime.time(15, 40), winning_time='1:35.0', pace=None, prize_1st=None, race_class=None, race_conditions=None, created_at=None, updated_at=None)\n",
      "2025-08-31 22:32:43,323 - src.scraping.scrapers.race_scraper - INFO - race detail url: https://db.netkeiba.com/race/201307020611/\n"
     ]
    },
    {
     "name": "stdout",
     "output_type": "stream",
     "text": [
      "現在処理中のレース: Race(race_id='201309020611', race_date=datetime.date(2013, 4, 7), track_name='阪神', race_number=11, race_name='第73回桜花賞(GI)', distance=1600, track_type='芝', total_horses=18, grade='G1', track_direction='右', weather='曇', track_condition='良', start_time=datetime.time(15, 40), winning_time='1:35.0', pace=None, prize_1st=None, race_class=None, race_conditions=None, created_at=None, updated_at=None)\n"
     ]
    },
    {
     "name": "stderr",
     "output_type": "stream",
     "text": [
      "2025-08-31 22:32:44,041 - src.scraping.extractors.race.race_detail_extractor - INFO - Extracted 17 race results for 201307020611\n",
      "2025-08-31 22:32:44,041 - src.scraping.scrapers.race_scraper - INFO - Successfully extracted race data: 201307020611 (17 horses)\n",
      "2025-08-31 22:32:44,041 - src.scraping.storage.postgresql_storage - INFO - Race Is: Race(race_id='201307020611', race_date=datetime.date(2013, 3, 24), track_name='中京', race_number=11, race_name='第43回高松宮記念(GI)', distance=1200, track_type='芝', total_horses=17, grade='G1', track_direction='左', weather='晴', track_condition='良', start_time=datetime.time(15, 40), winning_time='1:08.1', pace=None, prize_1st=None, race_class=None, race_conditions=None, created_at=None, updated_at=None)\n",
      "2025-08-31 22:32:44,185 - src.scraping.scrapers.race_scraper - INFO - race detail url: https://db.netkeiba.com/race/201206050810/\n"
     ]
    },
    {
     "name": "stdout",
     "output_type": "stream",
     "text": [
      "現在処理中のレース: Race(race_id='201307020611', race_date=datetime.date(2013, 3, 24), track_name='中京', race_number=11, race_name='第43回高松宮記念(GI)', distance=1200, track_type='芝', total_horses=17, grade='G1', track_direction='左', weather='晴', track_condition='良', start_time=datetime.time(15, 40), winning_time='1:08.1', pace=None, prize_1st=None, race_class=None, race_conditions=None, created_at=None, updated_at=None)\n"
     ]
    },
    {
     "name": "stderr",
     "output_type": "stream",
     "text": [
      "2025-08-31 22:32:44,619 - src.scraping.extractors.race.race_detail_extractor - INFO - Extracted 16 race results for 201206050810\n",
      "2025-08-31 22:32:44,620 - src.scraping.scrapers.race_scraper - INFO - Successfully extracted race data: 201206050810 (16 horses)\n",
      "2025-08-31 22:32:44,620 - src.scraping.storage.postgresql_storage - INFO - Race Is: Race(race_id='201206050810', race_date=datetime.date(2012, 12, 23), track_name='中山', race_number=10, race_name='第57回有馬記念(GI)', distance=2500, track_type='芝', total_horses=16, grade='G1', track_direction='右', weather='晴', track_condition='良', start_time=datetime.time(15, 25), winning_time='2:31.9', pace=None, prize_1st=None, race_class=None, race_conditions=None, created_at=None, updated_at=None)\n",
      "2025-08-31 22:32:44,749 - src.scraping.scrapers.race_scraper - INFO - race detail url: https://db.netkeiba.com/race/201206050611/\n"
     ]
    },
    {
     "name": "stdout",
     "output_type": "stream",
     "text": [
      "現在処理中のレース: Race(race_id='201206050810', race_date=datetime.date(2012, 12, 23), track_name='中山', race_number=10, race_name='第57回有馬記念(GI)', distance=2500, track_type='芝', total_horses=16, grade='G1', track_direction='右', weather='晴', track_condition='良', start_time=datetime.time(15, 25), winning_time='2:31.9', pace=None, prize_1st=None, race_class=None, race_conditions=None, created_at=None, updated_at=None)\n"
     ]
    },
    {
     "name": "stderr",
     "output_type": "stream",
     "text": [
      "2025-08-31 22:32:45,462 - src.scraping.extractors.race.race_detail_extractor - INFO - Extracted 16 race results for 201206050611\n",
      "2025-08-31 22:32:45,463 - src.scraping.scrapers.race_scraper - INFO - Successfully extracted race data: 201206050611 (16 horses)\n",
      "2025-08-31 22:32:45,463 - src.scraping.storage.postgresql_storage - INFO - Race Is: Race(race_id='201206050611', race_date=datetime.date(2012, 12, 16), track_name='中山', race_number=11, race_name='第64回朝日フューチュリティ(GI)', distance=1600, track_type='芝', total_horses=16, grade='G1', track_direction='右', weather='晴', track_condition='良', start_time=datetime.time(15, 25), winning_time='1:33.4', pace=None, prize_1st=None, race_class=None, race_conditions=None, created_at=None, updated_at=None)\n",
      "2025-08-31 22:32:45,587 - src.scraping.scrapers.race_scraper - INFO - race detail url: https://db.netkeiba.com/race/201209050411/\n"
     ]
    },
    {
     "name": "stdout",
     "output_type": "stream",
     "text": [
      "現在処理中のレース: Race(race_id='201206050611', race_date=datetime.date(2012, 12, 16), track_name='中山', race_number=11, race_name='第64回朝日フューチュリティ(GI)', distance=1600, track_type='芝', total_horses=16, grade='G1', track_direction='右', weather='晴', track_condition='良', start_time=datetime.time(15, 25), winning_time='1:33.4', pace=None, prize_1st=None, race_class=None, race_conditions=None, created_at=None, updated_at=None)\n"
     ]
    },
    {
     "name": "stderr",
     "output_type": "stream",
     "text": [
      "2025-08-31 22:32:46,169 - src.scraping.extractors.race.race_detail_extractor - INFO - Extracted 18 race results for 201209050411\n",
      "2025-08-31 22:32:46,169 - src.scraping.scrapers.race_scraper - INFO - Successfully extracted race data: 201209050411 (18 horses)\n",
      "2025-08-31 22:32:46,170 - src.scraping.storage.postgresql_storage - INFO - Race Is: Race(race_id='201209050411', race_date=datetime.date(2012, 12, 9), track_name='阪神', race_number=11, race_name='第64回阪神ジュベナイルF(GI)', distance=1600, track_type='芝', total_horses=18, grade='G1', track_direction='右', weather='晴', track_condition='良', start_time=datetime.time(15, 40), winning_time='1:34.2', pace=None, prize_1st=None, race_class=None, race_conditions=None, created_at=None, updated_at=None)\n",
      "2025-08-31 22:32:46,332 - src.scraping.scrapers.race_scraper - INFO - race detail url: https://db.netkeiba.com/race/201205050811/\n"
     ]
    },
    {
     "name": "stdout",
     "output_type": "stream",
     "text": [
      "現在処理中のレース: Race(race_id='201209050411', race_date=datetime.date(2012, 12, 9), track_name='阪神', race_number=11, race_name='第64回阪神ジュベナイルF(GI)', distance=1600, track_type='芝', total_horses=18, grade='G1', track_direction='右', weather='晴', track_condition='良', start_time=datetime.time(15, 40), winning_time='1:34.2', pace=None, prize_1st=None, race_class=None, race_conditions=None, created_at=None, updated_at=None)\n"
     ]
    },
    {
     "name": "stderr",
     "output_type": "stream",
     "text": [
      "2025-08-31 22:32:47,078 - src.scraping.extractors.race.race_detail_extractor - INFO - Extracted 17 race results for 201205050811\n",
      "2025-08-31 22:32:47,079 - src.scraping.scrapers.race_scraper - INFO - Successfully extracted race data: 201205050811 (17 horses)\n",
      "2025-08-31 22:32:47,079 - src.scraping.storage.postgresql_storage - INFO - Race Is: Race(race_id='201205050811', race_date=datetime.date(2012, 11, 25), track_name='東京', race_number=11, race_name='第32回ジャパンカップ(GI)', distance=2400, track_type='芝', total_horses=17, grade='G1', track_direction='左', weather='晴', track_condition='良', start_time=datetime.time(15, 40), winning_time='2:23.1', pace=None, prize_1st=None, race_class=None, race_conditions=None, created_at=None, updated_at=None)\n",
      "2025-08-31 22:32:47,224 - src.scraping.scrapers.race_scraper - INFO - race detail url: https://db.netkeiba.com/race/201208050611/\n"
     ]
    },
    {
     "name": "stdout",
     "output_type": "stream",
     "text": [
      "現在処理中のレース: Race(race_id='201205050811', race_date=datetime.date(2012, 11, 25), track_name='東京', race_number=11, race_name='第32回ジャパンカップ(GI)', distance=2400, track_type='芝', total_horses=17, grade='G1', track_direction='左', weather='晴', track_condition='良', start_time=datetime.time(15, 40), winning_time='2:23.1', pace=None, prize_1st=None, race_class=None, race_conditions=None, created_at=None, updated_at=None)\n"
     ]
    },
    {
     "name": "stderr",
     "output_type": "stream",
     "text": [
      "2025-08-31 22:32:47,985 - src.scraping.extractors.race.race_detail_extractor - INFO - Extracted 18 race results for 201208050611\n",
      "2025-08-31 22:32:47,986 - src.scraping.scrapers.race_scraper - INFO - Successfully extracted race data: 201208050611 (18 horses)\n",
      "2025-08-31 22:32:47,986 - src.scraping.storage.postgresql_storage - INFO - Race Is: Race(race_id='201208050611', race_date=datetime.date(2012, 11, 18), track_name='京都', race_number=11, race_name='第29回マイルチャンピオンS(GI)', distance=1600, track_type='芝', total_horses=18, grade='G1', track_direction='右', weather='晴', track_condition='稍重', start_time=datetime.time(15, 40), winning_time='1:32.9', pace=None, prize_1st=None, race_class=None, race_conditions=None, created_at=None, updated_at=None)\n",
      "2025-08-31 22:32:48,121 - src.scraping.scrapers.race_scraper - INFO - race detail url: https://db.netkeiba.com/race/201208050411/\n"
     ]
    },
    {
     "name": "stdout",
     "output_type": "stream",
     "text": [
      "現在処理中のレース: Race(race_id='201208050611', race_date=datetime.date(2012, 11, 18), track_name='京都', race_number=11, race_name='第29回マイルチャンピオンS(GI)', distance=1600, track_type='芝', total_horses=18, grade='G1', track_direction='右', weather='晴', track_condition='稍重', start_time=datetime.time(15, 40), winning_time='1:32.9', pace=None, prize_1st=None, race_class=None, race_conditions=None, created_at=None, updated_at=None)\n"
     ]
    },
    {
     "name": "stderr",
     "output_type": "stream",
     "text": [
      "2025-08-31 22:32:48,542 - src.scraping.extractors.race.race_detail_extractor - INFO - Extracted 16 race results for 201208050411\n",
      "2025-08-31 22:32:48,543 - src.scraping.scrapers.race_scraper - INFO - Successfully extracted race data: 201208050411 (16 horses)\n",
      "2025-08-31 22:32:48,543 - src.scraping.storage.postgresql_storage - INFO - Race Is: Race(race_id='201208050411', race_date=datetime.date(2012, 11, 11), track_name='京都', race_number=11, race_name='第37回エリザベス女王杯(GI)', distance=2200, track_type='芝', total_horses=16, grade='G1', track_direction='右', weather='雨', track_condition='重', start_time=datetime.time(15, 40), winning_time='2:16.3', pace=None, prize_1st=None, race_class=None, race_conditions=None, created_at=None, updated_at=None)\n",
      "2025-08-31 22:32:48,741 - src.scraping.scrapers.race_scraper - INFO - race detail url: https://db.netkeiba.com/race/201205040911/\n"
     ]
    },
    {
     "name": "stdout",
     "output_type": "stream",
     "text": [
      "現在処理中のレース: Race(race_id='201208050411', race_date=datetime.date(2012, 11, 11), track_name='京都', race_number=11, race_name='第37回エリザベス女王杯(GI)', distance=2200, track_type='芝', total_horses=16, grade='G1', track_direction='右', weather='雨', track_condition='重', start_time=datetime.time(15, 40), winning_time='2:16.3', pace=None, prize_1st=None, race_class=None, race_conditions=None, created_at=None, updated_at=None)\n"
     ]
    },
    {
     "name": "stderr",
     "output_type": "stream",
     "text": [
      "2025-08-31 22:32:49,188 - src.scraping.extractors.race.race_detail_extractor - INFO - Extracted 18 race results for 201205040911\n",
      "2025-08-31 22:32:49,188 - src.scraping.scrapers.race_scraper - INFO - Successfully extracted race data: 201205040911 (18 horses)\n",
      "2025-08-31 22:32:49,189 - src.scraping.storage.postgresql_storage - INFO - Race Is: Race(race_id='201205040911', race_date=datetime.date(2012, 10, 28), track_name='東京', race_number=11, race_name='第146回天皇賞(秋)(GI)', distance=2000, track_type='芝', total_horses=18, grade='G1', track_direction='左', weather='曇', track_condition='良', start_time=datetime.time(15, 40), winning_time='1:57.3', pace=None, prize_1st=None, race_class=None, race_conditions=None, created_at=None, updated_at=None)\n",
      "2025-08-31 22:32:49,329 - src.scraping.scrapers.race_scraper - INFO - race detail url: https://db.netkeiba.com/race/201208040711/\n"
     ]
    },
    {
     "name": "stdout",
     "output_type": "stream",
     "text": [
      "現在処理中のレース: Race(race_id='201205040911', race_date=datetime.date(2012, 10, 28), track_name='東京', race_number=11, race_name='第146回天皇賞(秋)(GI)', distance=2000, track_type='芝', total_horses=18, grade='G1', track_direction='左', weather='曇', track_condition='良', start_time=datetime.time(15, 40), winning_time='1:57.3', pace=None, prize_1st=None, race_class=None, race_conditions=None, created_at=None, updated_at=None)\n"
     ]
    },
    {
     "name": "stderr",
     "output_type": "stream",
     "text": [
      "2025-08-31 22:32:49,879 - src.scraping.extractors.race.race_detail_extractor - INFO - Extracted 18 race results for 201208040711\n",
      "2025-08-31 22:32:49,879 - src.scraping.scrapers.race_scraper - INFO - Successfully extracted race data: 201208040711 (18 horses)\n",
      "2025-08-31 22:32:49,880 - src.scraping.storage.postgresql_storage - INFO - Race Is: Race(race_id='201208040711', race_date=datetime.date(2012, 10, 21), track_name='京都', race_number=11, race_name='第73回菊花賞(GI)', distance=3000, track_type='芝', total_horses=18, grade='G1', track_direction='右', weather='晴', track_condition='良', start_time=datetime.time(15, 40), winning_time='3:02.9', pace=None, prize_1st=None, race_class=None, race_conditions=None, created_at=None, updated_at=None)\n"
     ]
    },
    {
     "name": "stdout",
     "output_type": "stream",
     "text": [
      "現在処理中のレース: Race(race_id='201208040711', race_date=datetime.date(2012, 10, 21), track_name='京都', race_number=11, race_name='第73回菊花賞(GI)', distance=3000, track_type='芝', total_horses=18, grade='G1', track_direction='右', weather='晴', track_condition='良', start_time=datetime.time(15, 40), winning_time='3:02.9', pace=None, prize_1st=None, race_class=None, race_conditions=None, created_at=None, updated_at=None)\n"
     ]
    },
    {
     "name": "stderr",
     "output_type": "stream",
     "text": [
      "2025-08-31 22:32:50,144 - src.scraping.scrapers.race_scraper - INFO - race detail url: https://db.netkeiba.com/race/201208040511/\n",
      "2025-08-31 22:32:50,861 - src.scraping.extractors.race.race_detail_extractor - INFO - Extracted 18 race results for 201208040511\n",
      "2025-08-31 22:32:50,862 - src.scraping.scrapers.race_scraper - INFO - Successfully extracted race data: 201208040511 (18 horses)\n",
      "2025-08-31 22:32:50,862 - src.scraping.storage.postgresql_storage - INFO - Race Is: Race(race_id='201208040511', race_date=datetime.date(2012, 10, 14), track_name='京都', race_number=11, race_name='第17回秋華賞(GI)', distance=2000, track_type='芝', total_horses=18, grade='G1', track_direction='右', weather='曇', track_condition='良', start_time=datetime.time(15, 40), winning_time='2:00.4', pace=None, prize_1st=None, race_class=None, race_conditions=None, created_at=None, updated_at=None)\n",
      "2025-08-31 22:32:51,052 - src.scraping.scrapers.race_scraper - INFO - race detail url: https://db.netkeiba.com/race/201206040911/\n"
     ]
    },
    {
     "name": "stdout",
     "output_type": "stream",
     "text": [
      "現在処理中のレース: Race(race_id='201208040511', race_date=datetime.date(2012, 10, 14), track_name='京都', race_number=11, race_name='第17回秋華賞(GI)', distance=2000, track_type='芝', total_horses=18, grade='G1', track_direction='右', weather='曇', track_condition='良', start_time=datetime.time(15, 40), winning_time='2:00.4', pace=None, prize_1st=None, race_class=None, race_conditions=None, created_at=None, updated_at=None)\n"
     ]
    },
    {
     "name": "stderr",
     "output_type": "stream",
     "text": [
      "2025-08-31 22:32:51,888 - src.scraping.extractors.race.race_detail_extractor - INFO - Extracted 16 race results for 201206040911\n",
      "2025-08-31 22:32:51,889 - src.scraping.scrapers.race_scraper - INFO - Successfully extracted race data: 201206040911 (16 horses)\n",
      "2025-08-31 22:32:51,889 - src.scraping.storage.postgresql_storage - INFO - Race Is: Race(race_id='201206040911', race_date=datetime.date(2012, 9, 30), track_name='中山', race_number=11, race_name='第46回スプリンターズS(GI)', distance=1200, track_type='芝', total_horses=16, grade='G1', track_direction='右', weather='晴', track_condition='良', start_time=datetime.time(15, 40), winning_time='1:06.7', pace=None, prize_1st=None, race_class=None, race_conditions=None, created_at=None, updated_at=None)\n",
      "2025-08-31 22:32:52,052 - src.scraping.scrapers.race_scraper - INFO - race detail url: https://db.netkeiba.com/race/201209030811/\n"
     ]
    },
    {
     "name": "stdout",
     "output_type": "stream",
     "text": [
      "現在処理中のレース: Race(race_id='201206040911', race_date=datetime.date(2012, 9, 30), track_name='中山', race_number=11, race_name='第46回スプリンターズS(GI)', distance=1200, track_type='芝', total_horses=16, grade='G1', track_direction='右', weather='晴', track_condition='良', start_time=datetime.time(15, 40), winning_time='1:06.7', pace=None, prize_1st=None, race_class=None, race_conditions=None, created_at=None, updated_at=None)\n"
     ]
    },
    {
     "name": "stderr",
     "output_type": "stream",
     "text": [
      "2025-08-31 22:32:52,729 - src.scraping.extractors.race.race_detail_extractor - INFO - Extracted 16 race results for 201209030811\n",
      "2025-08-31 22:32:52,730 - src.scraping.scrapers.race_scraper - INFO - Successfully extracted race data: 201209030811 (16 horses)\n",
      "2025-08-31 22:32:52,731 - src.scraping.storage.postgresql_storage - INFO - Race Is: Race(race_id='201209030811', race_date=datetime.date(2012, 6, 24), track_name='阪神', race_number=11, race_name='第53回宝塚記念(GI)', distance=2200, track_type='芝', total_horses=16, grade='G1', track_direction='右', weather='晴', track_condition='良', start_time=datetime.time(15, 40), winning_time='2:10.9', pace=None, prize_1st=None, race_class=None, race_conditions=None, created_at=None, updated_at=None)\n",
      "2025-08-31 22:32:52,923 - src.scraping.scrapers.race_scraper - INFO - race detail url: https://db.netkeiba.com/race/201205030211/\n"
     ]
    },
    {
     "name": "stdout",
     "output_type": "stream",
     "text": [
      "現在処理中のレース: Race(race_id='201209030811', race_date=datetime.date(2012, 6, 24), track_name='阪神', race_number=11, race_name='第53回宝塚記念(GI)', distance=2200, track_type='芝', total_horses=16, grade='G1', track_direction='右', weather='晴', track_condition='良', start_time=datetime.time(15, 40), winning_time='2:10.9', pace=None, prize_1st=None, race_class=None, race_conditions=None, created_at=None, updated_at=None)\n"
     ]
    },
    {
     "name": "stderr",
     "output_type": "stream",
     "text": [
      "2025-08-31 22:32:53,425 - src.scraping.extractors.race.race_detail_extractor - INFO - Extracted 18 race results for 201205030211\n",
      "2025-08-31 22:32:53,425 - src.scraping.scrapers.race_scraper - INFO - Successfully extracted race data: 201205030211 (18 horses)\n",
      "2025-08-31 22:32:53,426 - src.scraping.storage.postgresql_storage - INFO - Race Is: Race(race_id='201205030211', race_date=datetime.date(2012, 6, 3), track_name='東京', race_number=11, race_name='第62回安田記念(GI)', distance=1600, track_type='芝', total_horses=18, grade='G1', track_direction='左', weather='曇', track_condition='良', start_time=datetime.time(15, 40), winning_time='1:31.3', pace=None, prize_1st=None, race_class=None, race_conditions=None, created_at=None, updated_at=None)\n",
      "2025-08-31 22:32:53,541 - src.scraping.scrapers.race_scraper - INFO - race detail url: https://db.netkeiba.com/race/201205021210/\n"
     ]
    },
    {
     "name": "stdout",
     "output_type": "stream",
     "text": [
      "現在処理中のレース: Race(race_id='201205030211', race_date=datetime.date(2012, 6, 3), track_name='東京', race_number=11, race_name='第62回安田記念(GI)', distance=1600, track_type='芝', total_horses=18, grade='G1', track_direction='左', weather='曇', track_condition='良', start_time=datetime.time(15, 40), winning_time='1:31.3', pace=None, prize_1st=None, race_class=None, race_conditions=None, created_at=None, updated_at=None)\n"
     ]
    },
    {
     "name": "stderr",
     "output_type": "stream",
     "text": [
      "2025-08-31 22:32:54,302 - src.scraping.extractors.race.race_detail_extractor - INFO - Extracted 18 race results for 201205021210\n",
      "2025-08-31 22:32:54,302 - src.scraping.scrapers.race_scraper - INFO - Successfully extracted race data: 201205021210 (18 horses)\n",
      "2025-08-31 22:32:54,303 - src.scraping.storage.postgresql_storage - INFO - Race Is: Race(race_id='201205021210', race_date=datetime.date(2012, 5, 27), track_name='東京1', race_number=10, race_name='第79回東京優駿(GI)', distance=2400, track_type='芝', total_horses=18, grade='G1', track_direction='左', weather='晴', track_condition='良', start_time=datetime.time(15, 40), winning_time='2:23.8', pace=None, prize_1st=None, race_class=None, race_conditions=None, created_at=None, updated_at=None)\n",
      "2025-08-31 22:32:54,489 - src.scraping.scrapers.race_scraper - INFO - race detail url: https://db.netkeiba.com/race/201205021011/\n"
     ]
    },
    {
     "name": "stdout",
     "output_type": "stream",
     "text": [
      "現在処理中のレース: Race(race_id='201205021210', race_date=datetime.date(2012, 5, 27), track_name='東京1', race_number=10, race_name='第79回東京優駿(GI)', distance=2400, track_type='芝', total_horses=18, grade='G1', track_direction='左', weather='晴', track_condition='良', start_time=datetime.time(15, 40), winning_time='2:23.8', pace=None, prize_1st=None, race_class=None, race_conditions=None, created_at=None, updated_at=None)\n"
     ]
    },
    {
     "name": "stderr",
     "output_type": "stream",
     "text": [
      "2025-08-31 22:32:54,815 - src.scraping.extractors.race.race_detail_extractor - INFO - Extracted 18 race results for 201205021011\n",
      "2025-08-31 22:32:54,816 - src.scraping.scrapers.race_scraper - INFO - Successfully extracted race data: 201205021011 (18 horses)\n",
      "2025-08-31 22:32:54,816 - src.scraping.storage.postgresql_storage - INFO - Race Is: Race(race_id='201205021011', race_date=datetime.date(2012, 5, 20), track_name='東京1', race_number=11, race_name='第73回優駿牝馬(GI)', distance=2400, track_type='芝', total_horses=18, grade='G1', track_direction='左', weather='晴', track_condition='良', start_time=datetime.time(15, 40), winning_time='2:23.6', pace=None, prize_1st=None, race_class=None, race_conditions=None, created_at=None, updated_at=None)\n",
      "2025-08-31 22:32:54,977 - src.scraping.scrapers.race_scraper - INFO - race detail url: https://db.netkeiba.com/race/201205020811/\n"
     ]
    },
    {
     "name": "stdout",
     "output_type": "stream",
     "text": [
      "現在処理中のレース: Race(race_id='201205021011', race_date=datetime.date(2012, 5, 20), track_name='東京1', race_number=11, race_name='第73回優駿牝馬(GI)', distance=2400, track_type='芝', total_horses=18, grade='G1', track_direction='左', weather='晴', track_condition='良', start_time=datetime.time(15, 40), winning_time='2:23.6', pace=None, prize_1st=None, race_class=None, race_conditions=None, created_at=None, updated_at=None)\n"
     ]
    },
    {
     "name": "stderr",
     "output_type": "stream",
     "text": [
      "2025-08-31 22:32:55,460 - src.scraping.extractors.race.race_detail_extractor - INFO - Extracted 18 race results for 201205020811\n",
      "2025-08-31 22:32:55,460 - src.scraping.scrapers.race_scraper - INFO - Successfully extracted race data: 201205020811 (18 horses)\n",
      "2025-08-31 22:32:55,461 - src.scraping.storage.postgresql_storage - INFO - Race Is: Race(race_id='201205020811', race_date=datetime.date(2012, 5, 13), track_name='東京', race_number=11, race_name='第7回ヴィクトリアマイル(GI)', distance=1600, track_type='芝', total_horses=18, grade='G1', track_direction='左', weather='晴', track_condition='良', start_time=datetime.time(15, 40), winning_time='1:32.4', pace=None, prize_1st=None, race_class=None, race_conditions=None, created_at=None, updated_at=None)\n"
     ]
    },
    {
     "name": "stdout",
     "output_type": "stream",
     "text": [
      "現在処理中のレース: Race(race_id='201205020811', race_date=datetime.date(2012, 5, 13), track_name='東京', race_number=11, race_name='第7回ヴィクトリアマイル(GI)', distance=1600, track_type='芝', total_horses=18, grade='G1', track_direction='左', weather='晴', track_condition='良', start_time=datetime.time(15, 40), winning_time='1:32.4', pace=None, prize_1st=None, race_class=None, race_conditions=None, created_at=None, updated_at=None)\n"
     ]
    },
    {
     "name": "stderr",
     "output_type": "stream",
     "text": [
      "2025-08-31 22:32:55,686 - src.scraping.scrapers.race_scraper - INFO - race detail url: https://db.netkeiba.com/race/201205020611/\n",
      "2025-08-31 22:32:56,427 - src.scraping.extractors.race.race_detail_extractor - INFO - Extracted 18 race results for 201205020611\n",
      "2025-08-31 22:32:56,427 - src.scraping.scrapers.race_scraper - INFO - Successfully extracted race data: 201205020611 (18 horses)\n",
      "2025-08-31 22:32:56,428 - src.scraping.storage.postgresql_storage - INFO - Race Is: Race(race_id='201205020611', race_date=datetime.date(2012, 5, 6), track_name='東京', race_number=11, race_name='第17回NHKマイルカップ(GI)', distance=1600, track_type='芝', total_horses=18, grade='G1', track_direction='左', weather='曇', track_condition='良', start_time=datetime.time(15, 40), winning_time='1:34.5', pace=None, prize_1st=None, race_class=None, race_conditions=None, created_at=None, updated_at=None)\n"
     ]
    },
    {
     "name": "stdout",
     "output_type": "stream",
     "text": [
      "現在処理中のレース: Race(race_id='201205020611', race_date=datetime.date(2012, 5, 6), track_name='東京', race_number=11, race_name='第17回NHKマイルカップ(GI)', distance=1600, track_type='芝', total_horses=18, grade='G1', track_direction='左', weather='曇', track_condition='良', start_time=datetime.time(15, 40), winning_time='1:34.5', pace=None, prize_1st=None, race_class=None, race_conditions=None, created_at=None, updated_at=None)\n"
     ]
    }
   ],
   "source": [
    "# レース詳細と結果を取得して保存\n",
    "storage = PostgreSQLStorage()\n",
    "\n",
    "# race_list = race_list[:3]  # テストのため3件に制限\n",
    "\n",
    "for race in race_list:\n",
    "    race_detail, race_results = scraper.scrape_race_detail(race['race_id'])\n",
    "\n",
    "    print(f\"現在処理中のレース: {race_detail}\")\n",
    "\n",
    "    storage.insert_race(race_detail)\n",
    "    storage.insert_race_results(race_results)"
   ]
  }
 ],
 "metadata": {
  "kernelspec": {
   "display_name": ".venv",
   "language": "python",
   "name": "python3"
  },
  "language_info": {
   "codemirror_mode": {
    "name": "ipython",
    "version": 3
   },
   "file_extension": ".py",
   "mimetype": "text/x-python",
   "name": "python",
   "nbconvert_exporter": "python",
   "pygments_lexer": "ipython3",
   "version": "3.13.0"
  }
 },
 "nbformat": 4,
 "nbformat_minor": 2
}
