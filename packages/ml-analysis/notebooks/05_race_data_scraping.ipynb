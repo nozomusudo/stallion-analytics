{
 "cells": [
  {
   "cell_type": "code",
   "execution_count": 1,
   "metadata": {},
   "outputs": [
    {
     "name": "stdout",
     "output_type": "stream",
     "text": [
      "=== 競馬レースデータ収集システム ===\n",
      "実行時刻: 2025-08-31 20:09:40.470750\n"
     ]
    }
   ],
   "source": [
    "import sys\n",
    "import os\n",
    "import logging\n",
    "from datetime import datetime, date\n",
    "import pandas as pd\n",
    "import json\n",
    "\n",
    "# プロジェクトのルートディレクトリをパスに追加\n",
    "sys.path.append('..')\n",
    "\n",
    "# ログ設定\n",
    "logging.basicConfig(\n",
    "    level=logging.INFO,\n",
    "    format='%(asctime)s - %(name)s - %(levelname)s - %(message)s'\n",
    ")\n",
    "\n",
    "print(\"=== 競馬レースデータ収集システム ===\")\n",
    "print(f\"実行時刻: {datetime.now()}\")\n"
   ]
  },
  {
   "cell_type": "code",
   "execution_count": 2,
   "metadata": {},
   "outputs": [
    {
     "name": "stdout",
     "output_type": "stream",
     "text": [
      "✅ システム初期化完了\n"
     ]
    }
   ],
   "source": [
    "# 必要なモジュールをインポート\n",
    "from src.scraping.scrapers.race_scraper import RaceScraper\n",
    "from src.scraping.storage.race_storage import RaceStorage\n",
    "from src.database.schemas.race_schema import Race, RaceResult\n",
    "\n",
    "# スクレイパーとストレージを初期化\n",
    "scraper = RaceScraper(delay=1.0)  # 1秒間隔でリクエスト\n",
    "storage = RaceStorage()\n",
    "\n",
    "print(\"✅ システム初期化完了\")"
   ]
  },
  {
   "cell_type": "code",
   "execution_count": 3,
   "metadata": {},
   "outputs": [
    {
     "name": "stderr",
     "output_type": "stream",
     "text": [
      "2025-08-31 20:09:43,674 - src.scraping.scrapers.race_scraper - INFO - Fetching race list: 2010-2012, grades: ['1']\n"
     ]
    },
    {
     "name": "stdout",
     "output_type": "stream",
     "text": [
      "=== Testing Race List Extraction ===\n"
     ]
    },
    {
     "name": "stderr",
     "output_type": "stream",
     "text": [
      "2025-08-31 20:09:45,471 - src.scraping.scrapers.race_scraper - INFO - Final URL: https://db.netkeiba.com/?pid=race_list&word=&start_year=2010&start_mon=none&end_year=2012&end_mon=none&list=20&sort=date&track%5B%5D=1&jyo%5B%5D=01&jyo%5B%5D=02&jyo%5B%5D=03&jyo%5B%5D=04&jyo%5B%5D=05&jyo%5B%5D=06&jyo%5B%5D=07&jyo%5B%5D=08&jyo%5B%5D=09&jyo%5B%5D=10&grade%5B%5D=1\n",
      "2025-08-31 20:09:45,472 - src.scraping.scrapers.race_scraper - INFO - Response status: 200\n",
      "2025-08-31 20:09:45,499 - src.scraping.extractors.race.race_list_extractor - INFO - Extracted 20 races from list\n",
      "2025-08-31 20:09:45,500 - src.scraping.scrapers.race_scraper - INFO - Found 20 races\n"
     ]
    },
    {
     "name": "stdout",
     "output_type": "stream",
     "text": [
      "Found 20 races\n",
      "  - {'race_date': '2012-12-23', 'track_name': '中山', 'meeting_number': 5, 'day_number': 8, 'weather': '晴', 'race_number': 10, 'race_name': '有馬記念(GI)', 'race_id': '201206050810', 'grade': 'G1', 'track_type': '芝', 'distance': 2500, 'total_horses': 16, 'track_condition': '良', 'winning_time': '2:31.9', 'pace': '29.9-36.0', 'winner_name': 'ゴールドシップ', 'winner_jockey': '内田博幸', 'winner_trainer': '須貝尚介', 'winner_trainer_region': '西'}\n",
      "  - {'race_date': '2012-12-16', 'track_name': '中山', 'meeting_number': 5, 'day_number': 6, 'weather': '晴', 'race_number': 11, 'race_name': '朝日フューチュリティ(GI)', 'race_id': '201206050611', 'grade': 'G1', 'track_type': '芝', 'distance': 1600, 'total_horses': 16, 'track_condition': '良', 'winning_time': '1:33.4', 'pace': '33.9-36.1', 'winner_name': 'ロゴタイプ', 'winner_jockey': 'Ｍ．デム', 'winner_trainer': '田中剛', 'winner_trainer_region': '東'}\n",
      "  - {'race_date': '2012-12-09', 'track_name': '阪神', 'meeting_number': 5, 'day_number': 4, 'weather': '晴', 'race_number': 11, 'race_name': '阪神ジュベナイルF(GI)', 'race_id': '201209050411', 'grade': 'G1', 'track_type': '芝', 'distance': 1600, 'total_horses': 18, 'track_condition': '良', 'winning_time': '1:34.2', 'pace': '34.1-36.4', 'winner_name': 'ローブティサージュ', 'winner_jockey': '秋山真一', 'winner_trainer': '須貝尚介', 'winner_trainer_region': '西'}\n"
     ]
    }
   ],
   "source": [
    "# テスト: 2024年G1レースリストを取得（実際のスクレイピングは行わない）\n",
    "print(\"=== Testing Race List Extraction ===\")\n",
    "race_list = scraper.scrape_race_list_by_conditions(\n",
    "    start_year=2010,\n",
    "    end_year=2012,\n",
    "    grades=['1'],\n",
    "    limit=20\n",
    ")\n",
    "\n",
    "print(f\"Found {len(race_list)} races\")\n",
    "for race in race_list[:3]:  # 最初の3件のみ表示\n",
    "    print(f\"  - {race}\")"
   ]
  },
  {
   "cell_type": "code",
   "execution_count": 4,
   "metadata": {},
   "outputs": [
    {
     "name": "stderr",
     "output_type": "stream",
     "text": [
      "2025-08-31 20:09:47,623 - src.scraping.scrapers.race_scraper - INFO - race detail url: https://db.netkeiba.com/race/201209050411/\n"
     ]
    },
    {
     "name": "stdout",
     "output_type": "stream",
     "text": [
      "TEST RACE ID: 201209050411\n"
     ]
    },
    {
     "name": "stderr",
     "output_type": "stream",
     "text": [
      "2025-08-31 20:09:48,245 - src.scraping.extractors.race.race_detail_extractor - INFO - Extracted 18 race results for 201209050411\n",
      "2025-08-31 20:09:48,245 - src.scraping.extractors.race.race_detail_extractor - INFO - Successfully extracted race data: 201209050411 (18 horses)\n",
      "2025-08-31 20:09:48,245 - src.scraping.extractors.race.race_detail_extractor - INFO - RACE IS: Race(race_id='201209050411', race_date=datetime.date(2025, 8, 31), track_name='', race_number=11, race_name='Âè64²óºå¿À¥¸¥å¥Ù¥Ê¥¤¥ëF(GI)', distance=0, track_type='', total_horses=18, grade='G1', track_direction=None, weather=None, track_condition=None, start_time=None, winning_time='1:34.2', pace=None, prize_1st=None, race_class=None, race_conditions=None, created_at=None, updated_at=None)\n",
      "2025-08-31 20:09:48,246 - src.scraping.extractors.race.race_detail_extractor - INFO - RESULT: RaceResult(race_id='201209050411', horse_id='2010104278', horse_name='¥í¡¼¥Ö¥Æ¥£¥µ¡¼¥¸¥å', bracket_number=1, horse_number=1, age=0, sex='不明', jockey_weight=Decimal('54'), jockey_name='½©»³¿¿°ì', trainer_name='¿Ü³\\xad¾°²ð', finish_position=1, jockey_id='01019', trainer_region=None, trainer_id='01105', race_time='1:34.2', time_diff='', passing_order='10-8', last_3f=Decimal('35.9'), odds=Decimal('8.1'), popularity=5, horse_weight=442, weight_change=-4, prize_money=Decimal('6631.6'), owner_id='506800', owner_name='¥·¥ë¥¯', created_at=None, updated_at=None)\n",
      "2025-08-31 20:09:48,246 - src.scraping.extractors.race.race_detail_extractor - INFO - RESULT: RaceResult(race_id='201209050411', horse_id='2010101222', horse_name='¥¯¥í¥Õ¥Í¥µ¥×¥é¥¤¥º', bracket_number=4, horse_number=7, age=0, sex='不明', jockey_weight=Decimal('54'), jockey_name='¼Æ»³Íº°ì', trainer_name='ÅÄ½ê½¨¹§', finish_position=2, jockey_id='05243', trainer_region=None, trainer_id='01009', race_time='1:34.2', time_diff='¥¯¥Ó', passing_order='2-2', last_3f=Decimal('36.3'), odds=Decimal('89.9'), popularity=15, horse_weight=472, weight_change=18, prize_money=Decimal('2637.6'), owner_id='349006', owner_name='ÈªÀ¶²ð', created_at=None, updated_at=None)\n",
      "2025-08-31 20:09:48,246 - src.scraping.extractors.race.race_detail_extractor - INFO - RESULT: RaceResult(race_id='201209050411', horse_id='2010104124', horse_name='¥ì¥Ã¥É¥»¥·¥ê¥¢', bracket_number=5, horse_number=10, age=0, sex='不明', jockey_weight=Decimal('54'), jockey_name='»°±º¹ÄÀ®', trainer_name='¼¯¸ÍÍº°ì', finish_position=3, jockey_id='01122', trainer_region=None, trainer_id='01097', race_time='1:34.3', time_diff='¥¯¥Ó', passing_order='15-16', last_3f=Decimal('35.6'), odds=Decimal('44.5'), popularity=10, horse_weight=416, weight_change=-10, prize_money=Decimal('1618.8'), owner_id='180800', owner_name='Åìµþ¥Û¡¼¥¹¥ì¡¼¥·¥ó¥°', created_at=None, updated_at=None)\n",
      "2025-08-31 20:09:48,247 - src.scraping.extractors.race.race_detail_extractor - INFO - RESULT: RaceResult(race_id='201209050411', horse_id='2010103844', horse_name='¥³¥ì¥¯¥¿¡¼¥¢¥¤¥Æ¥à', bracket_number=3, horse_number=6, age=0, sex='不明', jockey_weight=Decimal('54'), jockey_name='ÉÍÃæ½Ó', trainer_name='¿Ü³\\xad¾°²ð', finish_position=4, jockey_id='01115', trainer_region=None, trainer_id='01105', race_time='1:34.4', time_diff='3/4', passing_order='10-13', last_3f=Decimal('35.9'), odds=Decimal('2.9'), popularity=1, horse_weight=474, weight_change=2, prize_money=Decimal('980.0'), owner_id='808800', owner_name='£Ç£±¥ì¡¼¥·¥ó¥°', created_at=None, updated_at=None)\n",
      "2025-08-31 20:09:48,247 - src.scraping.extractors.race.race_detail_extractor - INFO - RESULT: RaceResult(race_id='201209050411', horse_id='2010104227', horse_name='¥«¥é¥Õ¥ë¥Ö¥é¥Ã¥µ¥à', bracket_number=7, horse_number=14, age=0, sex='不明', jockey_weight=Decimal('54'), jockey_name='ÏÂÅÄÎµÆó', trainer_name='ÎëÌÚ¹§»Ö', finish_position=5, jockey_id='01018', trainer_region=None, trainer_id='01111', race_time='1:34.5', time_diff='3/4', passing_order='17-18', last_3f=Decimal('35.5'), odds=Decimal('17.5'), popularity=7, horse_weight=460, weight_change=2, prize_money=Decimal('650.0'), owner_id='790005', owner_name='µÈÅÄ¾¡¸Ê', created_at=None, updated_at=None)\n",
      "2025-08-31 20:09:48,247 - src.scraping.scrapers.race_scraper - INFO - Successfully extracted race data: 201209050411 (18 horses)\n"
     ]
    }
   ],
   "source": [
    "# レース詳細取得のテスト\n",
    "\n",
    "test_race = race_list[3]\n",
    "test_race_id = test_race['race_id']\n",
    "\n",
    "print(f\"TEST RACE ID: {test_race_id}\")\n",
    "\n",
    "# --------------------------------------\n",
    "\n",
    "race_detail = scraper.scrape_race_detail(test_race_id)"
   ]
  },
  {
   "cell_type": "code",
   "execution_count": 5,
   "metadata": {},
   "outputs": [
    {
     "name": "stdout",
     "output_type": "stream",
     "text": [
      "Race(race_id='201209050411', race_date=datetime.date(2025, 8, 31), track_name='', race_number=11, race_name='Âè64²óºå¿À¥¸¥å¥Ù¥Ê¥¤¥ëF(GI)', distance=0, track_type='', total_horses=18, grade='G1', track_direction=None, weather=None, track_condition=None, start_time=None, winning_time='1:34.2', pace=None, prize_1st=None, race_class=None, race_conditions=None, created_at=None, updated_at=None)\n"
     ]
    }
   ],
   "source": [
    "race, race_results = race_detail\n",
    "\n",
    "print(race)"
   ]
  },
  {
   "cell_type": "code",
   "execution_count": 6,
   "metadata": {},
   "outputs": [
    {
     "name": "stderr",
     "output_type": "stream",
     "text": [
      "2025-08-31 20:10:00,874 - src.scraping.storage.postgresql_storage - INFO - PostgreSQL connection test successful\n",
      "2025-08-31 20:10:00,875 - src.scraping.storage.postgresql_storage - INFO - Race Is: Race(race_id='201209050411', race_date=datetime.date(2025, 8, 31), track_name='', race_number=11, race_name='Âè64²óºå¿À¥¸¥å¥Ù¥Ê¥¤¥ëF(GI)', distance=0, track_type='', total_horses=18, grade='G1', track_direction=None, weather=None, track_condition=None, start_time=None, winning_time='1:34.2', pace=None, prize_1st=None, race_class=None, race_conditions=None, created_at=None, updated_at=None)\n"
     ]
    },
    {
     "data": {
      "text/plain": [
       "True"
      ]
     },
     "execution_count": 6,
     "metadata": {},
     "output_type": "execute_result"
    }
   ],
   "source": [
    "from src.scraping.storage.postgresql_storage import PostgreSQLStorage\n",
    "\n",
    "storage = PostgreSQLStorage()\n",
    "\n",
    "storage.insert_race(race)\n"
   ]
  }
 ],
 "metadata": {
  "kernelspec": {
   "display_name": ".venv",
   "language": "python",
   "name": "python3"
  },
  "language_info": {
   "codemirror_mode": {
    "name": "ipython",
    "version": 3
   },
   "file_extension": ".py",
   "mimetype": "text/x-python",
   "name": "python",
   "nbconvert_exporter": "python",
   "pygments_lexer": "ipython3",
   "version": "3.13.0"
  }
 },
 "nbformat": 4,
 "nbformat_minor": 2
}
