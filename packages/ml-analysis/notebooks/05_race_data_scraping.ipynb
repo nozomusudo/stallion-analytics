{
 "cells": [
  {
   "cell_type": "markdown",
   "metadata": {},
   "source": [
    "### レースデータを取得し登録するコード\n",
    "\n",
    "基本的に完全に動いている！！"
   ]
  },
  {
   "cell_type": "code",
   "execution_count": 1,
   "metadata": {},
   "outputs": [
    {
     "name": "stdout",
     "output_type": "stream",
     "text": [
      "=== 競馬レースデータ収集システム ===\n",
      "実行時刻: 2025-08-31 21:56:00.102694\n"
     ]
    }
   ],
   "source": [
    "import sys\n",
    "import os\n",
    "import logging\n",
    "from datetime import datetime, date\n",
    "import pandas as pd\n",
    "import json\n",
    "\n",
    "# プロジェクトのルートディレクトリをパスに追加\n",
    "sys.path.append('..')\n",
    "\n",
    "# ログ設定\n",
    "logging.basicConfig(\n",
    "    level=logging.INFO,\n",
    "    format='%(asctime)s - %(name)s - %(levelname)s - %(message)s'\n",
    ")\n",
    "\n",
    "print(\"=== 競馬レースデータ収集システム ===\")\n",
    "print(f\"実行時刻: {datetime.now()}\")\n"
   ]
  },
  {
   "cell_type": "code",
   "execution_count": 2,
   "metadata": {},
   "outputs": [
    {
     "name": "stdout",
     "output_type": "stream",
     "text": [
      "✅ システム初期化完了\n"
     ]
    }
   ],
   "source": [
    "# 必要なモジュールをインポート\n",
    "from src.scraping.scrapers.race_scraper import RaceScraper\n",
    "from src.scraping.storage.race_storage import RaceStorage\n",
    "from src.database.schemas.race_schema import Race, RaceResult\n",
    "from src.scraping.storage.postgresql_storage import PostgreSQLStorage\n",
    "\n",
    "# スクレイパーとストレージを初期化\n",
    "scraper = RaceScraper(delay=1.0)  # 1秒間隔でリクエスト\n",
    "storage = RaceStorage()\n",
    "\n",
    "print(\"✅ システム初期化完了\")"
   ]
  },
  {
   "cell_type": "code",
   "execution_count": 5,
   "metadata": {},
   "outputs": [
    {
     "name": "stderr",
     "output_type": "stream",
     "text": [
      "2025-08-31 21:57:29,402 - src.scraping.scrapers.race_scraper - INFO - Fetching race list: 2010-2018, grades: ['1']\n"
     ]
    },
    {
     "name": "stdout",
     "output_type": "stream",
     "text": [
      "=== Testing Race List Extraction ===\n"
     ]
    },
    {
     "name": "stderr",
     "output_type": "stream",
     "text": [
      "2025-08-31 21:57:31,500 - src.scraping.scrapers.race_scraper - INFO - Final URL: https://db.netkeiba.com/?pid=race_list&word=&start_year=2010&start_mon=none&end_year=2018&end_mon=none&list=200&sort=date&track%5B%5D=1&jyo%5B%5D=01&jyo%5B%5D=02&jyo%5B%5D=03&jyo%5B%5D=04&jyo%5B%5D=05&jyo%5B%5D=06&jyo%5B%5D=07&jyo%5B%5D=08&jyo%5B%5D=09&jyo%5B%5D=10&grade%5B%5D=1\n",
      "2025-08-31 21:57:31,501 - src.scraping.scrapers.race_scraper - INFO - Response status: 200\n",
      "2025-08-31 21:57:31,530 - src.scraping.extractors.race.race_list_extractor - INFO - Extracted 20 races from list\n",
      "2025-08-31 21:57:31,531 - src.scraping.scrapers.race_scraper - INFO - Found 20 races\n"
     ]
    },
    {
     "name": "stdout",
     "output_type": "stream",
     "text": [
      "Found 20 races\n",
      "  - {'race_name': 'ホープフルS(GI)', 'race_id': '201806050911'}\n",
      "  - {'race_name': '有馬記念(GI)', 'race_id': '201806050811'}\n",
      "  - {'race_name': '朝日フューチュリティ(GI)', 'race_id': '201809050611'}\n"
     ]
    }
   ],
   "source": [
    "# レースリストを取得\n",
    "print(\"=== Testing Race List Extraction ===\")\n",
    "race_list = scraper.scrape_race_list_by_conditions(\n",
    "    start_year=2010,\n",
    "    end_year=2018,\n",
    "    grades=['1'],\n",
    "    limit=200\n",
    ")\n",
    "\n",
    "print(f\"Found {len(race_list)} races\")\n",
    "for race in race_list[:3]:  # 最初の3件のみ表示\n",
    "    print(f\"  - {race}\")"
   ]
  },
  {
   "cell_type": "code",
   "execution_count": 4,
   "metadata": {},
   "outputs": [
    {
     "name": "stderr",
     "output_type": "stream",
     "text": [
      "2025-08-31 21:56:28,194 - src.scraping.storage.postgresql_storage - INFO - PostgreSQL connection test successful\n",
      "2025-08-31 21:56:28,195 - src.scraping.scrapers.race_scraper - INFO - race detail url: https://db.netkeiba.com/race/201806050911/\n",
      "2025-08-31 21:56:28,584 - src.scraping.extractors.race.race_detail_extractor - INFO - Extracted 13 race results for 201806050911\n",
      "2025-08-31 21:56:28,584 - src.scraping.scrapers.race_scraper - INFO - Successfully extracted race data: 201806050911 (13 horses)\n",
      "2025-08-31 21:56:28,585 - src.scraping.storage.postgresql_storage - INFO - Race Is: Race(race_id='201806050911', race_date=datetime.date(2018, 12, 28), track_name='中山', race_number=11, race_name='第35回ホープフルステークス(GI)', distance=2000, track_type='芝', total_horses=13, grade='G1', track_direction='右', weather='晴', track_condition='良', start_time=datetime.time(15, 30), winning_time='2:01.6', pace=None, prize_1st=None, race_class=None, race_conditions=None, created_at=None, updated_at=None)\n",
      "2025-08-31 21:56:28,772 - src.scraping.scrapers.race_scraper - INFO - race detail url: https://db.netkeiba.com/race/201806050811/\n"
     ]
    },
    {
     "name": "stdout",
     "output_type": "stream",
     "text": [
      "現在処理中のレース: Race(race_id='201806050911', race_date=datetime.date(2018, 12, 28), track_name='中山', race_number=11, race_name='第35回ホープフルステークス(GI)', distance=2000, track_type='芝', total_horses=13, grade='G1', track_direction='右', weather='晴', track_condition='良', start_time=datetime.time(15, 30), winning_time='2:01.6', pace=None, prize_1st=None, race_class=None, race_conditions=None, created_at=None, updated_at=None)\n"
     ]
    },
    {
     "name": "stderr",
     "output_type": "stream",
     "text": [
      "2025-08-31 21:56:29,222 - src.scraping.extractors.race.race_detail_extractor - INFO - Extracted 16 race results for 201806050811\n",
      "2025-08-31 21:56:29,223 - src.scraping.scrapers.race_scraper - INFO - Successfully extracted race data: 201806050811 (16 horses)\n",
      "2025-08-31 21:56:29,223 - src.scraping.storage.postgresql_storage - INFO - Race Is: Race(race_id='201806050811', race_date=datetime.date(2018, 12, 23), track_name='中山', race_number=11, race_name='第63回有馬記念(GI)', distance=2500, track_type='芝', total_horses=16, grade='G1', track_direction='右', weather='曇', track_condition='稍重', start_time=datetime.time(15, 25), winning_time='2:32.2', pace=None, prize_1st=None, race_class=None, race_conditions=None, created_at=None, updated_at=None)\n",
      "2025-08-31 21:56:29,379 - src.scraping.scrapers.race_scraper - INFO - race detail url: https://db.netkeiba.com/race/201809050611/\n"
     ]
    },
    {
     "name": "stdout",
     "output_type": "stream",
     "text": [
      "現在処理中のレース: Race(race_id='201806050811', race_date=datetime.date(2018, 12, 23), track_name='中山', race_number=11, race_name='第63回有馬記念(GI)', distance=2500, track_type='芝', total_horses=16, grade='G1', track_direction='右', weather='曇', track_condition='稍重', start_time=datetime.time(15, 25), winning_time='2:32.2', pace=None, prize_1st=None, race_class=None, race_conditions=None, created_at=None, updated_at=None)\n"
     ]
    },
    {
     "name": "stderr",
     "output_type": "stream",
     "text": [
      "2025-08-31 21:56:30,429 - src.scraping.extractors.race.race_detail_extractor - INFO - Extracted 15 race results for 201809050611\n",
      "2025-08-31 21:56:30,430 - src.scraping.scrapers.race_scraper - INFO - Successfully extracted race data: 201809050611 (15 horses)\n",
      "2025-08-31 21:56:30,430 - src.scraping.storage.postgresql_storage - INFO - Race Is: Race(race_id='201809050611', race_date=datetime.date(2018, 12, 16), track_name='阪神', race_number=11, race_name='第70回朝日フューチュリティ(GI)', distance=1600, track_type='芝', total_horses=15, grade='G1', track_direction='右', weather='小雨', track_condition='良', start_time=datetime.time(15, 40), winning_time='1:33.9', pace=None, prize_1st=None, race_class=None, race_conditions=None, created_at=None, updated_at=None)\n"
     ]
    },
    {
     "name": "stdout",
     "output_type": "stream",
     "text": [
      "現在処理中のレース: Race(race_id='201809050611', race_date=datetime.date(2018, 12, 16), track_name='阪神', race_number=11, race_name='第70回朝日フューチュリティ(GI)', distance=1600, track_type='芝', total_horses=15, grade='G1', track_direction='右', weather='小雨', track_condition='良', start_time=datetime.time(15, 40), winning_time='1:33.9', pace=None, prize_1st=None, race_class=None, race_conditions=None, created_at=None, updated_at=None)\n"
     ]
    },
    {
     "name": "stderr",
     "output_type": "stream",
     "text": [
      "2025-08-31 21:56:30,641 - src.scraping.scrapers.race_scraper - INFO - race detail url: https://db.netkeiba.com/race/201809050411/\n",
      "2025-08-31 21:56:31,235 - src.scraping.extractors.race.race_detail_extractor - INFO - Extracted 18 race results for 201809050411\n",
      "2025-08-31 21:56:31,235 - src.scraping.scrapers.race_scraper - INFO - Successfully extracted race data: 201809050411 (18 horses)\n",
      "2025-08-31 21:56:31,236 - src.scraping.storage.postgresql_storage - INFO - Race Is: Race(race_id='201809050411', race_date=datetime.date(2018, 12, 9), track_name='阪神', race_number=11, race_name='第70回阪神ジュベナイルF(GI)', distance=1600, track_type='芝', total_horses=18, grade='G1', track_direction='右', weather='晴', track_condition='良', start_time=datetime.time(15, 40), winning_time='1:34.1', pace=None, prize_1st=None, race_class=None, race_conditions=None, created_at=None, updated_at=None)\n"
     ]
    },
    {
     "name": "stdout",
     "output_type": "stream",
     "text": [
      "現在処理中のレース: Race(race_id='201809050411', race_date=datetime.date(2018, 12, 9), track_name='阪神', race_number=11, race_name='第70回阪神ジュベナイルF(GI)', distance=1600, track_type='芝', total_horses=18, grade='G1', track_direction='右', weather='晴', track_condition='良', start_time=datetime.time(15, 40), winning_time='1:34.1', pace=None, prize_1st=None, race_class=None, race_conditions=None, created_at=None, updated_at=None)\n"
     ]
    },
    {
     "name": "stderr",
     "output_type": "stream",
     "text": [
      "2025-08-31 21:56:31,446 - src.scraping.scrapers.race_scraper - INFO - race detail url: https://db.netkeiba.com/race/201805050811/\n",
      "2025-08-31 21:56:32,453 - src.scraping.extractors.race.race_detail_extractor - INFO - Extracted 14 race results for 201805050811\n",
      "2025-08-31 21:56:32,453 - src.scraping.scrapers.race_scraper - INFO - Successfully extracted race data: 201805050811 (14 horses)\n",
      "2025-08-31 21:56:32,454 - src.scraping.storage.postgresql_storage - INFO - Race Is: Race(race_id='201805050811', race_date=datetime.date(2018, 11, 25), track_name='東京', race_number=11, race_name='第38回ジャパンカップ(GI)', distance=2400, track_type='芝', total_horses=14, grade='G1', track_direction='左', weather='晴', track_condition='良', start_time=datetime.time(15, 40), winning_time='2:20.6', pace=None, prize_1st=None, race_class=None, race_conditions=None, created_at=None, updated_at=None)\n",
      "2025-08-31 21:56:32,588 - src.scraping.scrapers.race_scraper - INFO - race detail url: https://db.netkeiba.com/race/201808050611/\n"
     ]
    },
    {
     "name": "stdout",
     "output_type": "stream",
     "text": [
      "現在処理中のレース: Race(race_id='201805050811', race_date=datetime.date(2018, 11, 25), track_name='東京', race_number=11, race_name='第38回ジャパンカップ(GI)', distance=2400, track_type='芝', total_horses=14, grade='G1', track_direction='左', weather='晴', track_condition='良', start_time=datetime.time(15, 40), winning_time='2:20.6', pace=None, prize_1st=None, race_class=None, race_conditions=None, created_at=None, updated_at=None)\n"
     ]
    },
    {
     "name": "stderr",
     "output_type": "stream",
     "text": [
      "2025-08-31 21:56:33,129 - src.scraping.extractors.race.race_detail_extractor - INFO - Extracted 18 race results for 201808050611\n",
      "2025-08-31 21:56:33,130 - src.scraping.scrapers.race_scraper - INFO - Successfully extracted race data: 201808050611 (18 horses)\n",
      "2025-08-31 21:56:33,130 - src.scraping.storage.postgresql_storage - INFO - Race Is: Race(race_id='201808050611', race_date=datetime.date(2018, 11, 18), track_name='京都', race_number=11, race_name='第35回マイルチャンピオンS(GI)', distance=1600, track_type='芝', total_horses=18, grade='G1', track_direction='右', weather='晴', track_condition='良', start_time=datetime.time(15, 40), winning_time='1:33.3', pace=None, prize_1st=None, race_class=None, race_conditions=None, created_at=None, updated_at=None)\n"
     ]
    },
    {
     "name": "stdout",
     "output_type": "stream",
     "text": [
      "現在処理中のレース: Race(race_id='201808050611', race_date=datetime.date(2018, 11, 18), track_name='京都', race_number=11, race_name='第35回マイルチャンピオンS(GI)', distance=1600, track_type='芝', total_horses=18, grade='G1', track_direction='右', weather='晴', track_condition='良', start_time=datetime.time(15, 40), winning_time='1:33.3', pace=None, prize_1st=None, race_class=None, race_conditions=None, created_at=None, updated_at=None)\n"
     ]
    },
    {
     "name": "stderr",
     "output_type": "stream",
     "text": [
      "2025-08-31 21:56:33,363 - src.scraping.scrapers.race_scraper - INFO - race detail url: https://db.netkeiba.com/race/201808050411/\n",
      "2025-08-31 21:56:33,819 - src.scraping.extractors.race.race_detail_extractor - INFO - Extracted 17 race results for 201808050411\n",
      "2025-08-31 21:56:33,820 - src.scraping.scrapers.race_scraper - INFO - Successfully extracted race data: 201808050411 (17 horses)\n",
      "2025-08-31 21:56:33,820 - src.scraping.storage.postgresql_storage - INFO - Race Is: Race(race_id='201808050411', race_date=datetime.date(2018, 11, 11), track_name='京都', race_number=11, race_name='第43回エリザベス女王杯(GI)', distance=2200, track_type='芝', total_horses=17, grade='G1', track_direction='右', weather='晴', track_condition='良', start_time=datetime.time(15, 40), winning_time='2:13.1', pace=None, prize_1st=None, race_class=None, race_conditions=None, created_at=None, updated_at=None)\n",
      "2025-08-31 21:56:33,973 - src.scraping.scrapers.race_scraper - INFO - race detail url: https://db.netkeiba.com/race/201805040911/\n"
     ]
    },
    {
     "name": "stdout",
     "output_type": "stream",
     "text": [
      "現在処理中のレース: Race(race_id='201808050411', race_date=datetime.date(2018, 11, 11), track_name='京都', race_number=11, race_name='第43回エリザベス女王杯(GI)', distance=2200, track_type='芝', total_horses=17, grade='G1', track_direction='右', weather='晴', track_condition='良', start_time=datetime.time(15, 40), winning_time='2:13.1', pace=None, prize_1st=None, race_class=None, race_conditions=None, created_at=None, updated_at=None)\n"
     ]
    },
    {
     "name": "stderr",
     "output_type": "stream",
     "text": [
      "2025-08-31 21:56:34,458 - src.scraping.extractors.race.race_detail_extractor - INFO - Extracted 13 race results for 201805040911\n",
      "2025-08-31 21:56:34,458 - src.scraping.scrapers.race_scraper - INFO - Successfully extracted race data: 201805040911 (13 horses)\n",
      "2025-08-31 21:56:34,458 - src.scraping.storage.postgresql_storage - INFO - Race Is: Race(race_id='201805040911', race_date=datetime.date(2018, 10, 28), track_name='東京', race_number=11, race_name='第158回天皇賞(秋)(GI)', distance=2000, track_type='芝', total_horses=13, grade='G1', track_direction='左', weather='晴', track_condition='良', start_time=datetime.time(15, 40), winning_time='1:56.8', pace=None, prize_1st=None, race_class=None, race_conditions=None, created_at=None, updated_at=None)\n",
      "2025-08-31 21:56:34,601 - src.scraping.scrapers.race_scraper - INFO - race detail url: https://db.netkeiba.com/race/201808040711/\n"
     ]
    },
    {
     "name": "stdout",
     "output_type": "stream",
     "text": [
      "現在処理中のレース: Race(race_id='201805040911', race_date=datetime.date(2018, 10, 28), track_name='東京', race_number=11, race_name='第158回天皇賞(秋)(GI)', distance=2000, track_type='芝', total_horses=13, grade='G1', track_direction='左', weather='晴', track_condition='良', start_time=datetime.time(15, 40), winning_time='1:56.8', pace=None, prize_1st=None, race_class=None, race_conditions=None, created_at=None, updated_at=None)\n"
     ]
    },
    {
     "name": "stderr",
     "output_type": "stream",
     "text": [
      "2025-08-31 21:56:34,976 - src.scraping.extractors.race.race_detail_extractor - INFO - Extracted 18 race results for 201808040711\n",
      "2025-08-31 21:56:34,977 - src.scraping.scrapers.race_scraper - INFO - Successfully extracted race data: 201808040711 (18 horses)\n",
      "2025-08-31 21:56:34,984 - src.scraping.storage.postgresql_storage - INFO - Race Is: Race(race_id='201808040711', race_date=datetime.date(2018, 10, 21), track_name='京都', race_number=11, race_name='第79回菊花賞(GI)', distance=3000, track_type='芝', total_horses=18, grade='G1', track_direction='右', weather='晴', track_condition='良', start_time=datetime.time(15, 40), winning_time='3:06.1', pace=None, prize_1st=None, race_class=None, race_conditions=None, created_at=None, updated_at=None)\n"
     ]
    },
    {
     "name": "stdout",
     "output_type": "stream",
     "text": [
      "現在処理中のレース: Race(race_id='201808040711', race_date=datetime.date(2018, 10, 21), track_name='京都', race_number=11, race_name='第79回菊花賞(GI)', distance=3000, track_type='芝', total_horses=18, grade='G1', track_direction='右', weather='晴', track_condition='良', start_time=datetime.time(15, 40), winning_time='3:06.1', pace=None, prize_1st=None, race_class=None, race_conditions=None, created_at=None, updated_at=None)\n"
     ]
    },
    {
     "name": "stderr",
     "output_type": "stream",
     "text": [
      "2025-08-31 21:56:35,202 - src.scraping.scrapers.race_scraper - INFO - race detail url: https://db.netkeiba.com/race/201808040511/\n",
      "2025-08-31 21:56:36,066 - src.scraping.extractors.race.race_detail_extractor - INFO - Extracted 18 race results for 201808040511\n",
      "2025-08-31 21:56:36,067 - src.scraping.scrapers.race_scraper - INFO - Successfully extracted race data: 201808040511 (18 horses)\n",
      "2025-08-31 21:56:36,067 - src.scraping.storage.postgresql_storage - INFO - Race Is: Race(race_id='201808040511', race_date=datetime.date(2018, 10, 14), track_name='京都', race_number=11, race_name='第23回秋華賞(GI)', distance=2000, track_type='芝', total_horses=18, grade='G1', track_direction='右', weather='晴', track_condition='良', start_time=datetime.time(15, 40), winning_time='1:58.5', pace=None, prize_1st=None, race_class=None, race_conditions=None, created_at=None, updated_at=None)\n",
      "2025-08-31 21:56:36,264 - src.scraping.scrapers.race_scraper - INFO - race detail url: https://db.netkeiba.com/race/201806040911/\n"
     ]
    },
    {
     "name": "stdout",
     "output_type": "stream",
     "text": [
      "現在処理中のレース: Race(race_id='201808040511', race_date=datetime.date(2018, 10, 14), track_name='京都', race_number=11, race_name='第23回秋華賞(GI)', distance=2000, track_type='芝', total_horses=18, grade='G1', track_direction='右', weather='晴', track_condition='良', start_time=datetime.time(15, 40), winning_time='1:58.5', pace=None, prize_1st=None, race_class=None, race_conditions=None, created_at=None, updated_at=None)\n"
     ]
    },
    {
     "name": "stderr",
     "output_type": "stream",
     "text": [
      "2025-08-31 21:56:36,987 - src.scraping.extractors.race.race_detail_extractor - INFO - Extracted 16 race results for 201806040911\n",
      "2025-08-31 21:56:36,988 - src.scraping.scrapers.race_scraper - INFO - Successfully extracted race data: 201806040911 (16 horses)\n",
      "2025-08-31 21:56:36,988 - src.scraping.storage.postgresql_storage - INFO - Race Is: Race(race_id='201806040911', race_date=datetime.date(2018, 9, 30), track_name='中山', race_number=11, race_name='第52回スプリンターズS(GI)', distance=1200, track_type='芝', total_horses=16, grade='G1', track_direction='右', weather='雨', track_condition='稍重', start_time=datetime.time(15, 40), winning_time='1:08.3', pace=None, prize_1st=None, race_class=None, race_conditions=None, created_at=None, updated_at=None)\n"
     ]
    },
    {
     "name": "stdout",
     "output_type": "stream",
     "text": [
      "現在処理中のレース: Race(race_id='201806040911', race_date=datetime.date(2018, 9, 30), track_name='中山', race_number=11, race_name='第52回スプリンターズS(GI)', distance=1200, track_type='芝', total_horses=16, grade='G1', track_direction='右', weather='雨', track_condition='稍重', start_time=datetime.time(15, 40), winning_time='1:08.3', pace=None, prize_1st=None, race_class=None, race_conditions=None, created_at=None, updated_at=None)\n"
     ]
    },
    {
     "name": "stderr",
     "output_type": "stream",
     "text": [
      "2025-08-31 21:56:37,258 - src.scraping.scrapers.race_scraper - INFO - race detail url: https://db.netkeiba.com/race/201809030811/\n",
      "2025-08-31 21:56:37,666 - src.scraping.extractors.race.race_detail_extractor - INFO - Extracted 16 race results for 201809030811\n",
      "2025-08-31 21:56:37,667 - src.scraping.scrapers.race_scraper - INFO - Successfully extracted race data: 201809030811 (16 horses)\n",
      "2025-08-31 21:56:37,667 - src.scraping.storage.postgresql_storage - INFO - Race Is: Race(race_id='201809030811', race_date=datetime.date(2018, 6, 24), track_name='阪神', race_number=11, race_name='第59回宝塚記念(GI)', distance=2200, track_type='芝', total_horses=16, grade='G1', track_direction='右', weather='晴', track_condition='稍重', start_time=datetime.time(15, 40), winning_time='2:11.6', pace=None, prize_1st=None, race_class=None, race_conditions=None, created_at=None, updated_at=None)\n",
      "2025-08-31 21:56:37,824 - src.scraping.scrapers.race_scraper - INFO - race detail url: https://db.netkeiba.com/race/201805030211/\n"
     ]
    },
    {
     "name": "stdout",
     "output_type": "stream",
     "text": [
      "現在処理中のレース: Race(race_id='201809030811', race_date=datetime.date(2018, 6, 24), track_name='阪神', race_number=11, race_name='第59回宝塚記念(GI)', distance=2200, track_type='芝', total_horses=16, grade='G1', track_direction='右', weather='晴', track_condition='稍重', start_time=datetime.time(15, 40), winning_time='2:11.6', pace=None, prize_1st=None, race_class=None, race_conditions=None, created_at=None, updated_at=None)\n"
     ]
    },
    {
     "name": "stderr",
     "output_type": "stream",
     "text": [
      "2025-08-31 21:56:38,312 - src.scraping.extractors.race.race_detail_extractor - INFO - Extracted 16 race results for 201805030211\n",
      "2025-08-31 21:56:38,312 - src.scraping.scrapers.race_scraper - INFO - Successfully extracted race data: 201805030211 (16 horses)\n",
      "2025-08-31 21:56:38,313 - src.scraping.storage.postgresql_storage - INFO - Race Is: Race(race_id='201805030211', race_date=datetime.date(2018, 6, 3), track_name='東京', race_number=11, race_name='第68回安田記念(GI)', distance=1600, track_type='芝', total_horses=16, grade='G1', track_direction='左', weather='晴', track_condition='良', start_time=datetime.time(15, 40), winning_time='1:31.3', pace=None, prize_1st=None, race_class=None, race_conditions=None, created_at=None, updated_at=None)\n",
      "2025-08-31 21:56:38,441 - src.scraping.scrapers.race_scraper - INFO - race detail url: https://db.netkeiba.com/race/201805021210/\n"
     ]
    },
    {
     "name": "stdout",
     "output_type": "stream",
     "text": [
      "現在処理中のレース: Race(race_id='201805030211', race_date=datetime.date(2018, 6, 3), track_name='東京', race_number=11, race_name='第68回安田記念(GI)', distance=1600, track_type='芝', total_horses=16, grade='G1', track_direction='左', weather='晴', track_condition='良', start_time=datetime.time(15, 40), winning_time='1:31.3', pace=None, prize_1st=None, race_class=None, race_conditions=None, created_at=None, updated_at=None)\n"
     ]
    },
    {
     "name": "stderr",
     "output_type": "stream",
     "text": [
      "2025-08-31 21:56:39,175 - src.scraping.extractors.race.race_detail_extractor - INFO - Extracted 18 race results for 201805021210\n",
      "2025-08-31 21:56:39,175 - src.scraping.scrapers.race_scraper - INFO - Successfully extracted race data: 201805021210 (18 horses)\n",
      "2025-08-31 21:56:39,176 - src.scraping.storage.postgresql_storage - INFO - Race Is: Race(race_id='201805021210', race_date=datetime.date(2018, 5, 27), track_name='東京1', race_number=10, race_name='第85回東京優駿(GI)', distance=2400, track_type='芝', total_horses=18, grade='G1', track_direction='左', weather='晴', track_condition='良', start_time=datetime.time(15, 40), winning_time='2:23.6', pace=None, prize_1st=None, race_class=None, race_conditions=None, created_at=None, updated_at=None)\n",
      "2025-08-31 21:56:39,332 - src.scraping.scrapers.race_scraper - INFO - race detail url: https://db.netkeiba.com/race/201805021011/\n"
     ]
    },
    {
     "name": "stdout",
     "output_type": "stream",
     "text": [
      "現在処理中のレース: Race(race_id='201805021210', race_date=datetime.date(2018, 5, 27), track_name='東京1', race_number=10, race_name='第85回東京優駿(GI)', distance=2400, track_type='芝', total_horses=18, grade='G1', track_direction='左', weather='晴', track_condition='良', start_time=datetime.time(15, 40), winning_time='2:23.6', pace=None, prize_1st=None, race_class=None, race_conditions=None, created_at=None, updated_at=None)\n"
     ]
    },
    {
     "name": "stderr",
     "output_type": "stream",
     "text": [
      "2025-08-31 21:56:39,779 - src.scraping.extractors.race.race_detail_extractor - INFO - Extracted 18 race results for 201805021011\n",
      "2025-08-31 21:56:39,780 - src.scraping.scrapers.race_scraper - INFO - Successfully extracted race data: 201805021011 (18 horses)\n",
      "2025-08-31 21:56:39,780 - src.scraping.storage.postgresql_storage - INFO - Race Is: Race(race_id='201805021011', race_date=datetime.date(2018, 5, 20), track_name='東京1', race_number=11, race_name='第79回優駿牝馬(GI)', distance=2400, track_type='芝', total_horses=18, grade='G1', track_direction='左', weather='晴', track_condition='良', start_time=datetime.time(15, 40), winning_time='2:23.8', pace=None, prize_1st=None, race_class=None, race_conditions=None, created_at=None, updated_at=None)\n",
      "2025-08-31 21:56:39,940 - src.scraping.scrapers.race_scraper - INFO - race detail url: https://db.netkeiba.com/race/201805020811/\n"
     ]
    },
    {
     "name": "stdout",
     "output_type": "stream",
     "text": [
      "現在処理中のレース: Race(race_id='201805021011', race_date=datetime.date(2018, 5, 20), track_name='東京1', race_number=11, race_name='第79回優駿牝馬(GI)', distance=2400, track_type='芝', total_horses=18, grade='G1', track_direction='左', weather='晴', track_condition='良', start_time=datetime.time(15, 40), winning_time='2:23.8', pace=None, prize_1st=None, race_class=None, race_conditions=None, created_at=None, updated_at=None)\n"
     ]
    },
    {
     "name": "stderr",
     "output_type": "stream",
     "text": [
      "2025-08-31 21:56:40,484 - src.scraping.extractors.race.race_detail_extractor - INFO - Extracted 18 race results for 201805020811\n",
      "2025-08-31 21:56:40,484 - src.scraping.scrapers.race_scraper - INFO - Successfully extracted race data: 201805020811 (18 horses)\n",
      "2025-08-31 21:56:40,485 - src.scraping.storage.postgresql_storage - INFO - Race Is: Race(race_id='201805020811', race_date=datetime.date(2018, 5, 13), track_name='東京', race_number=11, race_name='第13回ヴィクトリアマイル(GI)', distance=1600, track_type='芝', total_horses=18, grade='G1', track_direction='左', weather='雨', track_condition='稍重', start_time=datetime.time(15, 40), winning_time='1:32.3', pace=None, prize_1st=None, race_class=None, race_conditions=None, created_at=None, updated_at=None)\n",
      "2025-08-31 21:56:40,628 - src.scraping.scrapers.race_scraper - INFO - race detail url: https://db.netkeiba.com/race/201805020611/\n"
     ]
    },
    {
     "name": "stdout",
     "output_type": "stream",
     "text": [
      "現在処理中のレース: Race(race_id='201805020811', race_date=datetime.date(2018, 5, 13), track_name='東京', race_number=11, race_name='第13回ヴィクトリアマイル(GI)', distance=1600, track_type='芝', total_horses=18, grade='G1', track_direction='左', weather='雨', track_condition='稍重', start_time=datetime.time(15, 40), winning_time='1:32.3', pace=None, prize_1st=None, race_class=None, race_conditions=None, created_at=None, updated_at=None)\n"
     ]
    },
    {
     "name": "stderr",
     "output_type": "stream",
     "text": [
      "2025-08-31 21:56:41,837 - src.scraping.extractors.race.race_detail_extractor - INFO - Extracted 18 race results for 201805020611\n",
      "2025-08-31 21:56:41,837 - src.scraping.scrapers.race_scraper - INFO - Successfully extracted race data: 201805020611 (18 horses)\n",
      "2025-08-31 21:56:41,838 - src.scraping.storage.postgresql_storage - INFO - Race Is: Race(race_id='201805020611', race_date=datetime.date(2018, 5, 6), track_name='東京', race_number=11, race_name='第23回NHKマイルカップ(GI)', distance=1600, track_type='芝', total_horses=18, grade='G1', track_direction='左', weather='晴', track_condition='良', start_time=datetime.time(15, 40), winning_time='1:32.8', pace=None, prize_1st=None, race_class=None, race_conditions=None, created_at=None, updated_at=None)\n"
     ]
    },
    {
     "name": "stdout",
     "output_type": "stream",
     "text": [
      "現在処理中のレース: Race(race_id='201805020611', race_date=datetime.date(2018, 5, 6), track_name='東京', race_number=11, race_name='第23回NHKマイルカップ(GI)', distance=1600, track_type='芝', total_horses=18, grade='G1', track_direction='左', weather='晴', track_condition='良', start_time=datetime.time(15, 40), winning_time='1:32.8', pace=None, prize_1st=None, race_class=None, race_conditions=None, created_at=None, updated_at=None)\n"
     ]
    },
    {
     "name": "stderr",
     "output_type": "stream",
     "text": [
      "2025-08-31 21:56:42,096 - src.scraping.scrapers.race_scraper - INFO - race detail url: https://db.netkeiba.com/race/201808030411/\n",
      "2025-08-31 21:56:43,516 - src.scraping.extractors.race.race_detail_extractor - INFO - Extracted 17 race results for 201808030411\n",
      "2025-08-31 21:56:43,517 - src.scraping.scrapers.race_scraper - INFO - Successfully extracted race data: 201808030411 (17 horses)\n",
      "2025-08-31 21:56:43,517 - src.scraping.storage.postgresql_storage - INFO - Race Is: Race(race_id='201808030411', race_date=datetime.date(2018, 4, 29), track_name='京都', race_number=11, race_name='第157回天皇賞(春)(GI)', distance=3200, track_type='芝', total_horses=17, grade='G1', track_direction='右', weather='晴', track_condition='良', start_time=datetime.time(15, 40), winning_time='3:16.2', pace=None, prize_1st=None, race_class=None, race_conditions=None, created_at=None, updated_at=None)\n",
      "2025-08-31 21:56:43,705 - src.scraping.scrapers.race_scraper - INFO - race detail url: https://db.netkeiba.com/race/201806030811/\n"
     ]
    },
    {
     "name": "stdout",
     "output_type": "stream",
     "text": [
      "現在処理中のレース: Race(race_id='201808030411', race_date=datetime.date(2018, 4, 29), track_name='京都', race_number=11, race_name='第157回天皇賞(春)(GI)', distance=3200, track_type='芝', total_horses=17, grade='G1', track_direction='右', weather='晴', track_condition='良', start_time=datetime.time(15, 40), winning_time='3:16.2', pace=None, prize_1st=None, race_class=None, race_conditions=None, created_at=None, updated_at=None)\n"
     ]
    },
    {
     "name": "stderr",
     "output_type": "stream",
     "text": [
      "2025-08-31 21:56:44,066 - src.scraping.extractors.race.race_detail_extractor - INFO - Extracted 16 race results for 201806030811\n",
      "2025-08-31 21:56:44,067 - src.scraping.scrapers.race_scraper - INFO - Successfully extracted race data: 201806030811 (16 horses)\n",
      "2025-08-31 21:56:44,067 - src.scraping.storage.postgresql_storage - INFO - Race Is: Race(race_id='201806030811', race_date=datetime.date(2018, 4, 15), track_name='中山', race_number=11, race_name='第78回皐月賞(GI)', distance=2000, track_type='芝', total_horses=16, grade='G1', track_direction='右', weather='曇', track_condition='稍重', start_time=datetime.time(15, 40), winning_time='2:00.8', pace=None, prize_1st=None, race_class=None, race_conditions=None, created_at=None, updated_at=None)\n",
      "2025-08-31 21:56:44,211 - src.scraping.scrapers.race_scraper - INFO - race detail url: https://db.netkeiba.com/race/201809020611/\n"
     ]
    },
    {
     "name": "stdout",
     "output_type": "stream",
     "text": [
      "現在処理中のレース: Race(race_id='201806030811', race_date=datetime.date(2018, 4, 15), track_name='中山', race_number=11, race_name='第78回皐月賞(GI)', distance=2000, track_type='芝', total_horses=16, grade='G1', track_direction='右', weather='曇', track_condition='稍重', start_time=datetime.time(15, 40), winning_time='2:00.8', pace=None, prize_1st=None, race_class=None, race_conditions=None, created_at=None, updated_at=None)\n"
     ]
    },
    {
     "name": "stderr",
     "output_type": "stream",
     "text": [
      "2025-08-31 21:56:44,828 - src.scraping.extractors.race.race_detail_extractor - INFO - Extracted 18 race results for 201809020611\n",
      "2025-08-31 21:56:44,829 - src.scraping.scrapers.race_scraper - INFO - Successfully extracted race data: 201809020611 (18 horses)\n",
      "2025-08-31 21:56:44,830 - src.scraping.storage.postgresql_storage - INFO - Race Is: Race(race_id='201809020611', race_date=datetime.date(2018, 4, 8), track_name='阪神', race_number=11, race_name='第78回桜花賞(GI)', distance=1600, track_type='芝', total_horses=18, grade='G1', track_direction='右', weather='晴', track_condition='良', start_time=datetime.time(15, 40), winning_time='1:33.1', pace=None, prize_1st=None, race_class=None, race_conditions=None, created_at=None, updated_at=None)\n"
     ]
    },
    {
     "name": "stdout",
     "output_type": "stream",
     "text": [
      "現在処理中のレース: Race(race_id='201809020611', race_date=datetime.date(2018, 4, 8), track_name='阪神', race_number=11, race_name='第78回桜花賞(GI)', distance=1600, track_type='芝', total_horses=18, grade='G1', track_direction='右', weather='晴', track_condition='良', start_time=datetime.time(15, 40), winning_time='1:33.1', pace=None, prize_1st=None, race_class=None, race_conditions=None, created_at=None, updated_at=None)\n"
     ]
    }
   ],
   "source": [
    "# レース詳細と結果を取得して保存\n",
    "storage = PostgreSQLStorage()\n",
    "\n",
    "# race_list = race_list[:3]  # テストのため3件に制限\n",
    "\n",
    "for race in race_list:\n",
    "    race_detail, race_results = scraper.scrape_race_detail(race['race_id'])\n",
    "\n",
    "    print(f\"現在処理中のレース: {race_detail}\")\n",
    "\n",
    "    storage.insert_race(race_detail)\n",
    "    storage.insert_race_results(race_results)"
   ]
  }
 ],
 "metadata": {
  "kernelspec": {
   "display_name": ".venv",
   "language": "python",
   "name": "python3"
  },
  "language_info": {
   "codemirror_mode": {
    "name": "ipython",
    "version": 3
   },
   "file_extension": ".py",
   "mimetype": "text/x-python",
   "name": "python",
   "nbconvert_exporter": "python",
   "pygments_lexer": "ipython3",
   "version": "3.13.0"
  }
 },
 "nbformat": 4,
 "nbformat_minor": 2
}
