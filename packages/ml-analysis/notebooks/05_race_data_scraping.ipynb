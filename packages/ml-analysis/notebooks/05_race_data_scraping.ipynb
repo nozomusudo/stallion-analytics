{
 "cells": [
  {
   "cell_type": "code",
   "execution_count": 3,
   "metadata": {},
   "outputs": [
    {
     "name": "stdout",
     "output_type": "stream",
     "text": [
      "=== 競馬レースデータ収集システム ===\n",
      "実行時刻: 2025-08-31 01:25:01.670054\n"
     ]
    }
   ],
   "source": [
    "import sys\n",
    "import os\n",
    "import logging\n",
    "from datetime import datetime, date\n",
    "import pandas as pd\n",
    "import json\n",
    "\n",
    "# プロジェクトのルートディレクトリをパスに追加\n",
    "sys.path.append('..')\n",
    "\n",
    "# ログ設定\n",
    "logging.basicConfig(\n",
    "    level=logging.INFO,\n",
    "    format='%(asctime)s - %(name)s - %(levelname)s - %(message)s'\n",
    ")\n",
    "\n",
    "print(\"=== 競馬レースデータ収集システム ===\")\n",
    "print(f\"実行時刻: {datetime.now()}\")\n"
   ]
  },
  {
   "cell_type": "code",
   "execution_count": 4,
   "metadata": {},
   "outputs": [
    {
     "name": "stdout",
     "output_type": "stream",
     "text": [
      "✅ システム初期化完了\n"
     ]
    }
   ],
   "source": [
    "# 必要なモジュールをインポート\n",
    "from src.scraping.scrapers.race_scraper import RaceScraper\n",
    "from src.scraping.storage.race_storage import RaceStorage\n",
    "from src.database.schemas.race_schema import Race, RaceResult\n",
    "\n",
    "# スクレイパーとストレージを初期化\n",
    "scraper = RaceScraper(delay=1.0)  # 1秒間隔でリクエスト\n",
    "storage = RaceStorage()\n",
    "\n",
    "print(\"✅ システム初期化完了\")"
   ]
  },
  {
   "cell_type": "code",
   "execution_count": null,
   "metadata": {},
   "outputs": [],
   "source": [
    "# テスト: 2024年G1レースリストを取得（実際のスクレイピングは行わない）\n",
    "print(\"=== Testing Race List Extraction ===\")\n",
    "race_list = scraper.scrape_race_list_by_conditions(\n",
    "    start_year=2010,\n",
    "    end_year=2012,\n",
    "    grades=['1'],\n",
    "    limit=20\n",
    ")\n",
    "\n",
    "print(f\"Found {len(race_list)} races\")\n",
    "for race in race_list[:3]:  # 最初の3件のみ表示\n",
    "    print(f\"  - {race}\")"
   ]
  }
 ],
 "metadata": {
  "kernelspec": {
   "display_name": ".venv",
   "language": "python",
   "name": "python3"
  },
  "language_info": {
   "codemirror_mode": {
    "name": "ipython",
    "version": 3
   },
   "file_extension": ".py",
   "mimetype": "text/x-python",
   "name": "python",
   "nbconvert_exporter": "python",
   "pygments_lexer": "ipython3",
   "version": "3.13.0"
  }
 },
 "nbformat": 4,
 "nbformat_minor": 2
}
