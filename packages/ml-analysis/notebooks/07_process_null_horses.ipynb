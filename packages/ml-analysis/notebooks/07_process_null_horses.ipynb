{
 "cells": [
  {
   "cell_type": "code",
   "execution_count": 1,
   "metadata": {},
   "outputs": [
    {
     "name": "stdout",
     "output_type": "stream",
     "text": [
      "=== 競馬レースデータ収集システム ===\n",
      "実行時刻: 2025-09-01 20:20:06.029243\n"
     ]
    }
   ],
   "source": [
    "import sys\n",
    "import os\n",
    "import logging\n",
    "from datetime import datetime, date\n",
    "import pandas as pd\n",
    "import psycopg2\n",
    "from psycopg2.extras import RealDictCursor\n",
    "from sqlalchemy import create_engine\n",
    "import json\n",
    "from dotenv import load_dotenv\n",
    "\n",
    "# プロジェクトのルートディレクトリをパスに追加\n",
    "sys.path.append('..')\n",
    "\n",
    "# ログ設定\n",
    "logging.basicConfig(\n",
    "    level=logging.WARNING, # WARNING以上のみ表示（INFO, DEBUGを非表示）\n",
    "    format='%(asctime)s - %(name)s - %(levelname)s - %(message)s'\n",
    ")\n",
    "\n",
    "# 環境変数読み込み\n",
    "load_dotenv()\n",
    "\n",
    "print(\"=== 競馬レースデータ収集システム ===\")\n",
    "print(f\"実行時刻: {datetime.now()}\")\n",
    "\n"
   ]
  },
  {
   "cell_type": "code",
   "execution_count": 2,
   "metadata": {},
   "outputs": [
    {
     "name": "stdout",
     "output_type": "stream",
     "text": [
      "✅ システム初期化完了\n"
     ]
    }
   ],
   "source": [
    "# 必要なモジュールをインポート\n",
    "from src.scraping.scrapers.race_scraper import RaceScraper\n",
    "from src.scraping.scrapers.horse_scraper import HorseScraper\n",
    "from src.database.schemas.race_schema import Race, RaceResult\n",
    "from src.scraping.storage.postgresql_storage import PostgreSQLStorage\n",
    "\n",
    "print(\"✅ システム初期化完了\")"
   ]
  },
  {
   "cell_type": "code",
   "execution_count": 3,
   "metadata": {},
   "outputs": [
    {
     "name": "stdout",
     "output_type": "stream",
     "text": [
      "🔌 データベース接続を設定中...\n",
      "✅ 接続設定完了\n"
     ]
    }
   ],
   "source": [
    "# =============================================================================\n",
    "# 1. 接続設定\n",
    "# =============================================================================\n",
    "\n",
    "print(\"🔌 データベース接続を設定中...\")\n",
    "\n",
    "# PostgreSQL接続設定\n",
    "pg_config = {\n",
    "    'host': os.getenv('POSTGRES_HOST', 'localhost'),\n",
    "    'database': os.getenv('POSTGRES_DB', 'stallion_db'),\n",
    "    'user': os.getenv('POSTGRES_USER', 'stallion_user'),\n",
    "    'password': os.getenv('POSTGRES_PASSWORD'),\n",
    "    'port': int(os.getenv('POSTGRES_PORT', '5432'))\n",
    "}\n",
    "\n",
    "# SQLAlchemy エンジン作成（pandasで使用）\n",
    "DATABASE_URL = f\"postgresql://{pg_config['user']}:{pg_config['password']}@{pg_config['host']}:{pg_config['port']}/{pg_config['database']}\"\n",
    "engine = create_engine(DATABASE_URL)\n",
    "\n",
    "print(\"✅ 接続設定完了\")"
   ]
  },
  {
   "cell_type": "code",
   "execution_count": 4,
   "metadata": {},
   "outputs": [],
   "source": [
    "# =============================================================================\n",
    "# pandas.read_sql\n",
    "# =============================================================================\n",
    "\n",
    "def query(sql):\n",
    "    \"\"\"SQLクエリを実行してDataFrameで結果を返す\"\"\"\n",
    "    return pd.read_sql(sql, engine)\n",
    "\n",
    "def show_tables():\n",
    "    \"\"\"全テーブル一覧を表示\"\"\"\n",
    "    sql = \"SELECT table_name FROM information_schema.tables WHERE table_schema = 'public';\"\n",
    "    return query(sql)\n",
    "\n",
    "def desc(table_name):\n",
    "    \"\"\"テーブル構造を表示\"\"\"\n",
    "    sql = f\"\"\"\n",
    "    SELECT column_name, data_type, is_nullable, column_default \n",
    "    FROM information_schema.columns \n",
    "    WHERE table_name = '{table_name}' \n",
    "    ORDER BY ordinal_position;\n",
    "    \"\"\"\n",
    "    return query(sql)\n",
    "\n",
    "def count_all(table_name):\n",
    "    \"\"\"テーブルの行数を取得\"\"\"\n",
    "    sql = f\"SELECT COUNT(*) as count FROM {table_name};\"\n",
    "    return query(sql).iloc[0, 0]"
   ]
  },
  {
   "cell_type": "code",
   "execution_count": 17,
   "metadata": {},
   "outputs": [
    {
     "name": "stdout",
     "output_type": "stream",
     "text": [
      "📋 全テーブル一覧\n",
      "             id    name_ja\n",
      "0    2011104344  ハギノハイブリッド\n",
      "1    2011102556  メイショウスミトモ\n",
      "2    2016106126     ソルトイブキ\n",
      "3    2013102679    ロードクエスト\n",
      "4    2015101654  アフリカンゴールド\n",
      "..          ...        ...\n",
      "295  2014105887    サトノアーサー\n",
      "296  2014110081   ベストアプローチ\n",
      "297  2014105517   スティッフェリオ\n",
      "298  2014106132  トリコロールブルー\n",
      "299  2014100534    ウインガナドル\n",
      "\n",
      "[300 rows x 2 columns]\n"
     ]
    }
   ],
   "source": [
    "# 仮で登録したhorseデータを全て取得\n",
    "\n",
    "print(\"📋 全テーブル一覧\")\n",
    "\n",
    "df = query(\"\"\"\n",
    "        SELECT\n",
    "            id,\n",
    "            name_ja\n",
    "        FROM horses\n",
    "        WHERE profile IS NULL\n",
    "        LIMIT 100;\n",
    "\n",
    "    \"\"\")\n",
    "print(df)\n",
    "\n",
    "horse_list = df.to_dict('records')\n",
    "# print(horse_list)"
   ]
  },
  {
   "cell_type": "code",
   "execution_count": 9,
   "metadata": {},
   "outputs": [
    {
     "name": "stdout",
     "output_type": "stream",
     "text": [
      "{'id': '2011104344', 'name_ja': 'ハギノハイブリッド'}\n",
      "🔍 ページ取得: https://db.netkeiba.com/horse/2011104051/\n",
      "🔍 馬詳細ページ取得: 2011104051\n",
      "    📄 ページタイトル: ワールドインパクト (World Impact) | 競走馬データ - netkeiba\n",
      "    📝 馬名取得: ワールドインパクト\n",
      "    🔤 性別取得: stallion\n",
      "    🔤 英語名取得: World Impact\n",
      "    ✅ プロフィールテーブル発見\n",
      "      - 生年月日 (birth_date): 2011-04-05\n",
      "      - 調教師 (trainer): 友道康夫(栗東)\n",
      "      - 馬主 (owner): シルクレーシング\n",
      "      - 募集情報 (offering_info): {'price_per_unit': 9, 'total_units': 500, 'raw_text': '1口:9万円/500口'}\n",
      "      - 生産者 (breeder): ノーザンファーム\n",
      "      - 産地 (birthplace): 安平町\n",
      "      - 獲得賞金 (中央) (total_prize_central): 5818\n",
      "      - 通算成績 (career_record): {'starts': 11, 'wins': 2, 'win_rate': 18.2, 'first': 2, 'second': 5, 'third': 0, 'others': 4}\n",
      "      - 近親馬 (related_horses): トリコロールブルー、ダノンジェラート\n",
      "  🌳 血統関係取得: 2011104051\n",
      "    🧬 父ID設定: 2002100816\n",
      "    🧬 母ID設定: 000a010b6f\n",
      "    🧬 母父ID設定: 000a002328\n",
      "    💕 種付関係新規作成: 2002100816 × 000a010b6f → 子供: 2011104051\n",
      "    📋 取得データ項目数: 16\n",
      "  ✅ 基本情報取得成功: ワールドインパクト\n"
     ]
    }
   ],
   "source": [
    "# 取得された馬に対して、 horsesと horse_relationsを登録\n",
    "\n",
    "horse_scraper = HorseScraper(delay=1.0)\n",
    "horse_storage = PostgreSQLStorage()\n",
    "\n",
    "for horse in horse_list:\n",
    "    horse_id = horse['id']\n",
    "    result = horse_scraper.scrape_horse_detail(horse_id=horse_id)\n",
    "\n",
    "    # スクレイピング成功時のみ保存\n",
    "    if result:\n",
    "        horse_data = result[0]\n",
    "        relations = result[1]\n",
    "\n",
    "        horse_storage.insert_horse_full(horse_data)\n",
    "        horse_storage.insert_horse_relations(relations)\n",
    "        print(f\"✅ 馬情報保存完了: {horse['name_ja']} (ID: {horse_id})\")\n",
    "    else:\n",
    "        print(f\"❌ 馬情報のスクレイピングに失敗: ID {horse_id}\")\n",
    "\n"
   ]
  }
 ],
 "metadata": {
  "kernelspec": {
   "display_name": ".venv",
   "language": "python",
   "name": "python3"
  },
  "language_info": {
   "codemirror_mode": {
    "name": "ipython",
    "version": 3
   },
   "file_extension": ".py",
   "mimetype": "text/x-python",
   "name": "python",
   "nbconvert_exporter": "python",
   "pygments_lexer": "ipython3",
   "version": "3.13.0"
  }
 },
 "nbformat": 4,
 "nbformat_minor": 2
}
