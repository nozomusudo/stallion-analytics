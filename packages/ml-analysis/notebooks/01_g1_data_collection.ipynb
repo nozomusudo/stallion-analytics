{
 "cells": [
  {
   "cell_type": "code",
   "execution_count": 2,
   "metadata": {},
   "outputs": [
    {
     "name": "stdout",
     "output_type": "stream",
     "text": [
      "🏇 競馬G1データ収集ノートブック\n",
      "📚 ライブラリ読み込み中...\n",
      "✅ スクレイピングモジュール読み込み完了\n",
      "🎯 準備完了！\n"
     ]
    }
   ],
   "source": [
    "# セル1: 環境設定とライブラリ読み込み\n",
    "import sys\n",
    "import os\n",
    "sys.path.append('../src')\n",
    "\n",
    "print(\"🏇 競馬G1データ収集ノートブック\")\n",
    "print(\"📚 ライブラリ読み込み中...\")\n",
    "\n",
    "import pandas as pd\n",
    "import json\n",
    "from datetime import datetime\n",
    "\n",
    "try:\n",
    "    from scraping.horse_list_scraper import G1HorseScraper  # ← 修正\n",
    "    print(\"✅ スクレイピングモジュール読み込み完了\")\n",
    "except ImportError as e:\n",
    "    print(f\"❌ インポートエラー: {e}\")\n",
    "\n",
    "print(\"🎯 準備完了！\")"
   ]
  },
  {
   "cell_type": "code",
   "execution_count": 3,
   "metadata": {},
   "outputs": [
    {
     "ename": "ImportError",
     "evalue": "cannot import name 'HorseListScraper' from 'scraping.horse_list_scraper' (/Users/skdata_mng/Documents/PROJECTS/STALLION/stallion-analytics/packages/ml-analysis/notebooks/../src/scraping/horse_list_scraper.py)",
     "output_type": "error",
     "traceback": [
      "\u001b[31m---------------------------------------------------------------------------\u001b[39m",
      "\u001b[31mImportError\u001b[39m                               Traceback (most recent call last)",
      "\u001b[36mCell\u001b[39m\u001b[36m \u001b[39m\u001b[32mIn[3]\u001b[39m\u001b[32m, line 8\u001b[39m\n\u001b[32m      6\u001b[39m \u001b[38;5;28;01mimport\u001b[39;00m\u001b[38;5;250m \u001b[39m\u001b[34;01mpandas\u001b[39;00m\u001b[38;5;250m \u001b[39m\u001b[38;5;28;01mas\u001b[39;00m\u001b[38;5;250m \u001b[39m\u001b[34;01mpd\u001b[39;00m\n\u001b[32m      7\u001b[39m \u001b[38;5;28;01mimport\u001b[39;00m\u001b[38;5;250m \u001b[39m\u001b[34;01mjson\u001b[39;00m\n\u001b[32m----> \u001b[39m\u001b[32m8\u001b[39m \u001b[38;5;28;01mfrom\u001b[39;00m\u001b[38;5;250m \u001b[39m\u001b[34;01mscraping\u001b[39;00m\u001b[34;01m.\u001b[39;00m\u001b[34;01mhorse_list_scraper\u001b[39;00m\u001b[38;5;250m \u001b[39m\u001b[38;5;28;01mimport\u001b[39;00m HorseListScraper\n",
      "\u001b[31mImportError\u001b[39m: cannot import name 'HorseListScraper' from 'scraping.horse_list_scraper' (/Users/skdata_mng/Documents/PROJECTS/STALLION/stallion-analytics/packages/ml-analysis/notebooks/../src/scraping/horse_list_scraper.py)"
     ]
    }
   ],
   "source": [
    "# セル2: スクレイピング実行（テスト）\n",
    "print(\"🚀 G1馬データのスクレイピングを開始します...\")\n",
    "\n",
    "scraper = G1HorseScraper()\n",
    "horses = scraper.run(\n",
    "    max_horses=5,           # テスト用に5頭のみ\n",
    "    min_birth_year=2018,    # 2018年以降生まれ\n",
    "    save_to_db=True         # Supabaseに保存\n",
    ")\n",
    "\n",
    "print(f\"📊 {len(horses)}頭のデータを取得しました\")"
   ]
  },
  {
   "cell_type": "code",
   "execution_count": null,
   "metadata": {},
   "outputs": [],
   "source": [
    "# セル3: 取得データの詳細確認\n",
    "print(\"🔍 取得したデータの詳細:\")\n",
    "print(\"-\" * 50)\n",
    "\n",
    "for i, horse in enumerate(horses, 1):\n",
    "    print(f\"{i}. ID: {horse['id']}\")\n",
    "    print(f\"   名前: {horse['name_ja']}\")\n",
    "    print(f\"   性別: {horse['sex']}\")\n",
    "    print(f\"   生年: {horse['birth_year']}\")\n",
    "    print()"
   ]
  },
  {
   "cell_type": "code",
   "execution_count": null,
   "metadata": {},
   "outputs": [],
   "source": [
    "# セル4: DataFrame化\n",
    "import pandas as pd\n",
    "\n",
    "print(\"📈 データをDataFrameに変換...\")\n",
    "df = pd.DataFrame(horses)\n",
    "\n",
    "print(\"データフレーム情報:\")\n",
    "print(df.info())\n",
    "print(\"\\n基本統計:\")\n",
    "print(df.describe())\n",
    "print(\"\\nデータサンプル:\")\n",
    "df.head()"
   ]
  },
  {
   "cell_type": "code",
   "execution_count": null,
   "metadata": {},
   "outputs": [],
   "source": [
    "# セル5: ローカルファイルに保存\n",
    "import json\n",
    "from datetime import datetime\n",
    "\n",
    "# タイムスタンプ付きでファイル保存\n",
    "timestamp = datetime.now().strftime(\"%Y%m%d_%H%M%S\")\n",
    "filename = f\"../data/raw/g1_horses_sample_{timestamp}.json\"\n",
    "\n",
    "print(f\"💾 データを保存: {filename}\")\n",
    "\n",
    "# JSONファイルとして保存\n",
    "with open(filename, 'w', encoding='utf-8') as f:\n",
    "    json.dump(horses, f, ensure_ascii=False, indent=2)\n",
    "\n",
    "# CSVファイルとしても保存\n",
    "csv_filename = f\"../data/raw/g1_horses_sample_{timestamp}.csv\"\n",
    "df.to_csv(csv_filename, index=False, encoding='utf-8')\n",
    "\n",
    "print(f\"✅ JSON: {filename}\")\n",
    "print(f\"✅ CSV: {csv_filename}\")\n",
    "print(\"データ保存完了！\")"
   ]
  },
  {
   "cell_type": "code",
   "execution_count": null,
   "metadata": {},
   "outputs": [],
   "source": []
  }
 ],
 "metadata": {
  "kernelspec": {
   "display_name": ".venv",
   "language": "python",
   "name": "python3"
  },
  "language_info": {
   "codemirror_mode": {
    "name": "ipython",
    "version": 3
   },
   "file_extension": ".py",
   "mimetype": "text/x-python",
   "name": "python",
   "nbconvert_exporter": "python",
   "pygments_lexer": "ipython3",
   "version": "3.13.0"
  }
 },
 "nbformat": 4,
 "nbformat_minor": 2
}
