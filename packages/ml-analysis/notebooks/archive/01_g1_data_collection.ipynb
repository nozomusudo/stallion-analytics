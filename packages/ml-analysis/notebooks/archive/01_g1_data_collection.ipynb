{
 "cells": [
  {
   "cell_type": "code",
   "execution_count": 2,
   "metadata": {},
   "outputs": [
    {
     "name": "stdout",
     "output_type": "stream",
     "text": [
      "🏇 競馬G1データ収集ノートブック\n",
      "📚 ライブラリ読み込み中...\n",
      "✅ スクレイピングモジュール読み込み完了\n",
      "🎯 準備完了！\n"
     ]
    }
   ],
   "source": [
    "# セル1: 環境設定とライブラリ読み込み\n",
    "import sys\n",
    "import os\n",
    "sys.path.append('../src')\n",
    "\n",
    "print(\"🏇 競馬G1データ収集ノートブック\")\n",
    "print(\"📚 ライブラリ読み込み中...\")\n",
    "\n",
    "import pandas as pd\n",
    "import json\n",
    "from datetime import datetime\n",
    "\n",
    "try:\n",
    "    from scraping.horse_list_scraper import G1HorseScraper  # ← 修正\n",
    "    print(\"✅ スクレイピングモジュール読み込み完了\")\n",
    "except ImportError as e:\n",
    "    print(f\"❌ インポートエラー: {e}\")\n",
    "\n",
    "print(\"🎯 準備完了！\")"
   ]
  },
  {
   "cell_type": "code",
   "execution_count": 4,
   "metadata": {},
   "outputs": [
    {
     "name": "stdout",
     "output_type": "stream",
     "text": [
      "🚀 G1馬データのスクレイピングを開始します...\n",
      "🏇 G1馬スクレイピング開始\n",
      "📋 設定: 最大5頭、2018年以降生まれ\n",
      "🐎 G1馬を最大5頭、2018年以降生まれから取得開始...\n",
      "📄 ページ1を処理中...\n",
      "  ✓ カムニャック (2022年生)\n",
      "  ✓ クロワデュノール (2022年生)\n",
      "  ✓ ミリアッドラヴ (2022年生)\n",
      "  ✓ アドマイヤズーム (2022年生)\n",
      "  ✓ パンジャタワー (2022年生)\n",
      "🎯 合計5頭の馬を取得しました\n",
      "\n",
      "📊 取得結果:\n",
      "  ID: 2022105402, 名前: カムニャック, 生年: 2022\n",
      "  ID: 2022105102, 名前: クロワデュノール, 生年: 2022\n",
      "  ID: 2022105170, 名前: ミリアッドラヴ, 生年: 2022\n",
      "  ID: 2022105396, 名前: アドマイヤズーム, 生年: 2022\n",
      "  ID: 2022101732, 名前: パンジャタワー, 生年: 2022\n",
      "💾 Supabaseに5頭のデータを保存中...\n",
      "✅ 5件のデータを保存しました\n",
      "🎉 すべての処理が完了しました!\n",
      "📊 5頭のデータを取得しました\n"
     ]
    }
   ],
   "source": [
    "# セル2: スクレイピング実行（テスト）\n",
    "print(\"🚀 G1馬データのスクレイピングを開始します...\")\n",
    "\n",
    "scraper = G1HorseScraper()\n",
    "horses = scraper.run(\n",
    "    max_horses=5,           # テスト用に5頭のみ\n",
    "    min_birth_year=2018,    # 2018年以降生まれ\n",
    "    save_to_db=True         # Supabaseに保存\n",
    ")\n",
    "\n",
    "print(f\"📊 {len(horses)}頭のデータを取得しました\")"
   ]
  },
  {
   "cell_type": "code",
   "execution_count": 8,
   "metadata": {},
   "outputs": [
    {
     "name": "stdout",
     "output_type": "stream",
     "text": [
      "🔍 取得したデータの詳細:\n",
      "--------------------------------------------------\n",
      "1. ID: 2022105402\n",
      "   名前: カムニャック\n",
      "   性別: 牝\n",
      "   生年: 2022\n",
      "\n",
      "2. ID: 2022105102\n",
      "   名前: クロワデュノール\n",
      "   性別: 牡\n",
      "   生年: 2022\n",
      "\n",
      "3. ID: 2022105170\n",
      "   名前: ミリアッドラヴ\n",
      "   性別: 牝\n",
      "   生年: 2022\n",
      "\n",
      "4. ID: 2022105396\n",
      "   名前: アドマイヤズーム\n",
      "   性別: 牡\n",
      "   生年: 2022\n",
      "\n",
      "5. ID: 2022101732\n",
      "   名前: パンジャタワー\n",
      "   性別: 牡\n",
      "   生年: 2022\n",
      "\n"
     ]
    }
   ],
   "source": [
    "# セル3: 取得データの詳細確認\n",
    "print(\"🔍 取得したデータの詳細:\")\n",
    "print(\"-\" * 50)\n",
    "\n",
    "for i, horse in enumerate(horses, 1):\n",
    "    print(f\"{i}. ID: {horse['id']}\")\n",
    "    print(f\"   名前: {horse['name_ja']}\")\n",
    "    print(f\"   性別: {horse['sex']}\")\n",
    "    print(f\"   生年: {horse['birth_year']}\")\n",
    "    print()"
   ]
  },
  {
   "cell_type": "code",
   "execution_count": 6,
   "metadata": {},
   "outputs": [
    {
     "name": "stdout",
     "output_type": "stream",
     "text": [
      "📈 データをDataFrameに変換...\n",
      "データフレーム情報:\n",
      "<class 'pandas.core.frame.DataFrame'>\n",
      "RangeIndex: 5 entries, 0 to 4\n",
      "Data columns (total 4 columns):\n",
      " #   Column      Non-Null Count  Dtype \n",
      "---  ------      --------------  ----- \n",
      " 0   id          5 non-null      int64 \n",
      " 1   name_ja     5 non-null      object\n",
      " 2   sex         5 non-null      object\n",
      " 3   birth_year  5 non-null      int64 \n",
      "dtypes: int64(2), object(2)\n",
      "memory usage: 292.0+ bytes\n",
      "None\n",
      "\n",
      "基本統計:\n",
      "                 id  birth_year\n",
      "count  5.000000e+00         5.0\n",
      "mean   2.022105e+09      2022.0\n",
      "std    1.586766e+03         0.0\n",
      "min    2.022102e+09      2022.0\n",
      "25%    2.022105e+09      2022.0\n",
      "50%    2.022105e+09      2022.0\n",
      "75%    2.022105e+09      2022.0\n",
      "max    2.022105e+09      2022.0\n",
      "\n",
      "データサンプル:\n"
     ]
    },
    {
     "data": {
      "text/html": [
       "<div>\n",
       "<style scoped>\n",
       "    .dataframe tbody tr th:only-of-type {\n",
       "        vertical-align: middle;\n",
       "    }\n",
       "\n",
       "    .dataframe tbody tr th {\n",
       "        vertical-align: top;\n",
       "    }\n",
       "\n",
       "    .dataframe thead th {\n",
       "        text-align: right;\n",
       "    }\n",
       "</style>\n",
       "<table border=\"1\" class=\"dataframe\">\n",
       "  <thead>\n",
       "    <tr style=\"text-align: right;\">\n",
       "      <th></th>\n",
       "      <th>id</th>\n",
       "      <th>name_ja</th>\n",
       "      <th>sex</th>\n",
       "      <th>birth_year</th>\n",
       "    </tr>\n",
       "  </thead>\n",
       "  <tbody>\n",
       "    <tr>\n",
       "      <th>0</th>\n",
       "      <td>2022105402</td>\n",
       "      <td>カムニャック</td>\n",
       "      <td>牝</td>\n",
       "      <td>2022</td>\n",
       "    </tr>\n",
       "    <tr>\n",
       "      <th>1</th>\n",
       "      <td>2022105102</td>\n",
       "      <td>クロワデュノール</td>\n",
       "      <td>牡</td>\n",
       "      <td>2022</td>\n",
       "    </tr>\n",
       "    <tr>\n",
       "      <th>2</th>\n",
       "      <td>2022105170</td>\n",
       "      <td>ミリアッドラヴ</td>\n",
       "      <td>牝</td>\n",
       "      <td>2022</td>\n",
       "    </tr>\n",
       "    <tr>\n",
       "      <th>3</th>\n",
       "      <td>2022105396</td>\n",
       "      <td>アドマイヤズーム</td>\n",
       "      <td>牡</td>\n",
       "      <td>2022</td>\n",
       "    </tr>\n",
       "    <tr>\n",
       "      <th>4</th>\n",
       "      <td>2022101732</td>\n",
       "      <td>パンジャタワー</td>\n",
       "      <td>牡</td>\n",
       "      <td>2022</td>\n",
       "    </tr>\n",
       "  </tbody>\n",
       "</table>\n",
       "</div>"
      ],
      "text/plain": [
       "           id   name_ja sex  birth_year\n",
       "0  2022105402    カムニャック   牝        2022\n",
       "1  2022105102  クロワデュノール   牡        2022\n",
       "2  2022105170   ミリアッドラヴ   牝        2022\n",
       "3  2022105396  アドマイヤズーム   牡        2022\n",
       "4  2022101732   パンジャタワー   牡        2022"
      ]
     },
     "execution_count": 6,
     "metadata": {},
     "output_type": "execute_result"
    }
   ],
   "source": [
    "# セル4: DataFrame化\n",
    "import pandas as pd\n",
    "\n",
    "print(\"📈 データをDataFrameに変換...\")\n",
    "df = pd.DataFrame(horses)\n",
    "\n",
    "print(\"データフレーム情報:\")\n",
    "print(df.info())\n",
    "print(\"\\n基本統計:\")\n",
    "print(df.describe())\n",
    "print(\"\\nデータサンプル:\")\n",
    "df.head()"
   ]
  },
  {
   "cell_type": "code",
   "execution_count": 7,
   "metadata": {},
   "outputs": [
    {
     "name": "stdout",
     "output_type": "stream",
     "text": [
      "💾 データを保存: ../data/raw/g1_horses_sample_20250822_194846.json\n",
      "✅ JSON: ../data/raw/g1_horses_sample_20250822_194846.json\n",
      "✅ CSV: ../data/raw/g1_horses_sample_20250822_194846.csv\n",
      "データ保存完了！\n"
     ]
    }
   ],
   "source": [
    "# セル5: ローカルファイルに保存\n",
    "import json\n",
    "from datetime import datetime\n",
    "\n",
    "# タイムスタンプ付きでファイル保存\n",
    "timestamp = datetime.now().strftime(\"%Y%m%d_%H%M%S\")\n",
    "filename = f\"../data/raw/g1_horses_sample_{timestamp}.json\"\n",
    "\n",
    "print(f\"💾 データを保存: {filename}\")\n",
    "\n",
    "# JSONファイルとして保存\n",
    "with open(filename, 'w', encoding='utf-8') as f:\n",
    "    json.dump(horses, f, ensure_ascii=False, indent=2)\n",
    "\n",
    "# CSVファイルとしても保存\n",
    "csv_filename = f\"../data/raw/g1_horses_sample_{timestamp}.csv\"\n",
    "df.to_csv(csv_filename, index=False, encoding='utf-8')\n",
    "\n",
    "print(f\"✅ JSON: {filename}\")\n",
    "print(f\"✅ CSV: {csv_filename}\")\n",
    "print(\"データ保存完了！\")"
   ]
  },
  {
   "cell_type": "code",
   "execution_count": 9,
   "metadata": {},
   "outputs": [
    {
     "name": "stdout",
     "output_type": "stream",
     "text": [
      "\n",
      "--- 馬ID: 2019105219 完全取得開始 ---\n",
      "🔍 馬詳細ページ取得: 2019105219\n",
      "  ❌ 基本情報取得失敗\n"
     ]
    }
   ],
   "source": [
    "# 新しいセル\n",
    "from scraping.horse_detail_scraper import HorseDetailScraper\n",
    "\n",
    "detail_scraper = HorseDetailScraper()\n",
    "success = detail_scraper.scrape_horse_complete(\"2019105219\")  # イクイノックス"
   ]
  }
 ],
 "metadata": {
  "kernelspec": {
   "display_name": ".venv",
   "language": "python",
   "name": "python3"
  },
  "language_info": {
   "codemirror_mode": {
    "name": "ipython",
    "version": 3
   },
   "file_extension": ".py",
   "mimetype": "text/x-python",
   "name": "python",
   "nbconvert_exporter": "python",
   "pygments_lexer": "ipython3",
   "version": "3.13.0"
  }
 },
 "nbformat": 4,
 "nbformat_minor": 2
}
